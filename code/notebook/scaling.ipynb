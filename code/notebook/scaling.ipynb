{
 "cells": [
  {
   "cell_type": "code",
   "execution_count": 2,
   "metadata": {},
   "outputs": [],
   "source": [
    "import pandas as pd\n",
    "import numpy as np"
   ]
  },
  {
   "cell_type": "markdown",
   "metadata": {},
   "source": [
    "### lets work on 6_6 first"
   ]
  },
  {
   "cell_type": "code",
   "execution_count": 2,
   "metadata": {},
   "outputs": [],
   "source": [
    "##\n",
    "pd_6_6_v100 = pd.read_csv('../../data/submissions/test_v6_6_loss/stage_1.csv')\n",
    "pd_6_6_p100 = pd.read_csv('../../data/str_kag_2/stage_1_6_6.csv')"
   ]
  },
  {
   "cell_type": "code",
   "execution_count": 3,
   "metadata": {},
   "outputs": [
    {
     "data": {
      "text/html": [
       "<div>\n",
       "<style scoped>\n",
       "    .dataframe tbody tr th:only-of-type {\n",
       "        vertical-align: middle;\n",
       "    }\n",
       "\n",
       "    .dataframe tbody tr th {\n",
       "        vertical-align: top;\n",
       "    }\n",
       "\n",
       "    .dataframe thead th {\n",
       "        text-align: right;\n",
       "    }\n",
       "</style>\n",
       "<table border=\"1\" class=\"dataframe\">\n",
       "  <thead>\n",
       "    <tr style=\"text-align: right;\">\n",
       "      <th></th>\n",
       "      <th>ID</th>\n",
       "      <th>count</th>\n",
       "      <th>encoding</th>\n",
       "      <th>0</th>\n",
       "      <th>1</th>\n",
       "      <th>2</th>\n",
       "      <th>3</th>\n",
       "      <th>4</th>\n",
       "      <th>5</th>\n",
       "      <th>6</th>\n",
       "      <th>...</th>\n",
       "      <th>9</th>\n",
       "      <th>10</th>\n",
       "      <th>11</th>\n",
       "      <th>12</th>\n",
       "      <th>13</th>\n",
       "      <th>14</th>\n",
       "      <th>15</th>\n",
       "      <th>16</th>\n",
       "      <th>17</th>\n",
       "      <th>18</th>\n",
       "    </tr>\n",
       "  </thead>\n",
       "  <tbody>\n",
       "    <tr>\n",
       "      <th>0</th>\n",
       "      <td>0040581b-f1f2-4fbe-b043-b6bfea5404bb</td>\n",
       "      <td>1</td>\n",
       "      <td>eNqtVm2PojAQ/ksMZe+Sy21yubtc4gKDIkpBUJQ3KyD//9...</td>\n",
       "      <td>0.336334</td>\n",
       "      <td>0.033897</td>\n",
       "      <td>0.301812</td>\n",
       "      <td>0.447226</td>\n",
       "      <td>0.090477</td>\n",
       "      <td>0.169021</td>\n",
       "      <td>0.145265</td>\n",
       "      <td>...</td>\n",
       "      <td>0.124362</td>\n",
       "      <td>0.060528</td>\n",
       "      <td>0.065688</td>\n",
       "      <td>0.185014</td>\n",
       "      <td>0.170284</td>\n",
       "      <td>0.084668</td>\n",
       "      <td>0.060342</td>\n",
       "      <td>0.435709</td>\n",
       "      <td>0.336736</td>\n",
       "      <td>0.088017</td>\n",
       "    </tr>\n",
       "    <tr>\n",
       "      <th>1</th>\n",
       "      <td>0040581b-f1f2-4fbe-b043-b6bfea5404bb</td>\n",
       "      <td>2</td>\n",
       "      <td>eNrVUm1PwkAM/kvt3XgRjEajvO7uhGCEEHCgcSQi/v9vXt...</td>\n",
       "      <td>0.110140</td>\n",
       "      <td>0.016685</td>\n",
       "      <td>0.488759</td>\n",
       "      <td>0.466848</td>\n",
       "      <td>0.033412</td>\n",
       "      <td>0.026571</td>\n",
       "      <td>0.235993</td>\n",
       "      <td>...</td>\n",
       "      <td>0.157504</td>\n",
       "      <td>0.025630</td>\n",
       "      <td>0.019908</td>\n",
       "      <td>0.107970</td>\n",
       "      <td>0.123429</td>\n",
       "      <td>0.112150</td>\n",
       "      <td>0.051560</td>\n",
       "      <td>0.498646</td>\n",
       "      <td>0.257160</td>\n",
       "      <td>0.009427</td>\n",
       "    </tr>\n",
       "    <tr>\n",
       "      <th>2</th>\n",
       "      <td>0040581b-f1f2-4fbe-b043-b6bfea5404bb</td>\n",
       "      <td>3</td>\n",
       "      <td>eNoLCEgJMg4wDMg3NPQ39Df2NfaF0EZ+IBoBIXzc8oSgAR...</td>\n",
       "      <td>0.411060</td>\n",
       "      <td>0.045896</td>\n",
       "      <td>0.503939</td>\n",
       "      <td>0.271923</td>\n",
       "      <td>0.154735</td>\n",
       "      <td>0.150925</td>\n",
       "      <td>0.119339</td>\n",
       "      <td>...</td>\n",
       "      <td>0.141826</td>\n",
       "      <td>0.034614</td>\n",
       "      <td>0.052269</td>\n",
       "      <td>0.156636</td>\n",
       "      <td>0.146763</td>\n",
       "      <td>0.067964</td>\n",
       "      <td>0.114447</td>\n",
       "      <td>0.342994</td>\n",
       "      <td>0.394549</td>\n",
       "      <td>0.054016</td>\n",
       "    </tr>\n",
       "  </tbody>\n",
       "</table>\n",
       "<p>3 rows × 22 columns</p>\n",
       "</div>"
      ],
      "text/plain": [
       "                                     ID  count  \\\n",
       "0  0040581b-f1f2-4fbe-b043-b6bfea5404bb      1   \n",
       "1  0040581b-f1f2-4fbe-b043-b6bfea5404bb      2   \n",
       "2  0040581b-f1f2-4fbe-b043-b6bfea5404bb      3   \n",
       "\n",
       "                                            encoding         0         1  \\\n",
       "0  eNqtVm2PojAQ/ksMZe+Sy21yubtc4gKDIkpBUJQ3KyD//9...  0.336334  0.033897   \n",
       "1  eNrVUm1PwkAM/kvt3XgRjEajvO7uhGCEEHCgcSQi/v9vXt...  0.110140  0.016685   \n",
       "2  eNoLCEgJMg4wDMg3NPQ39Df2NfaF0EZ+IBoBIXzc8oSgAR...  0.411060  0.045896   \n",
       "\n",
       "          2         3         4         5         6  ...         9        10  \\\n",
       "0  0.301812  0.447226  0.090477  0.169021  0.145265  ...  0.124362  0.060528   \n",
       "1  0.488759  0.466848  0.033412  0.026571  0.235993  ...  0.157504  0.025630   \n",
       "2  0.503939  0.271923  0.154735  0.150925  0.119339  ...  0.141826  0.034614   \n",
       "\n",
       "         11        12        13        14        15        16        17  \\\n",
       "0  0.065688  0.185014  0.170284  0.084668  0.060342  0.435709  0.336736   \n",
       "1  0.019908  0.107970  0.123429  0.112150  0.051560  0.498646  0.257160   \n",
       "2  0.052269  0.156636  0.146763  0.067964  0.114447  0.342994  0.394549   \n",
       "\n",
       "         18  \n",
       "0  0.088017  \n",
       "1  0.009427  \n",
       "2  0.054016  \n",
       "\n",
       "[3 rows x 22 columns]"
      ]
     },
     "execution_count": 3,
     "metadata": {},
     "output_type": "execute_result"
    }
   ],
   "source": [
    "pd_6_6_v100.head(3)"
   ]
  },
  {
   "cell_type": "code",
   "execution_count": 4,
   "metadata": {},
   "outputs": [
    {
     "data": {
      "text/html": [
       "<div>\n",
       "<style scoped>\n",
       "    .dataframe tbody tr th:only-of-type {\n",
       "        vertical-align: middle;\n",
       "    }\n",
       "\n",
       "    .dataframe tbody tr th {\n",
       "        vertical-align: top;\n",
       "    }\n",
       "\n",
       "    .dataframe thead th {\n",
       "        text-align: right;\n",
       "    }\n",
       "</style>\n",
       "<table border=\"1\" class=\"dataframe\">\n",
       "  <thead>\n",
       "    <tr style=\"text-align: right;\">\n",
       "      <th></th>\n",
       "      <th>ID</th>\n",
       "      <th>count</th>\n",
       "      <th>encoding</th>\n",
       "      <th>0</th>\n",
       "      <th>1</th>\n",
       "      <th>2</th>\n",
       "      <th>3</th>\n",
       "      <th>4</th>\n",
       "      <th>5</th>\n",
       "      <th>6</th>\n",
       "      <th>...</th>\n",
       "      <th>9</th>\n",
       "      <th>10</th>\n",
       "      <th>11</th>\n",
       "      <th>12</th>\n",
       "      <th>13</th>\n",
       "      <th>14</th>\n",
       "      <th>15</th>\n",
       "      <th>16</th>\n",
       "      <th>17</th>\n",
       "      <th>18</th>\n",
       "    </tr>\n",
       "  </thead>\n",
       "  <tbody>\n",
       "    <tr>\n",
       "      <th>0</th>\n",
       "      <td>02861579-97fb-4482-a613-356e0bf5d090</td>\n",
       "      <td>1</td>\n",
       "      <td>eNq12Ol228gRBtBXYhEE5GRmnEzmeMYAySL2nViIfX//f6...</td>\n",
       "      <td>0.756969</td>\n",
       "      <td>0.150225</td>\n",
       "      <td>0.074002</td>\n",
       "      <td>0.081757</td>\n",
       "      <td>0.030632</td>\n",
       "      <td>0.092248</td>\n",
       "      <td>0.330049</td>\n",
       "      <td>...</td>\n",
       "      <td>0.038876</td>\n",
       "      <td>0.229152</td>\n",
       "      <td>0.137229</td>\n",
       "      <td>0.112763</td>\n",
       "      <td>0.050166</td>\n",
       "      <td>0.154057</td>\n",
       "      <td>0.031010</td>\n",
       "      <td>0.425211</td>\n",
       "      <td>0.201852</td>\n",
       "      <td>0.028822</td>\n",
       "    </tr>\n",
       "    <tr>\n",
       "      <th>1</th>\n",
       "      <td>02861579-97fb-4482-a613-356e0bf5d090</td>\n",
       "      <td>2</td>\n",
       "      <td>eNqtVNmSqkgQ/SUSC6WNGxMz09PSDZKAC8i+F6Ci//82lS...</td>\n",
       "      <td>0.720771</td>\n",
       "      <td>0.042627</td>\n",
       "      <td>0.056232</td>\n",
       "      <td>0.072030</td>\n",
       "      <td>0.055167</td>\n",
       "      <td>0.096245</td>\n",
       "      <td>0.177644</td>\n",
       "      <td>...</td>\n",
       "      <td>0.044284</td>\n",
       "      <td>0.358046</td>\n",
       "      <td>0.198756</td>\n",
       "      <td>0.199114</td>\n",
       "      <td>0.079672</td>\n",
       "      <td>0.044123</td>\n",
       "      <td>0.027741</td>\n",
       "      <td>0.502750</td>\n",
       "      <td>0.153113</td>\n",
       "      <td>0.024135</td>\n",
       "    </tr>\n",
       "    <tr>\n",
       "      <th>2</th>\n",
       "      <td>02861579-97fb-4482-a613-356e0bf5d090</td>\n",
       "      <td>3</td>\n",
       "      <td>eNqVVn17ojAM/0oNuInDu3vupuJUAsJkY6DTwTzfkO//3y...</td>\n",
       "      <td>0.795245</td>\n",
       "      <td>0.054924</td>\n",
       "      <td>0.064855</td>\n",
       "      <td>0.054077</td>\n",
       "      <td>0.028469</td>\n",
       "      <td>0.096710</td>\n",
       "      <td>0.274223</td>\n",
       "      <td>...</td>\n",
       "      <td>0.050017</td>\n",
       "      <td>0.190109</td>\n",
       "      <td>0.102981</td>\n",
       "      <td>0.099474</td>\n",
       "      <td>0.055067</td>\n",
       "      <td>0.086317</td>\n",
       "      <td>0.023467</td>\n",
       "      <td>0.420885</td>\n",
       "      <td>0.319187</td>\n",
       "      <td>0.009223</td>\n",
       "    </tr>\n",
       "  </tbody>\n",
       "</table>\n",
       "<p>3 rows × 22 columns</p>\n",
       "</div>"
      ],
      "text/plain": [
       "                                     ID  count  \\\n",
       "0  02861579-97fb-4482-a613-356e0bf5d090      1   \n",
       "1  02861579-97fb-4482-a613-356e0bf5d090      2   \n",
       "2  02861579-97fb-4482-a613-356e0bf5d090      3   \n",
       "\n",
       "                                            encoding         0         1  \\\n",
       "0  eNq12Ol228gRBtBXYhEE5GRmnEzmeMYAySL2nViIfX//f6...  0.756969  0.150225   \n",
       "1  eNqtVNmSqkgQ/SUSC6WNGxMz09PSDZKAC8i+F6Ci//82lS...  0.720771  0.042627   \n",
       "2  eNqVVn17ojAM/0oNuInDu3vupuJUAsJkY6DTwTzfkO//3y...  0.795245  0.054924   \n",
       "\n",
       "          2         3         4         5         6  ...         9        10  \\\n",
       "0  0.074002  0.081757  0.030632  0.092248  0.330049  ...  0.038876  0.229152   \n",
       "1  0.056232  0.072030  0.055167  0.096245  0.177644  ...  0.044284  0.358046   \n",
       "2  0.064855  0.054077  0.028469  0.096710  0.274223  ...  0.050017  0.190109   \n",
       "\n",
       "         11        12        13        14        15        16        17  \\\n",
       "0  0.137229  0.112763  0.050166  0.154057  0.031010  0.425211  0.201852   \n",
       "1  0.198756  0.199114  0.079672  0.044123  0.027741  0.502750  0.153113   \n",
       "2  0.102981  0.099474  0.055067  0.086317  0.023467  0.420885  0.319187   \n",
       "\n",
       "         18  \n",
       "0  0.028822  \n",
       "1  0.024135  \n",
       "2  0.009223  \n",
       "\n",
       "[3 rows x 22 columns]"
      ]
     },
     "execution_count": 4,
     "metadata": {},
     "output_type": "execute_result"
    }
   ],
   "source": [
    "pd_6_6_p100.head(3)"
   ]
  },
  {
   "cell_type": "code",
   "execution_count": 5,
   "metadata": {},
   "outputs": [],
   "source": [
    "### lets extract the unique token from p100\n",
    "p100_unique_val = pd_6_6_p100['ID'].unique()\n",
    "\n",
    "pd_6_6_v100_filtered = pd_6_6_v100[pd_6_6_v100['ID'].isin(p100_unique_val)]"
   ]
  },
  {
   "cell_type": "code",
   "execution_count": 6,
   "metadata": {},
   "outputs": [
    {
     "name": "stdout",
     "output_type": "stream",
     "text": [
      "(9868, 22) (9868, 22)\n"
     ]
    }
   ],
   "source": [
    "print(pd_6_6_v100_filtered.shape, pd_6_6_p100.shape)"
   ]
  },
  {
   "cell_type": "code",
   "execution_count": 7,
   "metadata": {},
   "outputs": [
    {
     "data": {
      "text/html": [
       "<div>\n",
       "<style scoped>\n",
       "    .dataframe tbody tr th:only-of-type {\n",
       "        vertical-align: middle;\n",
       "    }\n",
       "\n",
       "    .dataframe tbody tr th {\n",
       "        vertical-align: top;\n",
       "    }\n",
       "\n",
       "    .dataframe thead th {\n",
       "        text-align: right;\n",
       "    }\n",
       "</style>\n",
       "<table border=\"1\" class=\"dataframe\">\n",
       "  <thead>\n",
       "    <tr style=\"text-align: right;\">\n",
       "      <th></th>\n",
       "      <th>ID</th>\n",
       "      <th>count</th>\n",
       "      <th>encoding</th>\n",
       "      <th>0</th>\n",
       "      <th>1</th>\n",
       "      <th>2</th>\n",
       "      <th>3</th>\n",
       "      <th>4</th>\n",
       "      <th>5</th>\n",
       "      <th>6</th>\n",
       "      <th>...</th>\n",
       "      <th>9</th>\n",
       "      <th>10</th>\n",
       "      <th>11</th>\n",
       "      <th>12</th>\n",
       "      <th>13</th>\n",
       "      <th>14</th>\n",
       "      <th>15</th>\n",
       "      <th>16</th>\n",
       "      <th>17</th>\n",
       "      <th>18</th>\n",
       "    </tr>\n",
       "  </thead>\n",
       "  <tbody>\n",
       "    <tr>\n",
       "      <th>217</th>\n",
       "      <td>02861579-97fb-4482-a613-356e0bf5d090</td>\n",
       "      <td>1</td>\n",
       "      <td>eNq12Ol228gRBtBXYpEE5GRmnEzmeMYAycK+g1iIfX//f6...</td>\n",
       "      <td>0.754483</td>\n",
       "      <td>0.127106</td>\n",
       "      <td>0.074637</td>\n",
       "      <td>0.080416</td>\n",
       "      <td>0.034525</td>\n",
       "      <td>0.115932</td>\n",
       "      <td>0.329144</td>\n",
       "      <td>...</td>\n",
       "      <td>0.037676</td>\n",
       "      <td>0.207956</td>\n",
       "      <td>0.128064</td>\n",
       "      <td>0.113851</td>\n",
       "      <td>0.049902</td>\n",
       "      <td>0.151036</td>\n",
       "      <td>0.032665</td>\n",
       "      <td>0.440464</td>\n",
       "      <td>0.193190</td>\n",
       "      <td>0.028302</td>\n",
       "    </tr>\n",
       "    <tr>\n",
       "      <th>218</th>\n",
       "      <td>02861579-97fb-4482-a613-356e0bf5d090</td>\n",
       "      <td>2</td>\n",
       "      <td>eNqtVNmSqkgQ/SUSC6WNGxMz09PSDZKAC8i+F6Ci//82lS...</td>\n",
       "      <td>0.710326</td>\n",
       "      <td>0.044746</td>\n",
       "      <td>0.058104</td>\n",
       "      <td>0.071665</td>\n",
       "      <td>0.058592</td>\n",
       "      <td>0.099247</td>\n",
       "      <td>0.183146</td>\n",
       "      <td>...</td>\n",
       "      <td>0.043941</td>\n",
       "      <td>0.370971</td>\n",
       "      <td>0.196121</td>\n",
       "      <td>0.205278</td>\n",
       "      <td>0.074006</td>\n",
       "      <td>0.045804</td>\n",
       "      <td>0.028272</td>\n",
       "      <td>0.493293</td>\n",
       "      <td>0.151527</td>\n",
       "      <td>0.023123</td>\n",
       "    </tr>\n",
       "    <tr>\n",
       "      <th>219</th>\n",
       "      <td>02861579-97fb-4482-a613-356e0bf5d090</td>\n",
       "      <td>3</td>\n",
       "      <td>eNqVVn17ojAM/0oNuInDu3vupuJUAsJkY6DTwTzfkO//3y...</td>\n",
       "      <td>0.784326</td>\n",
       "      <td>0.055428</td>\n",
       "      <td>0.063754</td>\n",
       "      <td>0.051896</td>\n",
       "      <td>0.030660</td>\n",
       "      <td>0.105663</td>\n",
       "      <td>0.279695</td>\n",
       "      <td>...</td>\n",
       "      <td>0.052709</td>\n",
       "      <td>0.200375</td>\n",
       "      <td>0.096160</td>\n",
       "      <td>0.098165</td>\n",
       "      <td>0.057252</td>\n",
       "      <td>0.091030</td>\n",
       "      <td>0.025655</td>\n",
       "      <td>0.422079</td>\n",
       "      <td>0.318027</td>\n",
       "      <td>0.010208</td>\n",
       "    </tr>\n",
       "    <tr>\n",
       "      <th>220</th>\n",
       "      <td>02861579-97fb-4482-a613-356e0bf5d090</td>\n",
       "      <td>4</td>\n",
       "      <td>eNp1VG1zojAQ/kvZBL3a9ua80bF3FXZtRSoQQQWkqG3//7...</td>\n",
       "      <td>0.825000</td>\n",
       "      <td>0.043875</td>\n",
       "      <td>0.029842</td>\n",
       "      <td>0.033416</td>\n",
       "      <td>0.030743</td>\n",
       "      <td>0.090101</td>\n",
       "      <td>0.230912</td>\n",
       "      <td>...</td>\n",
       "      <td>0.051613</td>\n",
       "      <td>0.161634</td>\n",
       "      <td>0.104679</td>\n",
       "      <td>0.115237</td>\n",
       "      <td>0.054698</td>\n",
       "      <td>0.149033</td>\n",
       "      <td>0.040715</td>\n",
       "      <td>0.431538</td>\n",
       "      <td>0.235098</td>\n",
       "      <td>0.015093</td>\n",
       "    </tr>\n",
       "    <tr>\n",
       "      <th>221</th>\n",
       "      <td>02861579-97fb-4482-a613-356e0bf5d090</td>\n",
       "      <td>5</td>\n",
       "      <td>eNptVG2TmjAQ/ktZ3uRap+2McwVRlhNQMAh4YACr4v//1m...</td>\n",
       "      <td>0.603999</td>\n",
       "      <td>0.189712</td>\n",
       "      <td>0.121261</td>\n",
       "      <td>0.167011</td>\n",
       "      <td>0.099875</td>\n",
       "      <td>0.146378</td>\n",
       "      <td>0.188741</td>\n",
       "      <td>...</td>\n",
       "      <td>0.052373</td>\n",
       "      <td>0.236309</td>\n",
       "      <td>0.241617</td>\n",
       "      <td>0.603443</td>\n",
       "      <td>0.062603</td>\n",
       "      <td>0.045529</td>\n",
       "      <td>0.037449</td>\n",
       "      <td>0.529164</td>\n",
       "      <td>0.092180</td>\n",
       "      <td>0.039947</td>\n",
       "    </tr>\n",
       "  </tbody>\n",
       "</table>\n",
       "<p>5 rows × 22 columns</p>\n",
       "</div>"
      ],
      "text/plain": [
       "                                       ID  count  \\\n",
       "217  02861579-97fb-4482-a613-356e0bf5d090      1   \n",
       "218  02861579-97fb-4482-a613-356e0bf5d090      2   \n",
       "219  02861579-97fb-4482-a613-356e0bf5d090      3   \n",
       "220  02861579-97fb-4482-a613-356e0bf5d090      4   \n",
       "221  02861579-97fb-4482-a613-356e0bf5d090      5   \n",
       "\n",
       "                                              encoding         0         1  \\\n",
       "217  eNq12Ol228gRBtBXYpEE5GRmnEzmeMYAycK+g1iIfX//f6...  0.754483  0.127106   \n",
       "218  eNqtVNmSqkgQ/SUSC6WNGxMz09PSDZKAC8i+F6Ci//82lS...  0.710326  0.044746   \n",
       "219  eNqVVn17ojAM/0oNuInDu3vupuJUAsJkY6DTwTzfkO//3y...  0.784326  0.055428   \n",
       "220  eNp1VG1zojAQ/kvZBL3a9ua80bF3FXZtRSoQQQWkqG3//7...  0.825000  0.043875   \n",
       "221  eNptVG2TmjAQ/ktZ3uRap+2McwVRlhNQMAh4YACr4v//1m...  0.603999  0.189712   \n",
       "\n",
       "            2         3         4         5         6  ...         9  \\\n",
       "217  0.074637  0.080416  0.034525  0.115932  0.329144  ...  0.037676   \n",
       "218  0.058104  0.071665  0.058592  0.099247  0.183146  ...  0.043941   \n",
       "219  0.063754  0.051896  0.030660  0.105663  0.279695  ...  0.052709   \n",
       "220  0.029842  0.033416  0.030743  0.090101  0.230912  ...  0.051613   \n",
       "221  0.121261  0.167011  0.099875  0.146378  0.188741  ...  0.052373   \n",
       "\n",
       "           10        11        12        13        14        15        16  \\\n",
       "217  0.207956  0.128064  0.113851  0.049902  0.151036  0.032665  0.440464   \n",
       "218  0.370971  0.196121  0.205278  0.074006  0.045804  0.028272  0.493293   \n",
       "219  0.200375  0.096160  0.098165  0.057252  0.091030  0.025655  0.422079   \n",
       "220  0.161634  0.104679  0.115237  0.054698  0.149033  0.040715  0.431538   \n",
       "221  0.236309  0.241617  0.603443  0.062603  0.045529  0.037449  0.529164   \n",
       "\n",
       "           17        18  \n",
       "217  0.193190  0.028302  \n",
       "218  0.151527  0.023123  \n",
       "219  0.318027  0.010208  \n",
       "220  0.235098  0.015093  \n",
       "221  0.092180  0.039947  \n",
       "\n",
       "[5 rows x 22 columns]"
      ]
     },
     "execution_count": 7,
     "metadata": {},
     "output_type": "execute_result"
    }
   ],
   "source": [
    "pd_6_6_v100_filtered.head(5)"
   ]
  },
  {
   "cell_type": "code",
   "execution_count": 8,
   "metadata": {},
   "outputs": [
    {
     "data": {
      "text/html": [
       "<div>\n",
       "<style scoped>\n",
       "    .dataframe tbody tr th:only-of-type {\n",
       "        vertical-align: middle;\n",
       "    }\n",
       "\n",
       "    .dataframe tbody tr th {\n",
       "        vertical-align: top;\n",
       "    }\n",
       "\n",
       "    .dataframe thead th {\n",
       "        text-align: right;\n",
       "    }\n",
       "</style>\n",
       "<table border=\"1\" class=\"dataframe\">\n",
       "  <thead>\n",
       "    <tr style=\"text-align: right;\">\n",
       "      <th></th>\n",
       "      <th>ID</th>\n",
       "      <th>count</th>\n",
       "      <th>encoding</th>\n",
       "      <th>0</th>\n",
       "      <th>1</th>\n",
       "      <th>2</th>\n",
       "      <th>3</th>\n",
       "      <th>4</th>\n",
       "      <th>5</th>\n",
       "      <th>6</th>\n",
       "      <th>...</th>\n",
       "      <th>9</th>\n",
       "      <th>10</th>\n",
       "      <th>11</th>\n",
       "      <th>12</th>\n",
       "      <th>13</th>\n",
       "      <th>14</th>\n",
       "      <th>15</th>\n",
       "      <th>16</th>\n",
       "      <th>17</th>\n",
       "      <th>18</th>\n",
       "    </tr>\n",
       "  </thead>\n",
       "  <tbody>\n",
       "    <tr>\n",
       "      <th>0</th>\n",
       "      <td>02861579-97fb-4482-a613-356e0bf5d090</td>\n",
       "      <td>1</td>\n",
       "      <td>eNq12Ol228gRBtBXYhEE5GRmnEzmeMYAySL2nViIfX//f6...</td>\n",
       "      <td>0.756969</td>\n",
       "      <td>0.150225</td>\n",
       "      <td>0.074002</td>\n",
       "      <td>0.081757</td>\n",
       "      <td>0.030632</td>\n",
       "      <td>0.092248</td>\n",
       "      <td>0.330049</td>\n",
       "      <td>...</td>\n",
       "      <td>0.038876</td>\n",
       "      <td>0.229152</td>\n",
       "      <td>0.137229</td>\n",
       "      <td>0.112763</td>\n",
       "      <td>0.050166</td>\n",
       "      <td>0.154057</td>\n",
       "      <td>0.031010</td>\n",
       "      <td>0.425211</td>\n",
       "      <td>0.201852</td>\n",
       "      <td>0.028822</td>\n",
       "    </tr>\n",
       "    <tr>\n",
       "      <th>1</th>\n",
       "      <td>02861579-97fb-4482-a613-356e0bf5d090</td>\n",
       "      <td>2</td>\n",
       "      <td>eNqtVNmSqkgQ/SUSC6WNGxMz09PSDZKAC8i+F6Ci//82lS...</td>\n",
       "      <td>0.720771</td>\n",
       "      <td>0.042627</td>\n",
       "      <td>0.056232</td>\n",
       "      <td>0.072030</td>\n",
       "      <td>0.055167</td>\n",
       "      <td>0.096245</td>\n",
       "      <td>0.177644</td>\n",
       "      <td>...</td>\n",
       "      <td>0.044284</td>\n",
       "      <td>0.358046</td>\n",
       "      <td>0.198756</td>\n",
       "      <td>0.199114</td>\n",
       "      <td>0.079672</td>\n",
       "      <td>0.044123</td>\n",
       "      <td>0.027741</td>\n",
       "      <td>0.502750</td>\n",
       "      <td>0.153113</td>\n",
       "      <td>0.024135</td>\n",
       "    </tr>\n",
       "    <tr>\n",
       "      <th>2</th>\n",
       "      <td>02861579-97fb-4482-a613-356e0bf5d090</td>\n",
       "      <td>3</td>\n",
       "      <td>eNqVVn17ojAM/0oNuInDu3vupuJUAsJkY6DTwTzfkO//3y...</td>\n",
       "      <td>0.795245</td>\n",
       "      <td>0.054924</td>\n",
       "      <td>0.064855</td>\n",
       "      <td>0.054077</td>\n",
       "      <td>0.028469</td>\n",
       "      <td>0.096710</td>\n",
       "      <td>0.274223</td>\n",
       "      <td>...</td>\n",
       "      <td>0.050017</td>\n",
       "      <td>0.190109</td>\n",
       "      <td>0.102981</td>\n",
       "      <td>0.099474</td>\n",
       "      <td>0.055067</td>\n",
       "      <td>0.086317</td>\n",
       "      <td>0.023467</td>\n",
       "      <td>0.420885</td>\n",
       "      <td>0.319187</td>\n",
       "      <td>0.009223</td>\n",
       "    </tr>\n",
       "    <tr>\n",
       "      <th>3</th>\n",
       "      <td>02861579-97fb-4482-a613-356e0bf5d090</td>\n",
       "      <td>4</td>\n",
       "      <td>eNp1VH97ojAM/kpNi9657Z7zHnfubkKiU5lABRWQoWz7/v...</td>\n",
       "      <td>0.831011</td>\n",
       "      <td>0.043805</td>\n",
       "      <td>0.029151</td>\n",
       "      <td>0.034753</td>\n",
       "      <td>0.028053</td>\n",
       "      <td>0.086620</td>\n",
       "      <td>0.229341</td>\n",
       "      <td>...</td>\n",
       "      <td>0.052024</td>\n",
       "      <td>0.150549</td>\n",
       "      <td>0.105795</td>\n",
       "      <td>0.115165</td>\n",
       "      <td>0.053893</td>\n",
       "      <td>0.143483</td>\n",
       "      <td>0.038605</td>\n",
       "      <td>0.432421</td>\n",
       "      <td>0.229197</td>\n",
       "      <td>0.015266</td>\n",
       "    </tr>\n",
       "    <tr>\n",
       "      <th>4</th>\n",
       "      <td>02861579-97fb-4482-a613-356e0bf5d090</td>\n",
       "      <td>5</td>\n",
       "      <td>eNptVG2TmjAQ/ktZ3uRap+2McwVRlhNQMAh4YACr4v//1m...</td>\n",
       "      <td>0.607552</td>\n",
       "      <td>0.193843</td>\n",
       "      <td>0.130714</td>\n",
       "      <td>0.170735</td>\n",
       "      <td>0.100617</td>\n",
       "      <td>0.146463</td>\n",
       "      <td>0.189942</td>\n",
       "      <td>...</td>\n",
       "      <td>0.053950</td>\n",
       "      <td>0.226419</td>\n",
       "      <td>0.247957</td>\n",
       "      <td>0.612019</td>\n",
       "      <td>0.067948</td>\n",
       "      <td>0.046503</td>\n",
       "      <td>0.040262</td>\n",
       "      <td>0.537237</td>\n",
       "      <td>0.090428</td>\n",
       "      <td>0.042763</td>\n",
       "    </tr>\n",
       "  </tbody>\n",
       "</table>\n",
       "<p>5 rows × 22 columns</p>\n",
       "</div>"
      ],
      "text/plain": [
       "                                     ID  count  \\\n",
       "0  02861579-97fb-4482-a613-356e0bf5d090      1   \n",
       "1  02861579-97fb-4482-a613-356e0bf5d090      2   \n",
       "2  02861579-97fb-4482-a613-356e0bf5d090      3   \n",
       "3  02861579-97fb-4482-a613-356e0bf5d090      4   \n",
       "4  02861579-97fb-4482-a613-356e0bf5d090      5   \n",
       "\n",
       "                                            encoding         0         1  \\\n",
       "0  eNq12Ol228gRBtBXYhEE5GRmnEzmeMYAySL2nViIfX//f6...  0.756969  0.150225   \n",
       "1  eNqtVNmSqkgQ/SUSC6WNGxMz09PSDZKAC8i+F6Ci//82lS...  0.720771  0.042627   \n",
       "2  eNqVVn17ojAM/0oNuInDu3vupuJUAsJkY6DTwTzfkO//3y...  0.795245  0.054924   \n",
       "3  eNp1VH97ojAM/kpNi9657Z7zHnfubkKiU5lABRWQoWz7/v...  0.831011  0.043805   \n",
       "4  eNptVG2TmjAQ/ktZ3uRap+2McwVRlhNQMAh4YACr4v//1m...  0.607552  0.193843   \n",
       "\n",
       "          2         3         4         5         6  ...         9        10  \\\n",
       "0  0.074002  0.081757  0.030632  0.092248  0.330049  ...  0.038876  0.229152   \n",
       "1  0.056232  0.072030  0.055167  0.096245  0.177644  ...  0.044284  0.358046   \n",
       "2  0.064855  0.054077  0.028469  0.096710  0.274223  ...  0.050017  0.190109   \n",
       "3  0.029151  0.034753  0.028053  0.086620  0.229341  ...  0.052024  0.150549   \n",
       "4  0.130714  0.170735  0.100617  0.146463  0.189942  ...  0.053950  0.226419   \n",
       "\n",
       "         11        12        13        14        15        16        17  \\\n",
       "0  0.137229  0.112763  0.050166  0.154057  0.031010  0.425211  0.201852   \n",
       "1  0.198756  0.199114  0.079672  0.044123  0.027741  0.502750  0.153113   \n",
       "2  0.102981  0.099474  0.055067  0.086317  0.023467  0.420885  0.319187   \n",
       "3  0.105795  0.115165  0.053893  0.143483  0.038605  0.432421  0.229197   \n",
       "4  0.247957  0.612019  0.067948  0.046503  0.040262  0.537237  0.090428   \n",
       "\n",
       "         18  \n",
       "0  0.028822  \n",
       "1  0.024135  \n",
       "2  0.009223  \n",
       "3  0.015266  \n",
       "4  0.042763  \n",
       "\n",
       "[5 rows x 22 columns]"
      ]
     },
     "execution_count": 8,
     "metadata": {},
     "output_type": "execute_result"
    }
   ],
   "source": [
    "pd_6_6_p100.head(5)"
   ]
  },
  {
   "cell_type": "code",
   "execution_count": 9,
   "metadata": {},
   "outputs": [],
   "source": [
    "lets_different = pd_6_6_v100_filtered[[str(i) for i in range(19)]].values - pd_6_6_p100[[str(i) for i in range(19)]].values"
   ]
  },
  {
   "cell_type": "code",
   "execution_count": 10,
   "metadata": {},
   "outputs": [
    {
     "data": {
      "text/plain": [
       "(9868, 19)"
      ]
     },
     "execution_count": 10,
     "metadata": {},
     "output_type": "execute_result"
    }
   ],
   "source": [
    "lets_different.shape"
   ]
  },
  {
   "cell_type": "code",
   "execution_count": 11,
   "metadata": {},
   "outputs": [
    {
     "data": {
      "text/plain": [
       "(19,)"
      ]
     },
     "execution_count": 11,
     "metadata": {},
     "output_type": "execute_result"
    }
   ],
   "source": [
    "mean_6_6 = lets_different.mean(0)\n",
    "mean_6_6.shape"
   ]
  },
  {
   "cell_type": "code",
   "execution_count": 18,
   "metadata": {},
   "outputs": [
    {
     "data": {
      "text/plain": [
       "array([ 9.29849161e-05,  7.17469789e-04, -3.59509372e-03, -4.39483462e-03,\n",
       "       -1.81291516e-03,  2.14755661e-03, -9.69174490e-04, -4.12395415e-03,\n",
       "       -5.51596648e-04,  1.78043239e-03, -3.66965946e-03, -1.01453032e-02,\n",
       "       -2.08877523e-03, -1.96720680e-02, -1.15437992e-04,  2.38051006e-03,\n",
       "       -8.19688687e-03,  1.10217377e-02, -9.21556908e-04])"
      ]
     },
     "execution_count": 18,
     "metadata": {},
     "output_type": "execute_result"
    }
   ],
   "source": [
    "mean_6_6"
   ]
  },
  {
   "cell_type": "code",
   "execution_count": 13,
   "metadata": {},
   "outputs": [
    {
     "data": {
      "text/plain": [
       "array([[0.7570619 , 0.15094272, 0.07040738, ..., 0.41701439, 0.21287415,\n",
       "        0.02790018],\n",
       "       [0.72086418, 0.04334435, 0.05263735, ..., 0.49455303, 0.16413454,\n",
       "        0.02321312],\n",
       "       [0.79533786, 0.05564135, 0.06125983, ..., 0.41268817, 0.33020825,\n",
       "        0.00830127],\n",
       "       ...,\n",
       "       [0.10130461, 0.02886908, 0.05368156, ..., 0.40835411, 0.42732347,\n",
       "        0.03274193],\n",
       "       [0.0465651 , 0.0150799 , 0.05064083, ..., 0.43657005, 0.69171131,\n",
       "        0.02275008],\n",
       "       [0.09045535, 0.03360247, 0.14371001, ..., 0.41737691, 0.53549463,\n",
       "        0.054752  ]])"
      ]
     },
     "execution_count": 13,
     "metadata": {},
     "output_type": "execute_result"
    }
   ],
   "source": [
    "pd_6_6_p100[[str(i) for i in range(19)]].values + mean_6_6"
   ]
  },
  {
   "cell_type": "markdown",
   "metadata": {},
   "source": [
    "## lets work on 6_6_2"
   ]
  },
  {
   "cell_type": "code",
   "execution_count": 16,
   "metadata": {},
   "outputs": [
    {
     "name": "stdout",
     "output_type": "stream",
     "text": [
      "(9868, 22) (9868, 22)\n",
      "(19,)\n"
     ]
    },
    {
     "data": {
      "text/plain": [
       "array([ 0.00912525, -0.00019775, -0.00510275, -0.01552011, -0.00997425,\n",
       "       -0.00478028, -0.00419081, -0.00618159, -0.00667691, -0.00569972,\n",
       "       -0.01607459, -0.0108702 , -0.00681728, -0.00707488, -0.01076032,\n",
       "       -0.00288307,  0.00618556, -0.01145433, -0.0055709 ])"
      ]
     },
     "execution_count": 16,
     "metadata": {},
     "output_type": "execute_result"
    }
   ],
   "source": [
    "pd_6_6_2_v100 = pd.read_csv('../../data/submissions/test_v6_6_2_loss/stage_1.csv')\n",
    "pd_6_6_2_p100 = pd.read_csv('../../data/str_kag_2/stage_1_6_6_2.csv')\n",
    "p100_unique_val = pd_6_6_2_p100['ID'].unique()\n",
    "\n",
    "pd_6_6_2_v100_filtered = pd_6_6_2_v100[pd_6_6_2_v100['ID'].isin(p100_unique_val)]\n",
    "print(pd_6_6_2_v100_filtered.shape, pd_6_6_2_p100.shape)\n",
    "lets_different = pd_6_6_2_v100_filtered[[str(i) for i in range(19)]].values - pd_6_6_2_p100[[str(i) for i in range(19)]].values\n",
    "mean_6_6_2 = lets_different.mean(0)\n",
    "print(mean_6_6_2.shape)\n",
    "mean_6_6_2"
   ]
  },
  {
   "cell_type": "markdown",
   "metadata": {},
   "source": [
    "## lets work on 6_6_3"
   ]
  },
  {
   "cell_type": "code",
   "execution_count": 17,
   "metadata": {},
   "outputs": [
    {
     "name": "stdout",
     "output_type": "stream",
     "text": [
      "(9868, 22) (9868, 22)\n",
      "(19,)\n"
     ]
    },
    {
     "data": {
      "text/plain": [
       "array([0.07072176, 0.11267665, 0.14429368, 0.12940642, 0.10606747,\n",
       "       0.16546211, 0.14309853, 0.14479114, 0.16269307, 0.14846139,\n",
       "       0.1243546 , 0.16770698, 0.16495702, 0.1009928 , 0.11299006,\n",
       "       0.12483789, 0.13798061, 0.1206634 , 0.13405712])"
      ]
     },
     "execution_count": 17,
     "metadata": {},
     "output_type": "execute_result"
    }
   ],
   "source": [
    "pd_6_6_3_v100 = pd.read_csv('../../data/submissions/test_v6_6_3_loss/stage_1.csv')\n",
    "pd_6_6_3_p100 = pd.read_csv('../../data/str_kag_2/stage_1_6_6_3.csv')\n",
    "p100_unique_val = pd_6_6_3_p100['ID'].unique()\n",
    "\n",
    "pd_6_6_3_v100_filtered = pd_6_6_3_v100[pd_6_6_3_v100['ID'].isin(p100_unique_val)]\n",
    "print(pd_6_6_3_v100_filtered.shape, pd_6_6_3_p100.shape)\n",
    "lets_different = pd_6_6_3_v100_filtered[[str(i) for i in range(19)]].values - pd_6_6_3_p100[[str(i) for i in range(19)]].values\n",
    "mean_6_6_3 = lets_different.mean(0)\n",
    "print(mean_6_6_3.shape)\n",
    "mean_6_6_3"
   ]
  },
  {
   "cell_type": "markdown",
   "metadata": {},
   "source": [
    "# lets work on 6_6_3_1"
   ]
  },
  {
   "cell_type": "code",
   "execution_count": 3,
   "metadata": {},
   "outputs": [
    {
     "name": "stdout",
     "output_type": "stream",
     "text": [
      "(8368, 22) (8368, 22)\n",
      "(19,)\n"
     ]
    },
    {
     "data": {
      "text/plain": [
       "array([ 0.01585845,  0.00545589,  0.0043787 ,  0.00468656,  0.0055035 ,\n",
       "        0.00576125,  0.00237679, -0.00280384,  0.00534345,  0.00288881,\n",
       "        0.0066975 ,  0.00478291,  0.0060642 , -0.00101075,  0.00315787,\n",
       "        0.00217736,  0.00567489, -0.01409792,  0.00140922])"
      ]
     },
     "execution_count": 3,
     "metadata": {},
     "output_type": "execute_result"
    }
   ],
   "source": [
    "pd_6_6_3_v100 = pd.read_csv('../../data/submissions/test_v6_6_3_1_loss/stage_1.csv')\n",
    "pd_6_6_3_p100 = pd.read_csv('../../data/str_kag_2/stage_1_6_6_3_1.csv')\n",
    "p100_unique_val = pd_6_6_3_p100['ID'].unique()\n",
    "\n",
    "pd_6_6_3_v100_filtered = pd_6_6_3_v100[pd_6_6_3_v100['ID'].isin(p100_unique_val)]\n",
    "print(pd_6_6_3_v100_filtered.shape, pd_6_6_3_p100.shape)\n",
    "lets_different = pd_6_6_3_v100_filtered[[str(i) for i in range(19)]].values - pd_6_6_3_p100[[str(i) for i in range(19)]].values\n",
    "mean_6_6_3 = lets_different.mean(0)\n",
    "print(mean_6_6_3.shape)\n",
    "mean_6_6_3"
   ]
  },
  {
   "cell_type": "markdown",
   "metadata": {},
   "source": [
    "# lets work on 6_6_3_2_2"
   ]
  },
  {
   "cell_type": "code",
   "execution_count": 8,
   "metadata": {},
   "outputs": [
    {
     "name": "stdout",
     "output_type": "stream",
     "text": [
      "(9868, 22) (9868, 22)\n",
      "(19,)\n"
     ]
    },
    {
     "data": {
      "text/plain": [
       "array([ 0.00494488, -0.00247027,  0.00081842,  0.00157168,  0.00404206,\n",
       "        0.00311271, -0.00840997, -0.00035653, -0.00295877,  0.00129175,\n",
       "       -0.00472525, -0.00162622, -0.00197336, -0.00029515, -0.00033818,\n",
       "        0.00266456, -0.01182517,  0.00555528,  0.003978  ])"
      ]
     },
     "execution_count": 8,
     "metadata": {},
     "output_type": "execute_result"
    }
   ],
   "source": [
    "pd_6_6_3_v100 = pd.read_csv('../../data/submissions/test_v6_6_3_2_2_loss/stage_1.csv')\n",
    "pd_6_6_3_p100 = pd.read_csv('../../data/str_kag_2/stage_1_6_6_3_2_2.csv')\n",
    "p100_unique_val = pd_6_6_3_p100['ID'].unique()\n",
    "\n",
    "pd_6_6_3_v100_filtered = pd_6_6_3_v100[pd_6_6_3_v100['ID'].isin(p100_unique_val)]\n",
    "print(pd_6_6_3_v100_filtered.shape, pd_6_6_3_p100.shape)\n",
    "lets_different = pd_6_6_3_v100_filtered[[str(i) for i in range(19)]].values - pd_6_6_3_p100[[str(i) for i in range(19)]].values\n",
    "mean_6_6_3 = lets_different.mean(0)\n",
    "print(mean_6_6_3.shape)\n",
    "mean_6_6_3"
   ]
  },
  {
   "cell_type": "markdown",
   "metadata": {},
   "source": [
    "## lets work on 6_6_3_2_2_1"
   ]
  },
  {
   "cell_type": "code",
   "execution_count": 11,
   "metadata": {},
   "outputs": [
    {
     "name": "stdout",
     "output_type": "stream",
     "text": [
      "(9868, 22) (9868, 22)\n",
      "(19,)\n"
     ]
    },
    {
     "data": {
      "text/plain": [
       "array([ 5.90629263e-03,  2.36834468e-03,  1.01321792e-03,  2.90205727e-04,\n",
       "        8.45231281e-04,  9.80369698e-05,  3.71625599e-03,  1.92525899e-03,\n",
       "        3.24993138e-03,  9.86899284e-04,  3.85914562e-03,  2.98988327e-03,\n",
       "        1.56832405e-03, -3.65031145e-03,  2.81727139e-03,  3.24837389e-04,\n",
       "        5.12416630e-03, -8.27996925e-04, -1.86996343e-03])"
      ]
     },
     "execution_count": 11,
     "metadata": {},
     "output_type": "execute_result"
    }
   ],
   "source": [
    "pd_6_6_3_v100 = pd.read_csv('../../data/submissions/test_v6_6_3_2_2_1_loss/stage_1.csv')\n",
    "pd_6_6_3_p100 = pd.read_csv('../../data/str_kag_2/stage_1_6_6_3_2_2_1.csv')\n",
    "p100_unique_val = pd_6_6_3_p100['ID'].unique()\n",
    "\n",
    "pd_6_6_3_v100_filtered = pd_6_6_3_v100[pd_6_6_3_v100['ID'].isin(p100_unique_val)]\n",
    "print(pd_6_6_3_v100_filtered.shape, pd_6_6_3_p100.shape)\n",
    "lets_different = pd_6_6_3_v100_filtered[[str(i) for i in range(19)]].values - pd_6_6_3_p100[[str(i) for i in range(19)]].values\n",
    "mean_6_6_3 = lets_different.mean(0)\n",
    "print(mean_6_6_3.shape)\n",
    "mean_6_6_3"
   ]
  },
  {
   "cell_type": "markdown",
   "metadata": {},
   "source": [
    "## lets work on 6_6_3_2_2_2"
   ]
  },
  {
   "cell_type": "code",
   "execution_count": 10,
   "metadata": {},
   "outputs": [
    {
     "name": "stdout",
     "output_type": "stream",
     "text": [
      "(9868, 22) (9868, 22)\n",
      "(19,)\n"
     ]
    },
    {
     "data": {
      "text/plain": [
       "array([ 0.00610256,  0.00180529,  0.00386388,  0.00179933,  0.00218721,\n",
       "        0.00428756, -0.00456166, -0.00114968, -0.00150308, -0.00296846,\n",
       "       -0.00096942,  0.00596385, -0.00214865, -0.00217443,  0.00284134,\n",
       "        0.001995  , -0.01012879, -0.00611884,  0.01226108])"
      ]
     },
     "execution_count": 10,
     "metadata": {},
     "output_type": "execute_result"
    }
   ],
   "source": [
    "pd_6_6_3_v100 = pd.read_csv('../../data/submissions/test_v6_6_3_2_2_2_loss/stage_1.csv')\n",
    "pd_6_6_3_p100 = pd.read_csv('../../data/str_kag_2/stage_1_6_6_3_2_2_2.csv')\n",
    "p100_unique_val = pd_6_6_3_p100['ID'].unique()\n",
    "\n",
    "pd_6_6_3_v100_filtered = pd_6_6_3_v100[pd_6_6_3_v100['ID'].isin(p100_unique_val)]\n",
    "print(pd_6_6_3_v100_filtered.shape, pd_6_6_3_p100.shape)\n",
    "lets_different = pd_6_6_3_v100_filtered[[str(i) for i in range(19)]].values - pd_6_6_3_p100[[str(i) for i in range(19)]].values\n",
    "mean_6_6_3 = lets_different.mean(0)\n",
    "print(mean_6_6_3.shape)\n",
    "mean_6_6_3"
   ]
  },
  {
   "cell_type": "markdown",
   "metadata": {},
   "source": [
    "## learning rate chekcing "
   ]
  },
  {
   "cell_type": "code",
   "execution_count": 26,
   "metadata": {},
   "outputs": [
    {
     "name": "stdout",
     "output_type": "stream",
     "text": [
      "Collecting git+https://github.com/ildoonet/pytorch-gradual-warmup-lr.git\n",
      "  Cloning https://github.com/ildoonet/pytorch-gradual-warmup-lr.git to /tmp/pip-req-build-ybn6y8dv\n",
      "  Running command git clone -q https://github.com/ildoonet/pytorch-gradual-warmup-lr.git /tmp/pip-req-build-ybn6y8dv\n",
      "Building wheels for collected packages: warmup-scheduler\n",
      "  Building wheel for warmup-scheduler (setup.py) ... \u001b[?25ldone\n",
      "\u001b[?25h  Created wheel for warmup-scheduler: filename=warmup_scheduler-0.3.2-py3-none-any.whl size=3881 sha256=fa8e652f20ed9c6755820969f04a31425272ed77a8f7a7911a2dfb27d2c119db\n",
      "  Stored in directory: /tmp/pip-ephem-wheel-cache-xgti4dtb/wheels/f5/e5/14/0d10ec4477507fbad192d8837535e6f2d41a287cb03aa2b7ea\n",
      "Successfully built warmup-scheduler\n",
      "Installing collected packages: warmup-scheduler\n",
      "Successfully installed warmup-scheduler-0.3.2\n",
      "\u001b[33mWARNING: You are using pip version 20.1.1; however, version 21.1 is available.\n",
      "You should consider upgrading via the '/usr/bin/python -m pip install --upgrade pip' command.\u001b[0m\n"
     ]
    }
   ],
   "source": [
    "!pip install git+https://github.com/ildoonet/pytorch-gradual-warmup-lr.git"
   ]
  },
  {
   "cell_type": "code",
   "execution_count": 47,
   "metadata": {},
   "outputs": [
    {
     "name": "stdout",
     "output_type": "stream",
     "text": [
      "1 0.020000000000000004\n",
      "2 0.04000000000000001\n",
      "3 0.06\n",
      "4 0.08000000000000002\n",
      "5 0.1\n",
      "6 0.1\n",
      "7 0.09045084971874738\n",
      "8 0.07938926261462366\n",
      "9 0.06545084971874737\n",
      "10 0.05\n",
      "11 0.03454915028125263\n",
      "12 0.02061073738537635\n",
      "13 0.009549150281252633\n",
      "14 0.0024471741852423235\n",
      "15 0.0\n",
      "16 0.0024471741852423127\n",
      "17 0.009549150281252623\n",
      "18 0.02061073738537634\n",
      "19 0.034549150281252626\n"
     ]
    },
    {
     "name": "stderr",
     "output_type": "stream",
     "text": [
      "/usr/local/lib/python3.6/dist-packages/torch/optim/lr_scheduler.py:134: UserWarning: Detected call of `lr_scheduler.step()` before `optimizer.step()`. In PyTorch 1.1.0 and later, you should call them in the opposite order: `optimizer.step()` before `lr_scheduler.step()`.  Failure to do this will result in PyTorch skipping the first value of the learning rate schedule. See more details at https://pytorch.org/docs/stable/optim.html#how-to-adjust-learning-rate\n",
      "  \"https://pytorch.org/docs/stable/optim.html#how-to-adjust-learning-rate\", UserWarning)\n"
     ]
    }
   ],
   "source": [
    "import torch\n",
    "from torch.optim.lr_scheduler import StepLR, ExponentialLR, CosineAnnealingLR\n",
    "from torch.optim.sgd import SGD\n",
    "from torch import optim\n",
    "\n",
    "from warmup_scheduler import GradualWarmupScheduler\n",
    "\n",
    "\n",
    "if __name__ == '__main__':\n",
    "    model = [torch.nn.Parameter(torch.randn(2, 2, requires_grad=True))]\n",
    "    optimizer = SGD(model, 0.1)\n",
    "\n",
    "    # scheduler_warmup is chained with schduler_steplr\n",
    "    scheduler_cosine = CosineAnnealingLR(optimizer, T_max=10)\n",
    "    scheduler = GradualWarmupScheduler(optimizer, multiplier=1, total_epoch=5, after_scheduler=scheduler_cosine)\n",
    "    #scheduler_warmup = GradualWarmupScheduler(optim, multiplier=1, total_epoch=5, after_scheduler=scheduler_steplr)\n",
    "\n",
    "    # this zero gradient update is needed to avoid a warning message, issue #8.\n",
    "    optimizer.zero_grad()\n",
    "    #optimizer.step()\n",
    "\n",
    "    for epoch in range(1, 20):\n",
    "        scheduler_warmup.step(epoch)\n",
    "        print(epoch, optimizer.param_groups[0]['lr'])\n",
    "\n",
    "        #optimizer.step()  "
   ]
  },
  {
   "cell_type": "code",
   "execution_count": 42,
   "metadata": {},
   "outputs": [
    {
     "name": "stdout",
     "output_type": "stream",
     "text": [
      "1 0.020000000000000004\n",
      "2 0.04000000000000001\n",
      "3 0.06\n",
      "4 0.08000000000000002\n",
      "5 0.1\n",
      "6 0.1\n",
      "7 0.09045084971874738\n",
      "8 0.07938926261462366\n",
      "9 0.06545084971874737\n",
      "10 0.05\n",
      "11 0.03454915028125263\n",
      "12 0.02061073738537635\n",
      "13 0.009549150281252633\n",
      "14 0.0024471741852423235\n",
      "15 0.0\n",
      "16 0.0024471741852423127\n",
      "17 0.009549150281252623\n",
      "18 0.02061073738537634\n",
      "19 0.034549150281252626\n"
     ]
    }
   ],
   "source": [
    "import torch\n",
    "from torch.optim.lr_scheduler import StepLR, ExponentialLR, CosineAnnealingLR\n",
    "from torch.optim.sgd import SGD\n",
    "\n",
    "from warmup_scheduler import GradualWarmupScheduler\n",
    "\n",
    "\n",
    "if __name__ == '__main__':\n",
    "    model = [torch.nn.Parameter(torch.randn(2, 2, requires_grad=True))]\n",
    "    optim = SGD(model, 0.1)\n",
    "\n",
    "    # scheduler_warmup is chained with schduler_steplr\n",
    "    scheduler_steplr = CosineAnnealingLR(optim,T_max = 10)\n",
    "    scheduler_warmup = GradualWarmupScheduler(optim, multiplier=1, total_epoch=5, after_scheduler=scheduler_steplr)\n",
    "\n",
    "    # this zero gradient update is needed to avoid a warning message, issue #8.\n",
    "    optim.zero_grad()\n",
    "    optim.step()\n",
    "\n",
    "    for epoch in range(1, 20):\n",
    "        scheduler_warmup.step(epoch)\n",
    "        print(epoch, optim.param_groups[0]['lr'])\n",
    "\n",
    "        optim.step()    # backward pass (update network)\n"
   ]
  }
 ],
 "metadata": {
  "kernelspec": {
   "display_name": "Python 3",
   "language": "python",
   "name": "python3"
  },
  "language_info": {
   "codemirror_mode": {
    "name": "ipython",
    "version": 3
   },
   "file_extension": ".py",
   "mimetype": "text/x-python",
   "name": "python",
   "nbconvert_exporter": "python",
   "pygments_lexer": "ipython3",
   "version": "3.6.9"
  }
 },
 "nbformat": 4,
 "nbformat_minor": 4
}
