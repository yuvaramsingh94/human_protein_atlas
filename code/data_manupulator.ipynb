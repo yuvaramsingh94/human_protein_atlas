{
 "cells": [
  {
   "cell_type": "code",
   "execution_count": 2,
   "metadata": {},
   "outputs": [],
   "source": [
    "import pandas as pd\n",
    "import numpy as np\n",
    "import os\n",
    "import cv2\n",
    "import matplotlib.pyplot as plt"
   ]
  },
  {
   "cell_type": "code",
   "execution_count": null,
   "metadata": {},
   "outputs": [],
   "source": [
    "train_df = pd.read_csv('../data/cell_mask_study_30000.csv')"
   ]
  },
  {
   "cell_type": "code",
   "execution_count": null,
   "metadata": {},
   "outputs": [],
   "source": [
    "filtered_df_13_less = train_df[(train_df['selected_cells'] >4) & (train_df['selected_cells'] < 13)] \n",
    "print(filtered_df_13_less.shape)\n",
    "filtered_df_13_less.head()"
   ]
  },
  {
   "cell_type": "code",
   "execution_count": null,
   "metadata": {},
   "outputs": [],
   "source": [
    "filtered_13_high = train_df[train_df['selected_cells'] >=13]\n",
    "print(filtered_13_high.shape)\n",
    "filtered_13_high.head()"
   ]
  },
  {
   "cell_type": "code",
   "execution_count": null,
   "metadata": {},
   "outputs": [],
   "source": [
    "filtered_13_high['is_single'] = filtered_13_high[[str(i) for i in range(0,18)]].apply(np.sum, axis=1)\n",
    "filtered_13_high.head()"
   ]
  },
  {
   "cell_type": "code",
   "execution_count": null,
   "metadata": {},
   "outputs": [],
   "source": [
    "filtered_13_high_single_class = filtered_13_high[filtered_13_high['is_single'] ==1]\n",
    "print(filtered_13_high_single_class.shape)\n",
    "filtered_13_high_single_class.head()"
   ]
  },
  {
   "cell_type": "code",
   "execution_count": null,
   "metadata": {},
   "outputs": [],
   "source": [
    "filtered_full = pd.concat([filtered_df_13_less, filtered_13_high_single_class])\n",
    "print(filtered_full.shape)\n",
    "filtered_full.head()"
   ]
  },
  {
   "cell_type": "code",
   "execution_count": null,
   "metadata": {},
   "outputs": [],
   "source": [
    "filtered_full = filtered_full.drop(['Unnamed: 0'], axis = 1)\n",
    "filtered_full.to_csv('../data/train_fold_v1.csv', index = False)"
   ]
  },
  {
   "cell_type": "markdown",
   "metadata": {},
   "source": [
    "### now we will increase this 13 to 20. lets see how this improved my model"
   ]
  },
  {
   "cell_type": "code",
   "execution_count": 6,
   "metadata": {},
   "outputs": [
    {
     "name": "stderr",
     "output_type": "stream",
     "text": [
      "/usr/local/lib/python3.6/dist-packages/ipykernel_launcher.py:9: SettingWithCopyWarning: \n",
      "A value is trying to be set on a copy of a slice from a DataFrame.\n",
      "Try using .loc[row_indexer,col_indexer] = value instead\n",
      "\n",
      "See the caveats in the documentation: https://pandas.pydata.org/pandas-docs/stable/user_guide/indexing.html#returning-a-view-versus-a-copy\n",
      "  if __name__ == '__main__':\n"
     ]
    }
   ],
   "source": [
    "train_df = pd.read_csv('../data/cell_mask_study_30000.csv')\n",
    "\n",
    "TOP = 21\n",
    "\n",
    "filtered_df_13_less = train_df[(train_df['selected_cells'] >4) & (train_df['selected_cells'] < TOP)] \n",
    "\n",
    "\n",
    "filtered_13_high = train_df[train_df['selected_cells'] >=TOP]\n",
    "filtered_13_high['is_single'] = filtered_13_high[[str(i) for i in range(0,18)]].apply(np.sum, axis=1)\n",
    "filtered_13_high_single_class = filtered_13_high[filtered_13_high['is_single'] ==1]\n",
    "\n",
    "filtered_full = pd.concat([filtered_df_13_less, filtered_13_high_single_class])\n",
    "\n"
   ]
  },
  {
   "cell_type": "code",
   "execution_count": 8,
   "metadata": {},
   "outputs": [
    {
     "name": "stderr",
     "output_type": "stream",
     "text": [
      "/usr/local/lib/python3.6/dist-packages/sklearn/utils/validation.py:72: FutureWarning: Pass shuffle=True, random_state=1 as keyword args. From version 1.0 (renaming of 0.25) passing these as positional arguments will result in an error\n",
      "  \"will result in an error\", FutureWarning)\n",
      "/usr/local/lib/python3.6/dist-packages/ipykernel_launcher.py:15: SettingWithCopyWarning: \n",
      "A value is trying to be set on a copy of a slice from a DataFrame\n",
      "\n",
      "See the caveats in the documentation: https://pandas.pydata.org/pandas-docs/stable/user_guide/indexing.html#returning-a-view-versus-a-copy\n",
      "  from ipykernel import kernelapp as app\n"
     ]
    }
   ],
   "source": [
    "from iterstrat.ml_stratifiers import MultilabelStratifiedKFold\n",
    "\n",
    "SEED = 1\n",
    "FOLDS = 3\n",
    "\n",
    "labels = [str(i) for i in range(19)]\n",
    "\n",
    "filtered_full = filtered_full.reset_index(drop = True)\n",
    "\n",
    "skf = MultilabelStratifiedKFold(n_splits=FOLDS, shuffle=True, \n",
    "          random_state=SEED)\n",
    "\n",
    "filtered_full['fold'] = -1\n",
    "for fold,(idxT,idxV) in enumerate( skf.split(filtered_full,filtered_full[labels].values)):\n",
    "    filtered_full['fold'][idxV] = fold"
   ]
  },
  {
   "cell_type": "code",
   "execution_count": 9,
   "metadata": {},
   "outputs": [
    {
     "name": "stdout",
     "output_type": "stream",
     "text": [
      "(17773, 26)\n"
     ]
    },
    {
     "data": {
      "text/html": [
       "<div>\n",
       "<style scoped>\n",
       "    .dataframe tbody tr th:only-of-type {\n",
       "        vertical-align: middle;\n",
       "    }\n",
       "\n",
       "    .dataframe tbody tr th {\n",
       "        vertical-align: top;\n",
       "    }\n",
       "\n",
       "    .dataframe thead th {\n",
       "        text-align: right;\n",
       "    }\n",
       "</style>\n",
       "<table border=\"1\" class=\"dataframe\">\n",
       "  <thead>\n",
       "    <tr style=\"text-align: right;\">\n",
       "      <th></th>\n",
       "      <th>Unnamed: 0</th>\n",
       "      <th>ID</th>\n",
       "      <th>Label</th>\n",
       "      <th>0</th>\n",
       "      <th>1</th>\n",
       "      <th>2</th>\n",
       "      <th>3</th>\n",
       "      <th>4</th>\n",
       "      <th>5</th>\n",
       "      <th>6</th>\n",
       "      <th>...</th>\n",
       "      <th>13</th>\n",
       "      <th>14</th>\n",
       "      <th>15</th>\n",
       "      <th>16</th>\n",
       "      <th>17</th>\n",
       "      <th>18</th>\n",
       "      <th>fold</th>\n",
       "      <th>total_cell_mask</th>\n",
       "      <th>selected_cells</th>\n",
       "      <th>is_single</th>\n",
       "    </tr>\n",
       "  </thead>\n",
       "  <tbody>\n",
       "    <tr>\n",
       "      <th>0</th>\n",
       "      <td>0</td>\n",
       "      <td>5c27f04c-bb99-11e8-b2b9-ac1f6b6435d0</td>\n",
       "      <td>8|5|0</td>\n",
       "      <td>1</td>\n",
       "      <td>0</td>\n",
       "      <td>0</td>\n",
       "      <td>0</td>\n",
       "      <td>0</td>\n",
       "      <td>1</td>\n",
       "      <td>0</td>\n",
       "      <td>...</td>\n",
       "      <td>0</td>\n",
       "      <td>0</td>\n",
       "      <td>0</td>\n",
       "      <td>0</td>\n",
       "      <td>0</td>\n",
       "      <td>0</td>\n",
       "      <td>2</td>\n",
       "      <td>8</td>\n",
       "      <td>7</td>\n",
       "      <td>NaN</td>\n",
       "    </tr>\n",
       "    <tr>\n",
       "      <th>1</th>\n",
       "      <td>1</td>\n",
       "      <td>5fb643ee-bb99-11e8-b2b9-ac1f6b6435d0</td>\n",
       "      <td>14|0</td>\n",
       "      <td>1</td>\n",
       "      <td>0</td>\n",
       "      <td>0</td>\n",
       "      <td>0</td>\n",
       "      <td>0</td>\n",
       "      <td>0</td>\n",
       "      <td>0</td>\n",
       "      <td>...</td>\n",
       "      <td>0</td>\n",
       "      <td>1</td>\n",
       "      <td>0</td>\n",
       "      <td>0</td>\n",
       "      <td>0</td>\n",
       "      <td>0</td>\n",
       "      <td>1</td>\n",
       "      <td>15</td>\n",
       "      <td>15</td>\n",
       "      <td>NaN</td>\n",
       "    </tr>\n",
       "    <tr>\n",
       "      <th>2</th>\n",
       "      <td>2</td>\n",
       "      <td>60b57878-bb99-11e8-b2b9-ac1f6b6435d0</td>\n",
       "      <td>6|1</td>\n",
       "      <td>0</td>\n",
       "      <td>1</td>\n",
       "      <td>0</td>\n",
       "      <td>0</td>\n",
       "      <td>0</td>\n",
       "      <td>0</td>\n",
       "      <td>1</td>\n",
       "      <td>...</td>\n",
       "      <td>0</td>\n",
       "      <td>0</td>\n",
       "      <td>0</td>\n",
       "      <td>0</td>\n",
       "      <td>0</td>\n",
       "      <td>0</td>\n",
       "      <td>2</td>\n",
       "      <td>17</td>\n",
       "      <td>16</td>\n",
       "      <td>NaN</td>\n",
       "    </tr>\n",
       "    <tr>\n",
       "      <th>3</th>\n",
       "      <td>3</td>\n",
       "      <td>5c1a898e-bb99-11e8-b2b9-ac1f6b6435d0</td>\n",
       "      <td>16|10</td>\n",
       "      <td>0</td>\n",
       "      <td>0</td>\n",
       "      <td>0</td>\n",
       "      <td>0</td>\n",
       "      <td>0</td>\n",
       "      <td>0</td>\n",
       "      <td>0</td>\n",
       "      <td>...</td>\n",
       "      <td>0</td>\n",
       "      <td>0</td>\n",
       "      <td>0</td>\n",
       "      <td>1</td>\n",
       "      <td>0</td>\n",
       "      <td>0</td>\n",
       "      <td>0</td>\n",
       "      <td>17</td>\n",
       "      <td>17</td>\n",
       "      <td>NaN</td>\n",
       "    </tr>\n",
       "    <tr>\n",
       "      <th>4</th>\n",
       "      <td>5</td>\n",
       "      <td>5e22a522-bb99-11e8-b2b9-ac1f6b6435d0</td>\n",
       "      <td>0</td>\n",
       "      <td>1</td>\n",
       "      <td>0</td>\n",
       "      <td>0</td>\n",
       "      <td>0</td>\n",
       "      <td>0</td>\n",
       "      <td>0</td>\n",
       "      <td>0</td>\n",
       "      <td>...</td>\n",
       "      <td>0</td>\n",
       "      <td>0</td>\n",
       "      <td>0</td>\n",
       "      <td>0</td>\n",
       "      <td>0</td>\n",
       "      <td>0</td>\n",
       "      <td>0</td>\n",
       "      <td>10</td>\n",
       "      <td>9</td>\n",
       "      <td>NaN</td>\n",
       "    </tr>\n",
       "  </tbody>\n",
       "</table>\n",
       "<p>5 rows × 26 columns</p>\n",
       "</div>"
      ],
      "text/plain": [
       "   Unnamed: 0                                    ID  Label  0  1  2  3  4  5  \\\n",
       "0           0  5c27f04c-bb99-11e8-b2b9-ac1f6b6435d0  8|5|0  1  0  0  0  0  1   \n",
       "1           1  5fb643ee-bb99-11e8-b2b9-ac1f6b6435d0   14|0  1  0  0  0  0  0   \n",
       "2           2  60b57878-bb99-11e8-b2b9-ac1f6b6435d0    6|1  0  1  0  0  0  0   \n",
       "3           3  5c1a898e-bb99-11e8-b2b9-ac1f6b6435d0  16|10  0  0  0  0  0  0   \n",
       "4           5  5e22a522-bb99-11e8-b2b9-ac1f6b6435d0      0  1  0  0  0  0  0   \n",
       "\n",
       "   6  ...  13  14  15  16  17  18  fold  total_cell_mask  selected_cells  \\\n",
       "0  0  ...   0   0   0   0   0   0     2                8               7   \n",
       "1  0  ...   0   1   0   0   0   0     1               15              15   \n",
       "2  1  ...   0   0   0   0   0   0     2               17              16   \n",
       "3  0  ...   0   0   0   1   0   0     0               17              17   \n",
       "4  0  ...   0   0   0   0   0   0     0               10               9   \n",
       "\n",
       "   is_single  \n",
       "0        NaN  \n",
       "1        NaN  \n",
       "2        NaN  \n",
       "3        NaN  \n",
       "4        NaN  \n",
       "\n",
       "[5 rows x 26 columns]"
      ]
     },
     "execution_count": 9,
     "metadata": {},
     "output_type": "execute_result"
    }
   ],
   "source": [
    "print(filtered_full.shape)\n",
    "filtered_full.head()"
   ]
  },
  {
   "cell_type": "code",
   "execution_count": 10,
   "metadata": {},
   "outputs": [],
   "source": [
    "filtered_full = filtered_full.drop(['Unnamed: 0'], axis = 1)\n",
    "filtered_full.to_csv('../data/train_fold_v4.csv', index = False)"
   ]
  },
  {
   "cell_type": "markdown",
   "metadata": {},
   "source": [
    "# further increasing the data to all"
   ]
  },
  {
   "cell_type": "code",
   "execution_count": 11,
   "metadata": {},
   "outputs": [],
   "source": [
    "train_df = pd.read_csv('../data/cell_mask_study_30000.csv')\n",
    "\n",
    "filtered_full = train_df[(train_df['selected_cells'] >4) ] \n",
    "\n"
   ]
  },
  {
   "cell_type": "code",
   "execution_count": 12,
   "metadata": {},
   "outputs": [
    {
     "name": "stderr",
     "output_type": "stream",
     "text": [
      "/usr/local/lib/python3.6/dist-packages/sklearn/utils/validation.py:72: FutureWarning: Pass shuffle=True, random_state=1 as keyword args. From version 1.0 (renaming of 0.25) passing these as positional arguments will result in an error\n",
      "  \"will result in an error\", FutureWarning)\n",
      "/usr/local/lib/python3.6/dist-packages/ipykernel_launcher.py:15: SettingWithCopyWarning: \n",
      "A value is trying to be set on a copy of a slice from a DataFrame\n",
      "\n",
      "See the caveats in the documentation: https://pandas.pydata.org/pandas-docs/stable/user_guide/indexing.html#returning-a-view-versus-a-copy\n",
      "  from ipykernel import kernelapp as app\n"
     ]
    }
   ],
   "source": [
    "from iterstrat.ml_stratifiers import MultilabelStratifiedKFold\n",
    "\n",
    "SEED = 1\n",
    "FOLDS = 3\n",
    "\n",
    "labels = [str(i) for i in range(19)]\n",
    "\n",
    "filtered_full = filtered_full.reset_index(drop = True)\n",
    "\n",
    "skf = MultilabelStratifiedKFold(n_splits=FOLDS, shuffle=True, \n",
    "          random_state=SEED)\n",
    "\n",
    "filtered_full['fold'] = -1\n",
    "for fold,(idxT,idxV) in enumerate( skf.split(filtered_full,filtered_full[labels].values)):\n",
    "    filtered_full['fold'][idxV] = fold"
   ]
  },
  {
   "cell_type": "code",
   "execution_count": 13,
   "metadata": {},
   "outputs": [
    {
     "name": "stdout",
     "output_type": "stream",
     "text": [
      "(21754, 25)\n"
     ]
    }
   ],
   "source": [
    "print(filtered_full.shape)\n",
    "filtered_full.head()\n",
    "filtered_full = filtered_full.drop(['Unnamed: 0'], axis = 1)\n",
    "filtered_full.to_csv('../data/train_fold_v5.csv', index = False)"
   ]
  },
  {
   "cell_type": "markdown",
   "metadata": {},
   "source": [
    "## removing duplicates from the csv "
   ]
  },
  {
   "cell_type": "code",
   "execution_count": 66,
   "metadata": {},
   "outputs": [
    {
     "data": {
      "text/html": [
       "<div>\n",
       "<style scoped>\n",
       "    .dataframe tbody tr th:only-of-type {\n",
       "        vertical-align: middle;\n",
       "    }\n",
       "\n",
       "    .dataframe tbody tr th {\n",
       "        vertical-align: top;\n",
       "    }\n",
       "\n",
       "    .dataframe thead th {\n",
       "        text-align: right;\n",
       "    }\n",
       "</style>\n",
       "<table border=\"1\" class=\"dataframe\">\n",
       "  <thead>\n",
       "    <tr style=\"text-align: right;\">\n",
       "      <th></th>\n",
       "      <th>image1</th>\n",
       "      <th>image2</th>\n",
       "      <th>score</th>\n",
       "    </tr>\n",
       "  </thead>\n",
       "  <tbody>\n",
       "    <tr>\n",
       "      <th>0</th>\n",
       "      <td>641a0682-bbb7-11e8-b2ba-ac1f6b6435d0</td>\n",
       "      <td>2be24582-bbb1-11e8-b2ba-ac1f6b6435d0</td>\n",
       "      <td>0</td>\n",
       "    </tr>\n",
       "    <tr>\n",
       "      <th>1</th>\n",
       "      <td>c9c5e154-bb9e-11e8-b2b9-ac1f6b6435d0</td>\n",
       "      <td>8d1222cc-bbb2-11e8-b2ba-ac1f6b6435d0</td>\n",
       "      <td>4</td>\n",
       "    </tr>\n",
       "    <tr>\n",
       "      <th>2</th>\n",
       "      <td>ef9a8a30-bbc9-11e8-b2bc-ac1f6b6435d0</td>\n",
       "      <td>1d02911a-bba8-11e8-b2ba-ac1f6b6435d0</td>\n",
       "      <td>8</td>\n",
       "    </tr>\n",
       "    <tr>\n",
       "      <th>3</th>\n",
       "      <td>d5bb3b2a-bb9f-11e8-b2b9-ac1f6b6435d0</td>\n",
       "      <td>938dd144-bbb4-11e8-b2ba-ac1f6b6435d0</td>\n",
       "      <td>0</td>\n",
       "    </tr>\n",
       "    <tr>\n",
       "      <th>4</th>\n",
       "      <td>9f31c1e4-bbc4-11e8-b2bc-ac1f6b6435d0</td>\n",
       "      <td>8ddc608a-bbb4-11e8-b2ba-ac1f6b6435d0</td>\n",
       "      <td>8</td>\n",
       "    </tr>\n",
       "  </tbody>\n",
       "</table>\n",
       "</div>"
      ],
      "text/plain": [
       "                                 image1                                image2  \\\n",
       "0  641a0682-bbb7-11e8-b2ba-ac1f6b6435d0  2be24582-bbb1-11e8-b2ba-ac1f6b6435d0   \n",
       "1  c9c5e154-bb9e-11e8-b2b9-ac1f6b6435d0  8d1222cc-bbb2-11e8-b2ba-ac1f6b6435d0   \n",
       "2  ef9a8a30-bbc9-11e8-b2bc-ac1f6b6435d0  1d02911a-bba8-11e8-b2ba-ac1f6b6435d0   \n",
       "3  d5bb3b2a-bb9f-11e8-b2b9-ac1f6b6435d0  938dd144-bbb4-11e8-b2ba-ac1f6b6435d0   \n",
       "4  9f31c1e4-bbc4-11e8-b2bc-ac1f6b6435d0  8ddc608a-bbb4-11e8-b2ba-ac1f6b6435d0   \n",
       "\n",
       "   score  \n",
       "0      0  \n",
       "1      4  \n",
       "2      8  \n",
       "3      0  \n",
       "4      8  "
      ]
     },
     "execution_count": 66,
     "metadata": {},
     "output_type": "execute_result"
    }
   ],
   "source": [
    "## lets load the csv \n",
    "hpa_duplicates = pd.read_csv('../data/hpa_duplicates.csv')\n",
    "train_df = pd.read_csv('../data/train.csv')\n",
    "hpa_duplicates.head()"
   ]
  },
  {
   "cell_type": "code",
   "execution_count": 68,
   "metadata": {},
   "outputs": [
    {
     "name": "stdout",
     "output_type": "stream",
     "text": [
      "(21806, 2)\n"
     ]
    },
    {
     "data": {
      "text/html": [
       "<div>\n",
       "<style scoped>\n",
       "    .dataframe tbody tr th:only-of-type {\n",
       "        vertical-align: middle;\n",
       "    }\n",
       "\n",
       "    .dataframe tbody tr th {\n",
       "        vertical-align: top;\n",
       "    }\n",
       "\n",
       "    .dataframe thead th {\n",
       "        text-align: right;\n",
       "    }\n",
       "</style>\n",
       "<table border=\"1\" class=\"dataframe\">\n",
       "  <thead>\n",
       "    <tr style=\"text-align: right;\">\n",
       "      <th></th>\n",
       "      <th>ID</th>\n",
       "      <th>Label</th>\n",
       "    </tr>\n",
       "  </thead>\n",
       "  <tbody>\n",
       "    <tr>\n",
       "      <th>0</th>\n",
       "      <td>5c27f04c-bb99-11e8-b2b9-ac1f6b6435d0</td>\n",
       "      <td>8|5|0</td>\n",
       "    </tr>\n",
       "    <tr>\n",
       "      <th>1</th>\n",
       "      <td>5fb643ee-bb99-11e8-b2b9-ac1f6b6435d0</td>\n",
       "      <td>14|0</td>\n",
       "    </tr>\n",
       "    <tr>\n",
       "      <th>2</th>\n",
       "      <td>60b57878-bb99-11e8-b2b9-ac1f6b6435d0</td>\n",
       "      <td>6|1</td>\n",
       "    </tr>\n",
       "    <tr>\n",
       "      <th>3</th>\n",
       "      <td>5c1a898e-bb99-11e8-b2b9-ac1f6b6435d0</td>\n",
       "      <td>16|10</td>\n",
       "    </tr>\n",
       "    <tr>\n",
       "      <th>4</th>\n",
       "      <td>5b931256-bb99-11e8-b2b9-ac1f6b6435d0</td>\n",
       "      <td>14|0</td>\n",
       "    </tr>\n",
       "  </tbody>\n",
       "</table>\n",
       "</div>"
      ],
      "text/plain": [
       "                                     ID  Label\n",
       "0  5c27f04c-bb99-11e8-b2b9-ac1f6b6435d0  8|5|0\n",
       "1  5fb643ee-bb99-11e8-b2b9-ac1f6b6435d0   14|0\n",
       "2  60b57878-bb99-11e8-b2b9-ac1f6b6435d0    6|1\n",
       "3  5c1a898e-bb99-11e8-b2b9-ac1f6b6435d0  16|10\n",
       "4  5b931256-bb99-11e8-b2b9-ac1f6b6435d0   14|0"
      ]
     },
     "execution_count": 68,
     "metadata": {},
     "output_type": "execute_result"
    }
   ],
   "source": [
    "print(train_df.shape)\n",
    "train_df.head()"
   ]
  },
  {
   "cell_type": "code",
   "execution_count": 58,
   "metadata": {},
   "outputs": [],
   "source": [
    "hpa_duplicate_score_0 = hpa_duplicates[hpa_duplicates['score']==0]"
   ]
  },
  {
   "cell_type": "code",
   "execution_count": 62,
   "metadata": {},
   "outputs": [
    {
     "data": {
      "text/plain": [
       "(94, 3)"
      ]
     },
     "execution_count": 62,
     "metadata": {},
     "output_type": "execute_result"
    }
   ],
   "source": [
    "hpa_duplicate_score_0.shape"
   ]
  },
  {
   "cell_type": "code",
   "execution_count": 89,
   "metadata": {
    "scrolled": true
   },
   "outputs": [],
   "source": [
    "img1_vals = train_df[train_df['ID'].isin(hpa_duplicate_score_0['image1'].values)][['ID','Label']]\n",
    "img2_vals = train_df[train_df['ID'].isin(hpa_duplicate_score_0['image2'].values)][['ID','Label']]"
   ]
  },
  {
   "cell_type": "code",
   "execution_count": 100,
   "metadata": {
    "scrolled": true
   },
   "outputs": [],
   "source": [
    "img1_vals = img1_vals.rename(columns = {'ID':'image1','Label':'img1_label'})\n",
    "img2_vals = img2_vals.rename(columns = {'ID':'image2','Label':'img2_label'})"
   ]
  },
  {
   "cell_type": "code",
   "execution_count": 101,
   "metadata": {},
   "outputs": [
    {
     "data": {
      "text/html": [
       "<div>\n",
       "<style scoped>\n",
       "    .dataframe tbody tr th:only-of-type {\n",
       "        vertical-align: middle;\n",
       "    }\n",
       "\n",
       "    .dataframe tbody tr th {\n",
       "        vertical-align: top;\n",
       "    }\n",
       "\n",
       "    .dataframe thead th {\n",
       "        text-align: right;\n",
       "    }\n",
       "</style>\n",
       "<table border=\"1\" class=\"dataframe\">\n",
       "  <thead>\n",
       "    <tr style=\"text-align: right;\">\n",
       "      <th></th>\n",
       "      <th>image2</th>\n",
       "      <th>img2_label</th>\n",
       "    </tr>\n",
       "  </thead>\n",
       "  <tbody>\n",
       "    <tr>\n",
       "      <th>104</th>\n",
       "      <td>938c28a0-bb99-11e8-b2b9-ac1f6b6435d0</td>\n",
       "      <td>9|2|13</td>\n",
       "    </tr>\n",
       "    <tr>\n",
       "      <th>466</th>\n",
       "      <td>61690e8c-bb9a-11e8-b2b9-ac1f6b6435d0</td>\n",
       "      <td>2</td>\n",
       "    </tr>\n",
       "    <tr>\n",
       "      <th>906</th>\n",
       "      <td>54737086-bb9b-11e8-b2b9-ac1f6b6435d0</td>\n",
       "      <td>2|0</td>\n",
       "    </tr>\n",
       "    <tr>\n",
       "      <th>1363</th>\n",
       "      <td>6f896e06-bb9c-11e8-b2b9-ac1f6b6435d0</td>\n",
       "      <td>5</td>\n",
       "    </tr>\n",
       "    <tr>\n",
       "      <th>1375</th>\n",
       "      <td>79161d98-bb9c-11e8-b2b9-ac1f6b6435d0</td>\n",
       "      <td>7|0</td>\n",
       "    </tr>\n",
       "  </tbody>\n",
       "</table>\n",
       "</div>"
      ],
      "text/plain": [
       "                                    image2 img2_label\n",
       "104   938c28a0-bb99-11e8-b2b9-ac1f6b6435d0     9|2|13\n",
       "466   61690e8c-bb9a-11e8-b2b9-ac1f6b6435d0          2\n",
       "906   54737086-bb9b-11e8-b2b9-ac1f6b6435d0        2|0\n",
       "1363  6f896e06-bb9c-11e8-b2b9-ac1f6b6435d0          5\n",
       "1375  79161d98-bb9c-11e8-b2b9-ac1f6b6435d0        7|0"
      ]
     },
     "execution_count": 101,
     "metadata": {},
     "output_type": "execute_result"
    }
   ],
   "source": [
    "img2_vals.head()"
   ]
  },
  {
   "cell_type": "code",
   "execution_count": 103,
   "metadata": {},
   "outputs": [],
   "source": [
    "hpa_duplicate_score_0 = hpa_duplicate_score_0.merge(img1_vals, on='image1')\n",
    "hpa_duplicate_score_0 = hpa_duplicate_score_0.merge(img2_vals, on='image2')"
   ]
  },
  {
   "cell_type": "code",
   "execution_count": 105,
   "metadata": {},
   "outputs": [],
   "source": [
    "hpa_duplicate_score_0.to_csv('../data/hpa_duplicates_0.csv')"
   ]
  },
  {
   "cell_type": "markdown",
   "metadata": {},
   "source": [
    "### now we will increase this 20 to 35. lets see how this improved my model\n",
    "we will remove the duplicate images before doing the the extraction steps"
   ]
  },
  {
   "cell_type": "code",
   "execution_count": 4,
   "metadata": {},
   "outputs": [
    {
     "data": {
      "text/html": [
       "<div>\n",
       "<style scoped>\n",
       "    .dataframe tbody tr th:only-of-type {\n",
       "        vertical-align: middle;\n",
       "    }\n",
       "\n",
       "    .dataframe tbody tr th {\n",
       "        vertical-align: top;\n",
       "    }\n",
       "\n",
       "    .dataframe thead th {\n",
       "        text-align: right;\n",
       "    }\n",
       "</style>\n",
       "<table border=\"1\" class=\"dataframe\">\n",
       "  <thead>\n",
       "    <tr style=\"text-align: right;\">\n",
       "      <th></th>\n",
       "      <th>ID</th>\n",
       "      <th>total_cell_mask</th>\n",
       "      <th>selected_cells</th>\n",
       "    </tr>\n",
       "  </thead>\n",
       "  <tbody>\n",
       "    <tr>\n",
       "      <th>0</th>\n",
       "      <td>5c27f04c-bb99-11e8-b2b9-ac1f6b6435d0</td>\n",
       "      <td>8</td>\n",
       "      <td>7</td>\n",
       "    </tr>\n",
       "    <tr>\n",
       "      <th>1</th>\n",
       "      <td>5fb643ee-bb99-11e8-b2b9-ac1f6b6435d0</td>\n",
       "      <td>15</td>\n",
       "      <td>15</td>\n",
       "    </tr>\n",
       "    <tr>\n",
       "      <th>2</th>\n",
       "      <td>60b57878-bb99-11e8-b2b9-ac1f6b6435d0</td>\n",
       "      <td>17</td>\n",
       "      <td>16</td>\n",
       "    </tr>\n",
       "    <tr>\n",
       "      <th>3</th>\n",
       "      <td>5c1a898e-bb99-11e8-b2b9-ac1f6b6435d0</td>\n",
       "      <td>17</td>\n",
       "      <td>17</td>\n",
       "    </tr>\n",
       "    <tr>\n",
       "      <th>4</th>\n",
       "      <td>5b931256-bb99-11e8-b2b9-ac1f6b6435d0</td>\n",
       "      <td>45</td>\n",
       "      <td>41</td>\n",
       "    </tr>\n",
       "  </tbody>\n",
       "</table>\n",
       "</div>"
      ],
      "text/plain": [
       "                                     ID  total_cell_mask  selected_cells\n",
       "0  5c27f04c-bb99-11e8-b2b9-ac1f6b6435d0                8               7\n",
       "1  5fb643ee-bb99-11e8-b2b9-ac1f6b6435d0               15              15\n",
       "2  60b57878-bb99-11e8-b2b9-ac1f6b6435d0               17              16\n",
       "3  5c1a898e-bb99-11e8-b2b9-ac1f6b6435d0               17              17\n",
       "4  5b931256-bb99-11e8-b2b9-ac1f6b6435d0               45              41"
      ]
     },
     "execution_count": 4,
     "metadata": {},
     "output_type": "execute_result"
    }
   ],
   "source": [
    "train_df.head()"
   ]
  },
  {
   "cell_type": "code",
   "execution_count": 5,
   "metadata": {},
   "outputs": [
    {
     "name": "stdout",
     "output_type": "stream",
     "text": [
      "repeting samples  (94, 3)\n",
      "ful train df  (21806, 26)\n",
      "removed train df  (21715, 26)\n"
     ]
    },
    {
     "name": "stderr",
     "output_type": "stream",
     "text": [
      "/usr/local/lib/python3.6/dist-packages/ipykernel_launcher.py:16: SettingWithCopyWarning: \n",
      "A value is trying to be set on a copy of a slice from a DataFrame.\n",
      "Try using .loc[row_indexer,col_indexer] = value instead\n",
      "\n",
      "See the caveats in the documentation: https://pandas.pydata.org/pandas-docs/stable/user_guide/indexing.html#returning-a-view-versus-a-copy\n",
      "  app.launch_new_instance()\n"
     ]
    }
   ],
   "source": [
    "train_df = pd.read_csv('../data/cell_mask_study_40000.csv')\n",
    "hpa_duplicates = pd.read_csv('../data/hpa_duplicates.csv')\n",
    "hpa_duplicate_score_0 = hpa_duplicates[hpa_duplicates['score']==0]\n",
    "print('repeting samples ',hpa_duplicate_score_0.shape)\n",
    "print('ful train df ',train_df.shape)\n",
    "train_df = train_df[~train_df['ID'].isin(hpa_duplicate_score_0['image2'].values)]#[['ID','Label']]\n",
    "print('removed train df ',train_df.shape)\n",
    "\n",
    "\n",
    "TOP = 36\n",
    "\n",
    "filtered_df_13_less = train_df[(train_df['selected_cells'] >4) & (train_df['selected_cells'] < TOP)] \n",
    "\n",
    "\n",
    "filtered_13_high = train_df[train_df['selected_cells'] >=TOP]\n",
    "filtered_13_high['is_single'] = filtered_13_high[[str(i) for i in range(0,18)]].apply(np.sum, axis=1)\n",
    "filtered_13_high_single_class = filtered_13_high[filtered_13_high['is_single'] ==1]\n",
    "\n",
    "filtered_full = pd.concat([filtered_df_13_less, filtered_13_high_single_class])\n",
    "\n"
   ]
  },
  {
   "cell_type": "code",
   "execution_count": 6,
   "metadata": {},
   "outputs": [
    {
     "name": "stderr",
     "output_type": "stream",
     "text": [
      "/usr/local/lib/python3.6/dist-packages/sklearn/utils/validation.py:72: FutureWarning: Pass shuffle=True, random_state=1 as keyword args. From version 1.0 (renaming of 0.25) passing these as positional arguments will result in an error\n",
      "  \"will result in an error\", FutureWarning)\n",
      "/usr/local/lib/python3.6/dist-packages/ipykernel_launcher.py:15: SettingWithCopyWarning: \n",
      "A value is trying to be set on a copy of a slice from a DataFrame\n",
      "\n",
      "See the caveats in the documentation: https://pandas.pydata.org/pandas-docs/stable/user_guide/indexing.html#returning-a-view-versus-a-copy\n",
      "  from ipykernel import kernelapp as app\n"
     ]
    }
   ],
   "source": [
    "from iterstrat.ml_stratifiers import MultilabelStratifiedKFold\n",
    "\n",
    "SEED = 1\n",
    "FOLDS = 5\n",
    "\n",
    "labels = [str(i) for i in range(19)]\n",
    "\n",
    "filtered_full = filtered_full.reset_index(drop = True)\n",
    "\n",
    "skf = MultilabelStratifiedKFold(n_splits=FOLDS, shuffle=True, \n",
    "          random_state=SEED)\n",
    "\n",
    "filtered_full['fold'] = -1\n",
    "for fold,(idxT,idxV) in enumerate( skf.split(filtered_full,filtered_full[labels].values)):\n",
    "    filtered_full['fold'][idxV] = fold"
   ]
  },
  {
   "cell_type": "code",
   "execution_count": 7,
   "metadata": {},
   "outputs": [
    {
     "name": "stdout",
     "output_type": "stream",
     "text": [
      "(20684, 27)\n"
     ]
    }
   ],
   "source": [
    "print(filtered_full.shape)\n",
    "filtered_full.head()\n",
    "\n",
    "filtered_full = filtered_full.drop(['Unnamed: 0'], axis = 1)\n",
    "filtered_full.to_csv('../data/train_fold_v6.csv', index = False)"
   ]
  },
  {
   "cell_type": "code",
   "execution_count": null,
   "metadata": {},
   "outputs": [],
   "source": []
  },
  {
   "cell_type": "markdown",
   "metadata": {},
   "source": [
    "### now we will increase this 35 to 50. lets see how this improved my model\n",
    "we will remove the duplicate images before doing the the extraction steps"
   ]
  },
  {
   "cell_type": "code",
   "execution_count": 114,
   "metadata": {},
   "outputs": [
    {
     "name": "stdout",
     "output_type": "stream",
     "text": [
      "repeting samples  (94, 3)\n",
      "ful train df  (21806, 25)\n",
      "removed train df  (21715, 25)\n"
     ]
    },
    {
     "name": "stderr",
     "output_type": "stream",
     "text": [
      "/usr/local/lib/python3.6/dist-packages/ipykernel_launcher.py:16: SettingWithCopyWarning: \n",
      "A value is trying to be set on a copy of a slice from a DataFrame.\n",
      "Try using .loc[row_indexer,col_indexer] = value instead\n",
      "\n",
      "See the caveats in the documentation: https://pandas.pydata.org/pandas-docs/stable/user_guide/indexing.html#returning-a-view-versus-a-copy\n",
      "  app.launch_new_instance()\n",
      "/usr/local/lib/python3.6/dist-packages/sklearn/utils/validation.py:72: FutureWarning: Pass shuffle=True, random_state=1 as keyword args. From version 1.0 (renaming of 0.25) passing these as positional arguments will result in an error\n",
      "  \"will result in an error\", FutureWarning)\n"
     ]
    },
    {
     "name": "stdout",
     "output_type": "stream",
     "text": [
      "(21414, 26)\n"
     ]
    },
    {
     "name": "stderr",
     "output_type": "stream",
     "text": [
      "/usr/local/lib/python3.6/dist-packages/ipykernel_launcher.py:35: SettingWithCopyWarning: \n",
      "A value is trying to be set on a copy of a slice from a DataFrame\n",
      "\n",
      "See the caveats in the documentation: https://pandas.pydata.org/pandas-docs/stable/user_guide/indexing.html#returning-a-view-versus-a-copy\n"
     ]
    }
   ],
   "source": [
    "train_df = pd.read_csv('../data/cell_mask_study_30000.csv')\n",
    "hpa_duplicates = pd.read_csv('../data/hpa_duplicates.csv')\n",
    "hpa_duplicate_score_0 = hpa_duplicates[hpa_duplicates['score']==0]\n",
    "print('repeting samples ',hpa_duplicate_score_0.shape)\n",
    "print('ful train df ',train_df.shape)\n",
    "train_df = train_df[~train_df['ID'].isin(hpa_duplicate_score_0['image2'].values)]#[['ID','Label']]\n",
    "print('removed train df ',train_df.shape)\n",
    "\n",
    "\n",
    "TOP = 51\n",
    "\n",
    "filtered_df_13_less = train_df[(train_df['selected_cells'] >4) & (train_df['selected_cells'] < TOP)] \n",
    "\n",
    "\n",
    "filtered_13_high = train_df[train_df['selected_cells'] >=TOP]\n",
    "filtered_13_high['is_single'] = filtered_13_high[[str(i) for i in range(0,18)]].apply(np.sum, axis=1)\n",
    "filtered_13_high_single_class = filtered_13_high[filtered_13_high['is_single'] ==1]\n",
    "\n",
    "filtered_full = pd.concat([filtered_df_13_less, filtered_13_high_single_class])\n",
    "\n",
    "from iterstrat.ml_stratifiers import MultilabelStratifiedKFold\n",
    "\n",
    "SEED = 1\n",
    "FOLDS = 5\n",
    "\n",
    "labels = [str(i) for i in range(19)]\n",
    "\n",
    "filtered_full = filtered_full.reset_index(drop = True)\n",
    "\n",
    "skf = MultilabelStratifiedKFold(n_splits=FOLDS, shuffle=True, \n",
    "          random_state=SEED)\n",
    "\n",
    "filtered_full['fold'] = -1\n",
    "for fold,(idxT,idxV) in enumerate( skf.split(filtered_full,filtered_full[labels].values)):\n",
    "    filtered_full['fold'][idxV] = fold\n",
    "    \n",
    "print(filtered_full.shape)\n",
    "filtered_full.head()\n",
    "\n",
    "filtered_full = filtered_full.drop(['Unnamed: 0'], axis = 1)\n",
    "filtered_full.to_csv('../data/train_fold_v7.csv', index = False)"
   ]
  },
  {
   "cell_type": "markdown",
   "metadata": {},
   "source": [
    "## 256 size"
   ]
  },
  {
   "cell_type": "code",
   "execution_count": 68,
   "metadata": {},
   "outputs": [],
   "source": [
    "df_train = pd.read_csv('../data/cell_mask_study_v5.csv')# this is with train_h5_256_40000_v5\n",
    "train_df = pd.read_csv('../data/cell_mask_study_30000.csv')\n",
    "\n"
   ]
  },
  {
   "cell_type": "code",
   "execution_count": 69,
   "metadata": {},
   "outputs": [
    {
     "name": "stdout",
     "output_type": "stream",
     "text": [
      "(21806, 63)\n"
     ]
    },
    {
     "data": {
      "text/html": [
       "<div>\n",
       "<style scoped>\n",
       "    .dataframe tbody tr th:only-of-type {\n",
       "        vertical-align: middle;\n",
       "    }\n",
       "\n",
       "    .dataframe tbody tr th {\n",
       "        vertical-align: top;\n",
       "    }\n",
       "\n",
       "    .dataframe thead th {\n",
       "        text-align: right;\n",
       "    }\n",
       "</style>\n",
       "<table border=\"1\" class=\"dataframe\">\n",
       "  <thead>\n",
       "    <tr style=\"text-align: right;\">\n",
       "      <th></th>\n",
       "      <th>ID</th>\n",
       "      <th>total_cell_mask</th>\n",
       "      <th>selected_cells</th>\n",
       "      <th>Label_x</th>\n",
       "      <th>0_x</th>\n",
       "      <th>1_x</th>\n",
       "      <th>2_x</th>\n",
       "      <th>3_x</th>\n",
       "      <th>4_x</th>\n",
       "      <th>5_x</th>\n",
       "      <th>...</th>\n",
       "      <th>9</th>\n",
       "      <th>10</th>\n",
       "      <th>11</th>\n",
       "      <th>12</th>\n",
       "      <th>13</th>\n",
       "      <th>14</th>\n",
       "      <th>15</th>\n",
       "      <th>16</th>\n",
       "      <th>17</th>\n",
       "      <th>18</th>\n",
       "    </tr>\n",
       "  </thead>\n",
       "  <tbody>\n",
       "    <tr>\n",
       "      <th>0</th>\n",
       "      <td>5c27f04c-bb99-11e8-b2b9-ac1f6b6435d0</td>\n",
       "      <td>8</td>\n",
       "      <td>7</td>\n",
       "      <td>8|5|0</td>\n",
       "      <td>1</td>\n",
       "      <td>0</td>\n",
       "      <td>0</td>\n",
       "      <td>0</td>\n",
       "      <td>0</td>\n",
       "      <td>1</td>\n",
       "      <td>...</td>\n",
       "      <td>0</td>\n",
       "      <td>0</td>\n",
       "      <td>0</td>\n",
       "      <td>0</td>\n",
       "      <td>0</td>\n",
       "      <td>0</td>\n",
       "      <td>0</td>\n",
       "      <td>0</td>\n",
       "      <td>0</td>\n",
       "      <td>0</td>\n",
       "    </tr>\n",
       "    <tr>\n",
       "      <th>1</th>\n",
       "      <td>5fb643ee-bb99-11e8-b2b9-ac1f6b6435d0</td>\n",
       "      <td>15</td>\n",
       "      <td>15</td>\n",
       "      <td>14|0</td>\n",
       "      <td>1</td>\n",
       "      <td>0</td>\n",
       "      <td>0</td>\n",
       "      <td>0</td>\n",
       "      <td>0</td>\n",
       "      <td>0</td>\n",
       "      <td>...</td>\n",
       "      <td>0</td>\n",
       "      <td>0</td>\n",
       "      <td>0</td>\n",
       "      <td>0</td>\n",
       "      <td>0</td>\n",
       "      <td>1</td>\n",
       "      <td>0</td>\n",
       "      <td>0</td>\n",
       "      <td>0</td>\n",
       "      <td>0</td>\n",
       "    </tr>\n",
       "  </tbody>\n",
       "</table>\n",
       "<p>2 rows × 63 columns</p>\n",
       "</div>"
      ],
      "text/plain": [
       "                                     ID  total_cell_mask  selected_cells  \\\n",
       "0  5c27f04c-bb99-11e8-b2b9-ac1f6b6435d0                8               7   \n",
       "1  5fb643ee-bb99-11e8-b2b9-ac1f6b6435d0               15              15   \n",
       "\n",
       "  Label_x  0_x  1_x  2_x  3_x  4_x  5_x  ...  9  10  11  12  13  14  15  16  \\\n",
       "0   8|5|0    1    0    0    0    0    1  ...  0   0   0   0   0   0   0   0   \n",
       "1    14|0    1    0    0    0    0    0  ...  0   0   0   0   0   1   0   0   \n",
       "\n",
       "   17  18  \n",
       "0   0   0  \n",
       "1   0   0  \n",
       "\n",
       "[2 rows x 63 columns]"
      ]
     },
     "execution_count": 69,
     "metadata": {},
     "output_type": "execute_result"
    }
   ],
   "source": [
    "print(df_train.shape)\n",
    "df_train.head(2)\n"
   ]
  },
  {
   "cell_type": "code",
   "execution_count": 70,
   "metadata": {},
   "outputs": [],
   "source": [
    "df_train = df_train[['ID','total_cell_mask', 'selected_cells']]"
   ]
  },
  {
   "cell_type": "code",
   "execution_count": 71,
   "metadata": {},
   "outputs": [
    {
     "name": "stdout",
     "output_type": "stream",
     "text": [
      "(21806, 21)\n"
     ]
    },
    {
     "data": {
      "text/html": [
       "<div>\n",
       "<style scoped>\n",
       "    .dataframe tbody tr th:only-of-type {\n",
       "        vertical-align: middle;\n",
       "    }\n",
       "\n",
       "    .dataframe tbody tr th {\n",
       "        vertical-align: top;\n",
       "    }\n",
       "\n",
       "    .dataframe thead th {\n",
       "        text-align: right;\n",
       "    }\n",
       "</style>\n",
       "<table border=\"1\" class=\"dataframe\">\n",
       "  <thead>\n",
       "    <tr style=\"text-align: right;\">\n",
       "      <th></th>\n",
       "      <th>ID</th>\n",
       "      <th>Label</th>\n",
       "      <th>0</th>\n",
       "      <th>1</th>\n",
       "      <th>2</th>\n",
       "      <th>3</th>\n",
       "      <th>4</th>\n",
       "      <th>5</th>\n",
       "      <th>6</th>\n",
       "      <th>7</th>\n",
       "      <th>...</th>\n",
       "      <th>9</th>\n",
       "      <th>10</th>\n",
       "      <th>11</th>\n",
       "      <th>12</th>\n",
       "      <th>13</th>\n",
       "      <th>14</th>\n",
       "      <th>15</th>\n",
       "      <th>16</th>\n",
       "      <th>17</th>\n",
       "      <th>18</th>\n",
       "    </tr>\n",
       "  </thead>\n",
       "  <tbody>\n",
       "    <tr>\n",
       "      <th>0</th>\n",
       "      <td>5c27f04c-bb99-11e8-b2b9-ac1f6b6435d0</td>\n",
       "      <td>8|5|0</td>\n",
       "      <td>1</td>\n",
       "      <td>0</td>\n",
       "      <td>0</td>\n",
       "      <td>0</td>\n",
       "      <td>0</td>\n",
       "      <td>1</td>\n",
       "      <td>0</td>\n",
       "      <td>0</td>\n",
       "      <td>...</td>\n",
       "      <td>0</td>\n",
       "      <td>0</td>\n",
       "      <td>0</td>\n",
       "      <td>0</td>\n",
       "      <td>0</td>\n",
       "      <td>0</td>\n",
       "      <td>0</td>\n",
       "      <td>0</td>\n",
       "      <td>0</td>\n",
       "      <td>0</td>\n",
       "    </tr>\n",
       "    <tr>\n",
       "      <th>1</th>\n",
       "      <td>5fb643ee-bb99-11e8-b2b9-ac1f6b6435d0</td>\n",
       "      <td>14|0</td>\n",
       "      <td>1</td>\n",
       "      <td>0</td>\n",
       "      <td>0</td>\n",
       "      <td>0</td>\n",
       "      <td>0</td>\n",
       "      <td>0</td>\n",
       "      <td>0</td>\n",
       "      <td>0</td>\n",
       "      <td>...</td>\n",
       "      <td>0</td>\n",
       "      <td>0</td>\n",
       "      <td>0</td>\n",
       "      <td>0</td>\n",
       "      <td>0</td>\n",
       "      <td>1</td>\n",
       "      <td>0</td>\n",
       "      <td>0</td>\n",
       "      <td>0</td>\n",
       "      <td>0</td>\n",
       "    </tr>\n",
       "  </tbody>\n",
       "</table>\n",
       "<p>2 rows × 21 columns</p>\n",
       "</div>"
      ],
      "text/plain": [
       "                                     ID  Label  0  1  2  3  4  5  6  7  ...  \\\n",
       "0  5c27f04c-bb99-11e8-b2b9-ac1f6b6435d0  8|5|0  1  0  0  0  0  1  0  0  ...   \n",
       "1  5fb643ee-bb99-11e8-b2b9-ac1f6b6435d0   14|0  1  0  0  0  0  0  0  0  ...   \n",
       "\n",
       "   9  10  11  12  13  14  15  16  17  18  \n",
       "0  0   0   0   0   0   0   0   0   0   0  \n",
       "1  0   0   0   0   0   1   0   0   0   0  \n",
       "\n",
       "[2 rows x 21 columns]"
      ]
     },
     "execution_count": 71,
     "metadata": {},
     "output_type": "execute_result"
    }
   ],
   "source": [
    "train_df = train_df.drop(['fold', 'total_cell_mask', 'selected_cells', 'Unnamed: 0'], axis = 1)\n",
    "print(train_df.shape)\n",
    "train_df.head(2)"
   ]
  },
  {
   "cell_type": "code",
   "execution_count": 72,
   "metadata": {},
   "outputs": [],
   "source": [
    "df_train = df_train.merge(train_df, on = 'ID')\n",
    "\n",
    "df_train.to_csv('../data/cell_mask_study_v5.csv',index= False)"
   ]
  },
  {
   "cell_type": "code",
   "execution_count": 73,
   "metadata": {},
   "outputs": [
    {
     "data": {
      "text/html": [
       "<div>\n",
       "<style scoped>\n",
       "    .dataframe tbody tr th:only-of-type {\n",
       "        vertical-align: middle;\n",
       "    }\n",
       "\n",
       "    .dataframe tbody tr th {\n",
       "        vertical-align: top;\n",
       "    }\n",
       "\n",
       "    .dataframe thead th {\n",
       "        text-align: right;\n",
       "    }\n",
       "</style>\n",
       "<table border=\"1\" class=\"dataframe\">\n",
       "  <thead>\n",
       "    <tr style=\"text-align: right;\">\n",
       "      <th></th>\n",
       "      <th>ID</th>\n",
       "      <th>total_cell_mask</th>\n",
       "      <th>selected_cells</th>\n",
       "      <th>Label</th>\n",
       "      <th>0</th>\n",
       "      <th>1</th>\n",
       "      <th>2</th>\n",
       "      <th>3</th>\n",
       "      <th>4</th>\n",
       "      <th>5</th>\n",
       "      <th>...</th>\n",
       "      <th>9</th>\n",
       "      <th>10</th>\n",
       "      <th>11</th>\n",
       "      <th>12</th>\n",
       "      <th>13</th>\n",
       "      <th>14</th>\n",
       "      <th>15</th>\n",
       "      <th>16</th>\n",
       "      <th>17</th>\n",
       "      <th>18</th>\n",
       "    </tr>\n",
       "  </thead>\n",
       "  <tbody>\n",
       "    <tr>\n",
       "      <th>0</th>\n",
       "      <td>5c27f04c-bb99-11e8-b2b9-ac1f6b6435d0</td>\n",
       "      <td>8</td>\n",
       "      <td>7</td>\n",
       "      <td>8|5|0</td>\n",
       "      <td>1</td>\n",
       "      <td>0</td>\n",
       "      <td>0</td>\n",
       "      <td>0</td>\n",
       "      <td>0</td>\n",
       "      <td>1</td>\n",
       "      <td>...</td>\n",
       "      <td>0</td>\n",
       "      <td>0</td>\n",
       "      <td>0</td>\n",
       "      <td>0</td>\n",
       "      <td>0</td>\n",
       "      <td>0</td>\n",
       "      <td>0</td>\n",
       "      <td>0</td>\n",
       "      <td>0</td>\n",
       "      <td>0</td>\n",
       "    </tr>\n",
       "    <tr>\n",
       "      <th>1</th>\n",
       "      <td>5fb643ee-bb99-11e8-b2b9-ac1f6b6435d0</td>\n",
       "      <td>15</td>\n",
       "      <td>15</td>\n",
       "      <td>14|0</td>\n",
       "      <td>1</td>\n",
       "      <td>0</td>\n",
       "      <td>0</td>\n",
       "      <td>0</td>\n",
       "      <td>0</td>\n",
       "      <td>0</td>\n",
       "      <td>...</td>\n",
       "      <td>0</td>\n",
       "      <td>0</td>\n",
       "      <td>0</td>\n",
       "      <td>0</td>\n",
       "      <td>0</td>\n",
       "      <td>1</td>\n",
       "      <td>0</td>\n",
       "      <td>0</td>\n",
       "      <td>0</td>\n",
       "      <td>0</td>\n",
       "    </tr>\n",
       "  </tbody>\n",
       "</table>\n",
       "<p>2 rows × 23 columns</p>\n",
       "</div>"
      ],
      "text/plain": [
       "                                     ID  total_cell_mask  selected_cells  \\\n",
       "0  5c27f04c-bb99-11e8-b2b9-ac1f6b6435d0                8               7   \n",
       "1  5fb643ee-bb99-11e8-b2b9-ac1f6b6435d0               15              15   \n",
       "\n",
       "   Label  0  1  2  3  4  5  ...  9  10  11  12  13  14  15  16  17  18  \n",
       "0  8|5|0  1  0  0  0  0  1  ...  0   0   0   0   0   0   0   0   0   0  \n",
       "1   14|0  1  0  0  0  0  0  ...  0   0   0   0   0   1   0   0   0   0  \n",
       "\n",
       "[2 rows x 23 columns]"
      ]
     },
     "execution_count": 73,
     "metadata": {},
     "output_type": "execute_result"
    }
   ],
   "source": [
    "df_train.head(2)"
   ]
  },
  {
   "cell_type": "markdown",
   "metadata": {},
   "source": [
    "# now we will increase this 20 to 35. lets see how this improved my model\n",
    "we will remove the duplicate images before doing the the extraction steps"
   ]
  },
  {
   "cell_type": "code",
   "execution_count": 74,
   "metadata": {},
   "outputs": [
    {
     "name": "stdout",
     "output_type": "stream",
     "text": [
      "repeting samples  (94, 3)\n",
      "ful train df  (21806, 23)\n",
      "removed train df  (21715, 23)\n"
     ]
    },
    {
     "name": "stderr",
     "output_type": "stream",
     "text": [
      "/usr/local/lib/python3.6/dist-packages/ipykernel_launcher.py:16: SettingWithCopyWarning: \n",
      "A value is trying to be set on a copy of a slice from a DataFrame.\n",
      "Try using .loc[row_indexer,col_indexer] = value instead\n",
      "\n",
      "See the caveats in the documentation: https://pandas.pydata.org/pandas-docs/stable/user_guide/indexing.html#returning-a-view-versus-a-copy\n",
      "  app.launch_new_instance()\n"
     ]
    }
   ],
   "source": [
    "hpa_duplicates = pd.read_csv('../data/hpa_duplicates.csv')\n",
    "train_df = pd.read_csv('../data/cell_mask_study_v5.csv')\n",
    "hpa_duplicate_score_0 = hpa_duplicates[hpa_duplicates['score']==0]\n",
    "print('repeting samples ',hpa_duplicate_score_0.shape)\n",
    "print('ful train df ',train_df.shape)\n",
    "train_df = train_df[~train_df['ID'].isin(hpa_duplicate_score_0['image2'].values)]#[['ID','Label']]\n",
    "print('removed train df ',train_df.shape)\n",
    "\n",
    "\n",
    "TOP = 36\n",
    "\n",
    "filtered_df_13_less = train_df[(train_df['selected_cells'] >4) & (train_df['selected_cells'] < TOP)] \n",
    "\n",
    "\n",
    "filtered_13_high = train_df[train_df['selected_cells'] >=TOP]\n",
    "filtered_13_high['is_single'] = filtered_13_high[[str(i) for i in range(0,18)]].apply(np.sum, axis=1)\n",
    "filtered_13_high_single_class = filtered_13_high[filtered_13_high['is_single'] ==1]\n",
    "\n",
    "filtered_full = pd.concat([filtered_df_13_less, filtered_13_high_single_class])\n",
    "\n"
   ]
  },
  {
   "cell_type": "code",
   "execution_count": 75,
   "metadata": {},
   "outputs": [
    {
     "data": {
      "text/html": [
       "<div>\n",
       "<style scoped>\n",
       "    .dataframe tbody tr th:only-of-type {\n",
       "        vertical-align: middle;\n",
       "    }\n",
       "\n",
       "    .dataframe tbody tr th {\n",
       "        vertical-align: top;\n",
       "    }\n",
       "\n",
       "    .dataframe thead th {\n",
       "        text-align: right;\n",
       "    }\n",
       "</style>\n",
       "<table border=\"1\" class=\"dataframe\">\n",
       "  <thead>\n",
       "    <tr style=\"text-align: right;\">\n",
       "      <th></th>\n",
       "      <th>ID</th>\n",
       "      <th>total_cell_mask</th>\n",
       "      <th>selected_cells</th>\n",
       "      <th>Label</th>\n",
       "      <th>0</th>\n",
       "      <th>1</th>\n",
       "      <th>2</th>\n",
       "      <th>3</th>\n",
       "      <th>4</th>\n",
       "      <th>5</th>\n",
       "      <th>...</th>\n",
       "      <th>10</th>\n",
       "      <th>11</th>\n",
       "      <th>12</th>\n",
       "      <th>13</th>\n",
       "      <th>14</th>\n",
       "      <th>15</th>\n",
       "      <th>16</th>\n",
       "      <th>17</th>\n",
       "      <th>18</th>\n",
       "      <th>is_single</th>\n",
       "    </tr>\n",
       "  </thead>\n",
       "  <tbody>\n",
       "    <tr>\n",
       "      <th>0</th>\n",
       "      <td>5c27f04c-bb99-11e8-b2b9-ac1f6b6435d0</td>\n",
       "      <td>8</td>\n",
       "      <td>7</td>\n",
       "      <td>8|5|0</td>\n",
       "      <td>1</td>\n",
       "      <td>0</td>\n",
       "      <td>0</td>\n",
       "      <td>0</td>\n",
       "      <td>0</td>\n",
       "      <td>1</td>\n",
       "      <td>...</td>\n",
       "      <td>0</td>\n",
       "      <td>0</td>\n",
       "      <td>0</td>\n",
       "      <td>0</td>\n",
       "      <td>0</td>\n",
       "      <td>0</td>\n",
       "      <td>0</td>\n",
       "      <td>0</td>\n",
       "      <td>0</td>\n",
       "      <td>NaN</td>\n",
       "    </tr>\n",
       "    <tr>\n",
       "      <th>1</th>\n",
       "      <td>5fb643ee-bb99-11e8-b2b9-ac1f6b6435d0</td>\n",
       "      <td>15</td>\n",
       "      <td>15</td>\n",
       "      <td>14|0</td>\n",
       "      <td>1</td>\n",
       "      <td>0</td>\n",
       "      <td>0</td>\n",
       "      <td>0</td>\n",
       "      <td>0</td>\n",
       "      <td>0</td>\n",
       "      <td>...</td>\n",
       "      <td>0</td>\n",
       "      <td>0</td>\n",
       "      <td>0</td>\n",
       "      <td>0</td>\n",
       "      <td>1</td>\n",
       "      <td>0</td>\n",
       "      <td>0</td>\n",
       "      <td>0</td>\n",
       "      <td>0</td>\n",
       "      <td>NaN</td>\n",
       "    </tr>\n",
       "  </tbody>\n",
       "</table>\n",
       "<p>2 rows × 24 columns</p>\n",
       "</div>"
      ],
      "text/plain": [
       "                                     ID  total_cell_mask  selected_cells  \\\n",
       "0  5c27f04c-bb99-11e8-b2b9-ac1f6b6435d0                8               7   \n",
       "1  5fb643ee-bb99-11e8-b2b9-ac1f6b6435d0               15              15   \n",
       "\n",
       "   Label  0  1  2  3  4  5  ...  10  11  12  13  14  15  16  17  18  is_single  \n",
       "0  8|5|0  1  0  0  0  0  1  ...   0   0   0   0   0   0   0   0   0        NaN  \n",
       "1   14|0  1  0  0  0  0  0  ...   0   0   0   0   1   0   0   0   0        NaN  \n",
       "\n",
       "[2 rows x 24 columns]"
      ]
     },
     "execution_count": 75,
     "metadata": {},
     "output_type": "execute_result"
    }
   ],
   "source": [
    "filtered_full.head(2)"
   ]
  },
  {
   "cell_type": "code",
   "execution_count": 76,
   "metadata": {},
   "outputs": [
    {
     "name": "stderr",
     "output_type": "stream",
     "text": [
      "/usr/local/lib/python3.6/dist-packages/sklearn/utils/validation.py:72: FutureWarning: Pass shuffle=True, random_state=1 as keyword args. From version 1.0 (renaming of 0.25) passing these as positional arguments will result in an error\n",
      "  \"will result in an error\", FutureWarning)\n",
      "/usr/local/lib/python3.6/dist-packages/ipykernel_launcher.py:15: SettingWithCopyWarning: \n",
      "A value is trying to be set on a copy of a slice from a DataFrame\n",
      "\n",
      "See the caveats in the documentation: https://pandas.pydata.org/pandas-docs/stable/user_guide/indexing.html#returning-a-view-versus-a-copy\n",
      "  from ipykernel import kernelapp as app\n"
     ]
    }
   ],
   "source": [
    "from iterstrat.ml_stratifiers import MultilabelStratifiedKFold\n",
    "\n",
    "SEED = 1\n",
    "FOLDS = 5\n",
    "\n",
    "labels = [str(i) for i in range(19)]\n",
    "\n",
    "filtered_full = filtered_full.reset_index(drop = True)\n",
    "\n",
    "skf = MultilabelStratifiedKFold(n_splits=FOLDS, shuffle=True, \n",
    "          random_state=SEED)\n",
    "\n",
    "filtered_full['fold'] = -1\n",
    "for fold,(idxT,idxV) in enumerate( skf.split(filtered_full,filtered_full[labels].values)):\n",
    "    filtered_full['fold'][idxV] = fold"
   ]
  },
  {
   "cell_type": "code",
   "execution_count": 79,
   "metadata": {},
   "outputs": [
    {
     "name": "stdout",
     "output_type": "stream",
     "text": [
      "(20684, 25)\n"
     ]
    },
    {
     "data": {
      "text/html": [
       "<div>\n",
       "<style scoped>\n",
       "    .dataframe tbody tr th:only-of-type {\n",
       "        vertical-align: middle;\n",
       "    }\n",
       "\n",
       "    .dataframe tbody tr th {\n",
       "        vertical-align: top;\n",
       "    }\n",
       "\n",
       "    .dataframe thead th {\n",
       "        text-align: right;\n",
       "    }\n",
       "</style>\n",
       "<table border=\"1\" class=\"dataframe\">\n",
       "  <thead>\n",
       "    <tr style=\"text-align: right;\">\n",
       "      <th></th>\n",
       "      <th>ID</th>\n",
       "      <th>total_cell_mask</th>\n",
       "      <th>selected_cells</th>\n",
       "      <th>Label</th>\n",
       "      <th>0</th>\n",
       "      <th>1</th>\n",
       "      <th>2</th>\n",
       "      <th>3</th>\n",
       "      <th>4</th>\n",
       "      <th>5</th>\n",
       "      <th>...</th>\n",
       "      <th>11</th>\n",
       "      <th>12</th>\n",
       "      <th>13</th>\n",
       "      <th>14</th>\n",
       "      <th>15</th>\n",
       "      <th>16</th>\n",
       "      <th>17</th>\n",
       "      <th>18</th>\n",
       "      <th>is_single</th>\n",
       "      <th>fold</th>\n",
       "    </tr>\n",
       "  </thead>\n",
       "  <tbody>\n",
       "    <tr>\n",
       "      <th>0</th>\n",
       "      <td>5c27f04c-bb99-11e8-b2b9-ac1f6b6435d0</td>\n",
       "      <td>8</td>\n",
       "      <td>7</td>\n",
       "      <td>8|5|0</td>\n",
       "      <td>1</td>\n",
       "      <td>0</td>\n",
       "      <td>0</td>\n",
       "      <td>0</td>\n",
       "      <td>0</td>\n",
       "      <td>1</td>\n",
       "      <td>...</td>\n",
       "      <td>0</td>\n",
       "      <td>0</td>\n",
       "      <td>0</td>\n",
       "      <td>0</td>\n",
       "      <td>0</td>\n",
       "      <td>0</td>\n",
       "      <td>0</td>\n",
       "      <td>0</td>\n",
       "      <td>NaN</td>\n",
       "      <td>2</td>\n",
       "    </tr>\n",
       "    <tr>\n",
       "      <th>1</th>\n",
       "      <td>5fb643ee-bb99-11e8-b2b9-ac1f6b6435d0</td>\n",
       "      <td>15</td>\n",
       "      <td>15</td>\n",
       "      <td>14|0</td>\n",
       "      <td>1</td>\n",
       "      <td>0</td>\n",
       "      <td>0</td>\n",
       "      <td>0</td>\n",
       "      <td>0</td>\n",
       "      <td>0</td>\n",
       "      <td>...</td>\n",
       "      <td>0</td>\n",
       "      <td>0</td>\n",
       "      <td>0</td>\n",
       "      <td>1</td>\n",
       "      <td>0</td>\n",
       "      <td>0</td>\n",
       "      <td>0</td>\n",
       "      <td>0</td>\n",
       "      <td>NaN</td>\n",
       "      <td>2</td>\n",
       "    </tr>\n",
       "    <tr>\n",
       "      <th>2</th>\n",
       "      <td>60b57878-bb99-11e8-b2b9-ac1f6b6435d0</td>\n",
       "      <td>17</td>\n",
       "      <td>16</td>\n",
       "      <td>6|1</td>\n",
       "      <td>0</td>\n",
       "      <td>1</td>\n",
       "      <td>0</td>\n",
       "      <td>0</td>\n",
       "      <td>0</td>\n",
       "      <td>0</td>\n",
       "      <td>...</td>\n",
       "      <td>0</td>\n",
       "      <td>0</td>\n",
       "      <td>0</td>\n",
       "      <td>0</td>\n",
       "      <td>0</td>\n",
       "      <td>0</td>\n",
       "      <td>0</td>\n",
       "      <td>0</td>\n",
       "      <td>NaN</td>\n",
       "      <td>3</td>\n",
       "    </tr>\n",
       "    <tr>\n",
       "      <th>3</th>\n",
       "      <td>5c1a898e-bb99-11e8-b2b9-ac1f6b6435d0</td>\n",
       "      <td>17</td>\n",
       "      <td>17</td>\n",
       "      <td>16|10</td>\n",
       "      <td>0</td>\n",
       "      <td>0</td>\n",
       "      <td>0</td>\n",
       "      <td>0</td>\n",
       "      <td>0</td>\n",
       "      <td>0</td>\n",
       "      <td>...</td>\n",
       "      <td>0</td>\n",
       "      <td>0</td>\n",
       "      <td>0</td>\n",
       "      <td>0</td>\n",
       "      <td>0</td>\n",
       "      <td>1</td>\n",
       "      <td>0</td>\n",
       "      <td>0</td>\n",
       "      <td>NaN</td>\n",
       "      <td>4</td>\n",
       "    </tr>\n",
       "    <tr>\n",
       "      <th>4</th>\n",
       "      <td>5e22a522-bb99-11e8-b2b9-ac1f6b6435d0</td>\n",
       "      <td>10</td>\n",
       "      <td>9</td>\n",
       "      <td>0</td>\n",
       "      <td>1</td>\n",
       "      <td>0</td>\n",
       "      <td>0</td>\n",
       "      <td>0</td>\n",
       "      <td>0</td>\n",
       "      <td>0</td>\n",
       "      <td>...</td>\n",
       "      <td>0</td>\n",
       "      <td>0</td>\n",
       "      <td>0</td>\n",
       "      <td>0</td>\n",
       "      <td>0</td>\n",
       "      <td>0</td>\n",
       "      <td>0</td>\n",
       "      <td>0</td>\n",
       "      <td>NaN</td>\n",
       "      <td>4</td>\n",
       "    </tr>\n",
       "  </tbody>\n",
       "</table>\n",
       "<p>5 rows × 25 columns</p>\n",
       "</div>"
      ],
      "text/plain": [
       "                                     ID  total_cell_mask  selected_cells  \\\n",
       "0  5c27f04c-bb99-11e8-b2b9-ac1f6b6435d0                8               7   \n",
       "1  5fb643ee-bb99-11e8-b2b9-ac1f6b6435d0               15              15   \n",
       "2  60b57878-bb99-11e8-b2b9-ac1f6b6435d0               17              16   \n",
       "3  5c1a898e-bb99-11e8-b2b9-ac1f6b6435d0               17              17   \n",
       "4  5e22a522-bb99-11e8-b2b9-ac1f6b6435d0               10               9   \n",
       "\n",
       "   Label  0  1  2  3  4  5  ...  11  12  13  14  15  16  17  18  is_single  \\\n",
       "0  8|5|0  1  0  0  0  0  1  ...   0   0   0   0   0   0   0   0        NaN   \n",
       "1   14|0  1  0  0  0  0  0  ...   0   0   0   1   0   0   0   0        NaN   \n",
       "2    6|1  0  1  0  0  0  0  ...   0   0   0   0   0   0   0   0        NaN   \n",
       "3  16|10  0  0  0  0  0  0  ...   0   0   0   0   0   1   0   0        NaN   \n",
       "4      0  1  0  0  0  0  0  ...   0   0   0   0   0   0   0   0        NaN   \n",
       "\n",
       "   fold  \n",
       "0     2  \n",
       "1     2  \n",
       "2     3  \n",
       "3     4  \n",
       "4     4  \n",
       "\n",
       "[5 rows x 25 columns]"
      ]
     },
     "execution_count": 79,
     "metadata": {},
     "output_type": "execute_result"
    }
   ],
   "source": [
    "print(filtered_full.shape)\n",
    "filtered_full.head(5)"
   ]
  },
  {
   "cell_type": "code",
   "execution_count": 80,
   "metadata": {},
   "outputs": [],
   "source": [
    "filtered_full.to_csv('../data/train_fold_v8.csv', index = False)"
   ]
  },
  {
   "cell_type": "markdown",
   "metadata": {},
   "source": [
    "## lets increase to 50"
   ]
  },
  {
   "cell_type": "code",
   "execution_count": 28,
   "metadata": {},
   "outputs": [
    {
     "name": "stdout",
     "output_type": "stream",
     "text": [
      "repeting samples  (94, 3)\n",
      "ful train df  (21806, 23)\n",
      "removed train df  (21715, 23)\n"
     ]
    },
    {
     "name": "stderr",
     "output_type": "stream",
     "text": [
      "/usr/local/lib/python3.6/dist-packages/ipykernel_launcher.py:16: SettingWithCopyWarning: \n",
      "A value is trying to be set on a copy of a slice from a DataFrame.\n",
      "Try using .loc[row_indexer,col_indexer] = value instead\n",
      "\n",
      "See the caveats in the documentation: https://pandas.pydata.org/pandas-docs/stable/user_guide/indexing.html#returning-a-view-versus-a-copy\n",
      "  app.launch_new_instance()\n"
     ]
    }
   ],
   "source": [
    "hpa_duplicates = pd.read_csv('../data/hpa_duplicates.csv')\n",
    "train_df = pd.read_csv('../data/cell_mask_study_v5.csv')\n",
    "hpa_duplicate_score_0 = hpa_duplicates[hpa_duplicates['score']==0]\n",
    "print('repeting samples ',hpa_duplicate_score_0.shape)\n",
    "print('ful train df ',train_df.shape)\n",
    "train_df = train_df[~train_df['ID'].isin(hpa_duplicate_score_0['image2'].values)]#[['ID','Label']]\n",
    "print('removed train df ',train_df.shape)\n",
    "\n",
    "\n",
    "TOP = 51\n",
    "\n",
    "filtered_df_13_less = train_df[(train_df['selected_cells'] >4) & (train_df['selected_cells'] < TOP)] \n",
    "\n",
    "\n",
    "filtered_13_high = train_df[train_df['selected_cells'] >=TOP]\n",
    "filtered_13_high['is_single'] = filtered_13_high[[str(i) for i in range(0,18)]].apply(np.sum, axis=1)\n",
    "filtered_13_high_single_class = filtered_13_high[filtered_13_high['is_single'] ==1]\n",
    "\n",
    "filtered_full = pd.concat([filtered_df_13_less, filtered_13_high_single_class])\n",
    "\n"
   ]
  },
  {
   "cell_type": "code",
   "execution_count": 29,
   "metadata": {},
   "outputs": [
    {
     "data": {
      "text/html": [
       "<div>\n",
       "<style scoped>\n",
       "    .dataframe tbody tr th:only-of-type {\n",
       "        vertical-align: middle;\n",
       "    }\n",
       "\n",
       "    .dataframe tbody tr th {\n",
       "        vertical-align: top;\n",
       "    }\n",
       "\n",
       "    .dataframe thead th {\n",
       "        text-align: right;\n",
       "    }\n",
       "</style>\n",
       "<table border=\"1\" class=\"dataframe\">\n",
       "  <thead>\n",
       "    <tr style=\"text-align: right;\">\n",
       "      <th></th>\n",
       "      <th>ID</th>\n",
       "      <th>total_cell_mask</th>\n",
       "      <th>selected_cells</th>\n",
       "      <th>Label</th>\n",
       "      <th>0</th>\n",
       "      <th>1</th>\n",
       "      <th>2</th>\n",
       "      <th>3</th>\n",
       "      <th>4</th>\n",
       "      <th>5</th>\n",
       "      <th>...</th>\n",
       "      <th>10</th>\n",
       "      <th>11</th>\n",
       "      <th>12</th>\n",
       "      <th>13</th>\n",
       "      <th>14</th>\n",
       "      <th>15</th>\n",
       "      <th>16</th>\n",
       "      <th>17</th>\n",
       "      <th>18</th>\n",
       "      <th>is_single</th>\n",
       "    </tr>\n",
       "  </thead>\n",
       "  <tbody>\n",
       "    <tr>\n",
       "      <th>0</th>\n",
       "      <td>5c27f04c-bb99-11e8-b2b9-ac1f6b6435d0</td>\n",
       "      <td>8</td>\n",
       "      <td>7</td>\n",
       "      <td>8|5|0</td>\n",
       "      <td>1</td>\n",
       "      <td>0</td>\n",
       "      <td>0</td>\n",
       "      <td>0</td>\n",
       "      <td>0</td>\n",
       "      <td>1</td>\n",
       "      <td>...</td>\n",
       "      <td>0</td>\n",
       "      <td>0</td>\n",
       "      <td>0</td>\n",
       "      <td>0</td>\n",
       "      <td>0</td>\n",
       "      <td>0</td>\n",
       "      <td>0</td>\n",
       "      <td>0</td>\n",
       "      <td>0</td>\n",
       "      <td>NaN</td>\n",
       "    </tr>\n",
       "    <tr>\n",
       "      <th>1</th>\n",
       "      <td>5fb643ee-bb99-11e8-b2b9-ac1f6b6435d0</td>\n",
       "      <td>15</td>\n",
       "      <td>15</td>\n",
       "      <td>14|0</td>\n",
       "      <td>1</td>\n",
       "      <td>0</td>\n",
       "      <td>0</td>\n",
       "      <td>0</td>\n",
       "      <td>0</td>\n",
       "      <td>0</td>\n",
       "      <td>...</td>\n",
       "      <td>0</td>\n",
       "      <td>0</td>\n",
       "      <td>0</td>\n",
       "      <td>0</td>\n",
       "      <td>1</td>\n",
       "      <td>0</td>\n",
       "      <td>0</td>\n",
       "      <td>0</td>\n",
       "      <td>0</td>\n",
       "      <td>NaN</td>\n",
       "    </tr>\n",
       "  </tbody>\n",
       "</table>\n",
       "<p>2 rows × 24 columns</p>\n",
       "</div>"
      ],
      "text/plain": [
       "                                     ID  total_cell_mask  selected_cells  \\\n",
       "0  5c27f04c-bb99-11e8-b2b9-ac1f6b6435d0                8               7   \n",
       "1  5fb643ee-bb99-11e8-b2b9-ac1f6b6435d0               15              15   \n",
       "\n",
       "   Label  0  1  2  3  4  5  ...  10  11  12  13  14  15  16  17  18  is_single  \n",
       "0  8|5|0  1  0  0  0  0  1  ...   0   0   0   0   0   0   0   0   0        NaN  \n",
       "1   14|0  1  0  0  0  0  0  ...   0   0   0   0   1   0   0   0   0        NaN  \n",
       "\n",
       "[2 rows x 24 columns]"
      ]
     },
     "execution_count": 29,
     "metadata": {},
     "output_type": "execute_result"
    }
   ],
   "source": [
    "filtered_full.head(2)"
   ]
  },
  {
   "cell_type": "code",
   "execution_count": 30,
   "metadata": {},
   "outputs": [
    {
     "name": "stderr",
     "output_type": "stream",
     "text": [
      "/usr/local/lib/python3.6/dist-packages/sklearn/utils/validation.py:72: FutureWarning: Pass shuffle=True, random_state=1 as keyword args. From version 1.0 (renaming of 0.25) passing these as positional arguments will result in an error\n",
      "  \"will result in an error\", FutureWarning)\n",
      "/usr/local/lib/python3.6/dist-packages/ipykernel_launcher.py:15: SettingWithCopyWarning: \n",
      "A value is trying to be set on a copy of a slice from a DataFrame\n",
      "\n",
      "See the caveats in the documentation: https://pandas.pydata.org/pandas-docs/stable/user_guide/indexing.html#returning-a-view-versus-a-copy\n",
      "  from ipykernel import kernelapp as app\n"
     ]
    }
   ],
   "source": [
    "from iterstrat.ml_stratifiers import MultilabelStratifiedKFold\n",
    "\n",
    "SEED = 1\n",
    "FOLDS = 5\n",
    "\n",
    "labels = [str(i) for i in range(19)]\n",
    "\n",
    "filtered_full = filtered_full.reset_index(drop = True)\n",
    "\n",
    "skf = MultilabelStratifiedKFold(n_splits=FOLDS, shuffle=True, \n",
    "          random_state=SEED)\n",
    "\n",
    "filtered_full['fold'] = -1\n",
    "for fold,(idxT,idxV) in enumerate( skf.split(filtered_full,filtered_full[labels].values)):\n",
    "    filtered_full['fold'][idxV] = fold"
   ]
  },
  {
   "cell_type": "code",
   "execution_count": 32,
   "metadata": {},
   "outputs": [
    {
     "name": "stdout",
     "output_type": "stream",
     "text": [
      "(21495, 25)\n"
     ]
    }
   ],
   "source": [
    "print(filtered_full.shape)\n",
    "filtered_full.head(5)\n",
    "filtered_full.to_csv('../data/train_fold_v9.csv', index = False)"
   ]
  },
  {
   "cell_type": "markdown",
   "metadata": {},
   "source": [
    "## EXtra data"
   ]
  },
  {
   "cell_type": "code",
   "execution_count": 29,
   "metadata": {},
   "outputs": [
    {
     "data": {
      "text/html": [
       "<div>\n",
       "<style scoped>\n",
       "    .dataframe tbody tr th:only-of-type {\n",
       "        vertical-align: middle;\n",
       "    }\n",
       "\n",
       "    .dataframe tbody tr th {\n",
       "        vertical-align: top;\n",
       "    }\n",
       "\n",
       "    .dataframe thead th {\n",
       "        text-align: right;\n",
       "    }\n",
       "</style>\n",
       "<table border=\"1\" class=\"dataframe\">\n",
       "  <thead>\n",
       "    <tr style=\"text-align: right;\">\n",
       "      <th></th>\n",
       "      <th>Image</th>\n",
       "      <th>Label</th>\n",
       "      <th>Cellline</th>\n",
       "      <th>in_trainset</th>\n",
       "      <th>Label_idx</th>\n",
       "    </tr>\n",
       "  </thead>\n",
       "  <tbody>\n",
       "    <tr>\n",
       "      <th>0</th>\n",
       "      <td>https://images.proteinatlas.org/10005/921_B9_1</td>\n",
       "      <td>Cytosol</td>\n",
       "      <td>A-431</td>\n",
       "      <td>False</td>\n",
       "      <td>16</td>\n",
       "    </tr>\n",
       "    <tr>\n",
       "      <th>1</th>\n",
       "      <td>https://images.proteinatlas.org/10005/921_B9_2</td>\n",
       "      <td>Cytosol</td>\n",
       "      <td>A-431</td>\n",
       "      <td>False</td>\n",
       "      <td>16</td>\n",
       "    </tr>\n",
       "    <tr>\n",
       "      <th>2</th>\n",
       "      <td>https://images.proteinatlas.org/10005/923_B9_1</td>\n",
       "      <td>Cytosol</td>\n",
       "      <td>U-251 MG</td>\n",
       "      <td>False</td>\n",
       "      <td>16</td>\n",
       "    </tr>\n",
       "    <tr>\n",
       "      <th>3</th>\n",
       "      <td>https://images.proteinatlas.org/10005/923_B9_2</td>\n",
       "      <td>Cytosol</td>\n",
       "      <td>U-251 MG</td>\n",
       "      <td>False</td>\n",
       "      <td>16</td>\n",
       "    </tr>\n",
       "    <tr>\n",
       "      <th>4</th>\n",
       "      <td>https://images.proteinatlas.org/10005/931_B9_1</td>\n",
       "      <td>Cytosol</td>\n",
       "      <td>U-2 OS</td>\n",
       "      <td>False</td>\n",
       "      <td>16</td>\n",
       "    </tr>\n",
       "  </tbody>\n",
       "</table>\n",
       "</div>"
      ],
      "text/plain": [
       "                                            Image    Label  Cellline  \\\n",
       "0  https://images.proteinatlas.org/10005/921_B9_1  Cytosol     A-431   \n",
       "1  https://images.proteinatlas.org/10005/921_B9_2  Cytosol     A-431   \n",
       "2  https://images.proteinatlas.org/10005/923_B9_1  Cytosol  U-251 MG   \n",
       "3  https://images.proteinatlas.org/10005/923_B9_2  Cytosol  U-251 MG   \n",
       "4  https://images.proteinatlas.org/10005/931_B9_1  Cytosol    U-2 OS   \n",
       "\n",
       "   in_trainset Label_idx  \n",
       "0        False        16  \n",
       "1        False        16  \n",
       "2        False        16  \n",
       "3        False        16  \n",
       "4        False        16  "
      ]
     },
     "execution_count": 29,
     "metadata": {},
     "output_type": "execute_result"
    }
   ],
   "source": [
    "extra_df = pd.read_csv('../data/train_ext/kaggle_2021.tsv')\n",
    "extra_df.head()\n",
    "filtered_full.to_csv('../data/train_fold_v9.csv', index = False)"
   ]
  },
  {
   "cell_type": "code",
   "execution_count": 30,
   "metadata": {},
   "outputs": [
    {
     "data": {
      "text/html": [
       "<div>\n",
       "<style scoped>\n",
       "    .dataframe tbody tr th:only-of-type {\n",
       "        vertical-align: middle;\n",
       "    }\n",
       "\n",
       "    .dataframe tbody tr th {\n",
       "        vertical-align: top;\n",
       "    }\n",
       "\n",
       "    .dataframe thead th {\n",
       "        text-align: right;\n",
       "    }\n",
       "</style>\n",
       "<table border=\"1\" class=\"dataframe\">\n",
       "  <thead>\n",
       "    <tr style=\"text-align: right;\">\n",
       "      <th></th>\n",
       "      <th>Image</th>\n",
       "      <th>Label</th>\n",
       "      <th>Cellline</th>\n",
       "      <th>in_trainset</th>\n",
       "      <th>Label_idx</th>\n",
       "      <th>ID</th>\n",
       "    </tr>\n",
       "  </thead>\n",
       "  <tbody>\n",
       "    <tr>\n",
       "      <th>0</th>\n",
       "      <td>https://images.proteinatlas.org/10005/921_B9_1</td>\n",
       "      <td>Cytosol</td>\n",
       "      <td>A-431</td>\n",
       "      <td>False</td>\n",
       "      <td>16</td>\n",
       "      <td>921_B9_1</td>\n",
       "    </tr>\n",
       "    <tr>\n",
       "      <th>1</th>\n",
       "      <td>https://images.proteinatlas.org/10005/921_B9_2</td>\n",
       "      <td>Cytosol</td>\n",
       "      <td>A-431</td>\n",
       "      <td>False</td>\n",
       "      <td>16</td>\n",
       "      <td>921_B9_2</td>\n",
       "    </tr>\n",
       "    <tr>\n",
       "      <th>2</th>\n",
       "      <td>https://images.proteinatlas.org/10005/923_B9_1</td>\n",
       "      <td>Cytosol</td>\n",
       "      <td>U-251 MG</td>\n",
       "      <td>False</td>\n",
       "      <td>16</td>\n",
       "      <td>923_B9_1</td>\n",
       "    </tr>\n",
       "    <tr>\n",
       "      <th>3</th>\n",
       "      <td>https://images.proteinatlas.org/10005/923_B9_2</td>\n",
       "      <td>Cytosol</td>\n",
       "      <td>U-251 MG</td>\n",
       "      <td>False</td>\n",
       "      <td>16</td>\n",
       "      <td>923_B9_2</td>\n",
       "    </tr>\n",
       "    <tr>\n",
       "      <th>4</th>\n",
       "      <td>https://images.proteinatlas.org/10005/931_B9_1</td>\n",
       "      <td>Cytosol</td>\n",
       "      <td>U-2 OS</td>\n",
       "      <td>False</td>\n",
       "      <td>16</td>\n",
       "      <td>931_B9_1</td>\n",
       "    </tr>\n",
       "  </tbody>\n",
       "</table>\n",
       "</div>"
      ],
      "text/plain": [
       "                                            Image    Label  Cellline  \\\n",
       "0  https://images.proteinatlas.org/10005/921_B9_1  Cytosol     A-431   \n",
       "1  https://images.proteinatlas.org/10005/921_B9_2  Cytosol     A-431   \n",
       "2  https://images.proteinatlas.org/10005/923_B9_1  Cytosol  U-251 MG   \n",
       "3  https://images.proteinatlas.org/10005/923_B9_2  Cytosol  U-251 MG   \n",
       "4  https://images.proteinatlas.org/10005/931_B9_1  Cytosol    U-2 OS   \n",
       "\n",
       "   in_trainset Label_idx        ID  \n",
       "0        False        16  921_B9_1  \n",
       "1        False        16  921_B9_2  \n",
       "2        False        16  923_B9_1  \n",
       "3        False        16  923_B9_2  \n",
       "4        False        16  931_B9_1  "
      ]
     },
     "execution_count": 30,
     "metadata": {},
     "output_type": "execute_result"
    }
   ],
   "source": [
    "extra_df['ID'] = extra_df['Image'].apply(lambda x: x.split('/')[-1])\n",
    "extra_df.head()"
   ]
  },
  {
   "cell_type": "code",
   "execution_count": 31,
   "metadata": {},
   "outputs": [
    {
     "data": {
      "text/plain": [
       "(82495, 6)"
      ]
     },
     "execution_count": 31,
     "metadata": {},
     "output_type": "execute_result"
    }
   ],
   "source": [
    "extra_df.shape"
   ]
  },
  {
   "cell_type": "code",
   "execution_count": 32,
   "metadata": {},
   "outputs": [
    {
     "name": "stdout",
     "output_type": "stream",
     "text": [
      "92472\n",
      "['154_C1_2_yellow.png', '1216_E4_2_blue.png', '727_F8_1_yellow.png', '113_C8_2_green.png', '154_D10_1_red.png']\n"
     ]
    }
   ],
   "source": [
    "vv = os.listdir('../data/train_ext/HPA-Challenge-2021-trainset-extra')\n",
    "print(len(vv))\n",
    "print(vv[:5])"
   ]
  },
  {
   "cell_type": "code",
   "execution_count": 33,
   "metadata": {},
   "outputs": [
    {
     "name": "stdout",
     "output_type": "stream",
     "text": [
      "92472\n",
      "['154_C1_2', '1216_E4_2', '727_F8_1', '113_C8_2', '154_D10_1']\n"
     ]
    }
   ],
   "source": [
    "#lets split the files . i know that repititions of same file name exist . but its not a prob\n",
    "file_name_list = [f\"{i.split('_')[0]}_{i.split('_')[1]}_{i.split('_')[2]}\" for i in vv]\n",
    "print(len(file_name_list))\n",
    "print(file_name_list[:5])"
   ]
  },
  {
   "cell_type": "code",
   "execution_count": 34,
   "metadata": {},
   "outputs": [
    {
     "data": {
      "text/plain": [
       "(23118, 6)"
      ]
     },
     "execution_count": 34,
     "metadata": {},
     "output_type": "execute_result"
    }
   ],
   "source": [
    "extra_actual_df = extra_df[extra_df['ID'].isin(file_name_list)]\n",
    "extra_actual_df.shape"
   ]
  },
  {
   "cell_type": "code",
   "execution_count": 35,
   "metadata": {},
   "outputs": [
    {
     "data": {
      "text/plain": [
       "(23118,)"
      ]
     },
     "execution_count": 35,
     "metadata": {},
     "output_type": "execute_result"
    }
   ],
   "source": [
    "extra_actual_df['ID'].unique().shape"
   ]
  },
  {
   "cell_type": "code",
   "execution_count": 36,
   "metadata": {},
   "outputs": [],
   "source": [
    "extra_actual_df.to_csv('../data/train_ext/extra_data_full.csv')"
   ]
  },
  {
   "cell_type": "markdown",
   "metadata": {},
   "source": [
    "## due to some issue , we have only partial image data available . so we have to remove ID that are not with use as of now"
   ]
  },
  {
   "cell_type": "code",
   "execution_count": 11,
   "metadata": {},
   "outputs": [],
   "source": [
    "extra_actual_df = pd.read_csv('../data/train_ext/extra_data.csv')"
   ]
  },
  {
   "cell_type": "code",
   "execution_count": 12,
   "metadata": {},
   "outputs": [
    {
     "name": "stdout",
     "output_type": "stream",
     "text": [
      "(23114, 7)\n"
     ]
    },
    {
     "data": {
      "text/html": [
       "<div>\n",
       "<style scoped>\n",
       "    .dataframe tbody tr th:only-of-type {\n",
       "        vertical-align: middle;\n",
       "    }\n",
       "\n",
       "    .dataframe tbody tr th {\n",
       "        vertical-align: top;\n",
       "    }\n",
       "\n",
       "    .dataframe thead th {\n",
       "        text-align: right;\n",
       "    }\n",
       "</style>\n",
       "<table border=\"1\" class=\"dataframe\">\n",
       "  <thead>\n",
       "    <tr style=\"text-align: right;\">\n",
       "      <th></th>\n",
       "      <th>Unnamed: 0</th>\n",
       "      <th>Image</th>\n",
       "      <th>Label</th>\n",
       "      <th>Cellline</th>\n",
       "      <th>in_trainset</th>\n",
       "      <th>Label_idx</th>\n",
       "      <th>ID</th>\n",
       "    </tr>\n",
       "  </thead>\n",
       "  <tbody>\n",
       "    <tr>\n",
       "      <th>0</th>\n",
       "      <td>6</td>\n",
       "      <td>https://images.proteinatlas.org/10007/1876_A7_32</td>\n",
       "      <td>Endoplasmic reticulum</td>\n",
       "      <td>ASC TERT1</td>\n",
       "      <td>False</td>\n",
       "      <td>6</td>\n",
       "      <td>1876_A7_32</td>\n",
       "    </tr>\n",
       "    <tr>\n",
       "      <th>1</th>\n",
       "      <td>7</td>\n",
       "      <td>https://images.proteinatlas.org/10007/1876_A7_37</td>\n",
       "      <td>Endoplasmic reticulum</td>\n",
       "      <td>ASC TERT1</td>\n",
       "      <td>False</td>\n",
       "      <td>6</td>\n",
       "      <td>1876_A7_37</td>\n",
       "    </tr>\n",
       "    <tr>\n",
       "      <th>2</th>\n",
       "      <td>8</td>\n",
       "      <td>https://images.proteinatlas.org/10007/1901_A10_2</td>\n",
       "      <td>Vesicles</td>\n",
       "      <td>U-2 OS</td>\n",
       "      <td>False</td>\n",
       "      <td>17</td>\n",
       "      <td>1901_A10_2</td>\n",
       "    </tr>\n",
       "    <tr>\n",
       "      <th>3</th>\n",
       "      <td>9</td>\n",
       "      <td>https://images.proteinatlas.org/10007/1901_A10_3</td>\n",
       "      <td>Vesicles</td>\n",
       "      <td>U-2 OS</td>\n",
       "      <td>False</td>\n",
       "      <td>17</td>\n",
       "      <td>1901_A10_3</td>\n",
       "    </tr>\n",
       "    <tr>\n",
       "      <th>4</th>\n",
       "      <td>10</td>\n",
       "      <td>https://images.proteinatlas.org/10007/1936_E4_2</td>\n",
       "      <td>Endoplasmic reticulum</td>\n",
       "      <td>BJ</td>\n",
       "      <td>False</td>\n",
       "      <td>6</td>\n",
       "      <td>1936_E4_2</td>\n",
       "    </tr>\n",
       "  </tbody>\n",
       "</table>\n",
       "</div>"
      ],
      "text/plain": [
       "   Unnamed: 0                                             Image  \\\n",
       "0           6  https://images.proteinatlas.org/10007/1876_A7_32   \n",
       "1           7  https://images.proteinatlas.org/10007/1876_A7_37   \n",
       "2           8  https://images.proteinatlas.org/10007/1901_A10_2   \n",
       "3           9  https://images.proteinatlas.org/10007/1901_A10_3   \n",
       "4          10   https://images.proteinatlas.org/10007/1936_E4_2   \n",
       "\n",
       "                   Label   Cellline  in_trainset Label_idx          ID  \n",
       "0  Endoplasmic reticulum  ASC TERT1        False         6  1876_A7_32  \n",
       "1  Endoplasmic reticulum  ASC TERT1        False         6  1876_A7_37  \n",
       "2               Vesicles     U-2 OS        False        17  1901_A10_2  \n",
       "3               Vesicles     U-2 OS        False        17  1901_A10_3  \n",
       "4  Endoplasmic reticulum         BJ        False         6   1936_E4_2  "
      ]
     },
     "execution_count": 12,
     "metadata": {},
     "output_type": "execute_result"
    }
   ],
   "source": [
    "print(extra_actual_df.shape)\n",
    "extra_actual_df.head()"
   ]
  },
  {
   "cell_type": "code",
   "execution_count": 15,
   "metadata": {},
   "outputs": [
    {
     "name": "stdout",
     "output_type": "stream",
     "text": [
      "['1564_A6_2', '622_G6_5']\n"
     ]
    }
   ],
   "source": [
    "file_name = [i.split('.')[0] for i in os.listdir('../data/train_ext/mask/')]\n",
    "print(file_name[:2])"
   ]
  },
  {
   "cell_type": "code",
   "execution_count": 14,
   "metadata": {},
   "outputs": [
    {
     "name": "stdout",
     "output_type": "stream",
     "text": [
      "yes\n"
     ]
    }
   ],
   "source": [
    "if '1891_N5_28' in file_name:\n",
    "    print('yes')"
   ]
  },
  {
   "cell_type": "code",
   "execution_count": 18,
   "metadata": {},
   "outputs": [
    {
     "ename": "TypeError",
     "evalue": "unsupported operand type(s) for -: 'list' and 'list'",
     "output_type": "error",
     "traceback": [
      "\u001b[0;31m---------------------------------------------------------------------------\u001b[0m",
      "\u001b[0;31mTypeError\u001b[0m                                 Traceback (most recent call last)",
      "\u001b[0;32m<ipython-input-18-e19db1f1deb7>\u001b[0m in \u001b[0;36m<module>\u001b[0;34m\u001b[0m\n\u001b[0;32m----> 1\u001b[0;31m \u001b[0mfile_name\u001b[0m \u001b[0;34m-\u001b[0m \u001b[0;34m[\u001b[0m\u001b[0;34m'1564_A6_2'\u001b[0m\u001b[0;34m]\u001b[0m\u001b[0;34m\u001b[0m\u001b[0;34m\u001b[0m\u001b[0m\n\u001b[0m",
      "\u001b[0;31mTypeError\u001b[0m: unsupported operand type(s) for -: 'list' and 'list'"
     ]
    }
   ],
   "source": []
  },
  {
   "cell_type": "code",
   "execution_count": 17,
   "metadata": {},
   "outputs": [
    {
     "name": "stdout",
     "output_type": "stream",
     "text": [
      "(11946, 7)\n"
     ]
    }
   ],
   "source": [
    "extra_cutdown_df = extra_actual_df[extra_actual_df['ID'].isin(file_name)]\n",
    "#extra_cutdown_df = extra_cutdown_df[~extra_cutdown_df['ID'].isin(['1891_N5_28'])]\n",
    "print(extra_cutdown_df.shape)"
   ]
  },
  {
   "cell_type": "code",
   "execution_count": 14,
   "metadata": {},
   "outputs": [
    {
     "data": {
      "text/html": [
       "<div>\n",
       "<style scoped>\n",
       "    .dataframe tbody tr th:only-of-type {\n",
       "        vertical-align: middle;\n",
       "    }\n",
       "\n",
       "    .dataframe tbody tr th {\n",
       "        vertical-align: top;\n",
       "    }\n",
       "\n",
       "    .dataframe thead th {\n",
       "        text-align: right;\n",
       "    }\n",
       "</style>\n",
       "<table border=\"1\" class=\"dataframe\">\n",
       "  <thead>\n",
       "    <tr style=\"text-align: right;\">\n",
       "      <th></th>\n",
       "      <th>Unnamed: 0</th>\n",
       "      <th>Image</th>\n",
       "      <th>Label</th>\n",
       "      <th>Cellline</th>\n",
       "      <th>in_trainset</th>\n",
       "      <th>Label_idx</th>\n",
       "      <th>ID</th>\n",
       "    </tr>\n",
       "  </thead>\n",
       "  <tbody>\n",
       "    <tr>\n",
       "      <th>0</th>\n",
       "      <td>6</td>\n",
       "      <td>https://images.proteinatlas.org/10007/1876_A7_32</td>\n",
       "      <td>Endoplasmic reticulum</td>\n",
       "      <td>ASC TERT1</td>\n",
       "      <td>False</td>\n",
       "      <td>6</td>\n",
       "      <td>1876_A7_32</td>\n",
       "    </tr>\n",
       "    <tr>\n",
       "      <th>1</th>\n",
       "      <td>7</td>\n",
       "      <td>https://images.proteinatlas.org/10007/1876_A7_37</td>\n",
       "      <td>Endoplasmic reticulum</td>\n",
       "      <td>ASC TERT1</td>\n",
       "      <td>False</td>\n",
       "      <td>6</td>\n",
       "      <td>1876_A7_37</td>\n",
       "    </tr>\n",
       "    <tr>\n",
       "      <th>2</th>\n",
       "      <td>8</td>\n",
       "      <td>https://images.proteinatlas.org/10007/1901_A10_2</td>\n",
       "      <td>Vesicles</td>\n",
       "      <td>U-2 OS</td>\n",
       "      <td>False</td>\n",
       "      <td>17</td>\n",
       "      <td>1901_A10_2</td>\n",
       "    </tr>\n",
       "    <tr>\n",
       "      <th>3</th>\n",
       "      <td>9</td>\n",
       "      <td>https://images.proteinatlas.org/10007/1901_A10_3</td>\n",
       "      <td>Vesicles</td>\n",
       "      <td>U-2 OS</td>\n",
       "      <td>False</td>\n",
       "      <td>17</td>\n",
       "      <td>1901_A10_3</td>\n",
       "    </tr>\n",
       "    <tr>\n",
       "      <th>4</th>\n",
       "      <td>10</td>\n",
       "      <td>https://images.proteinatlas.org/10007/1936_E4_2</td>\n",
       "      <td>Endoplasmic reticulum</td>\n",
       "      <td>BJ</td>\n",
       "      <td>False</td>\n",
       "      <td>6</td>\n",
       "      <td>1936_E4_2</td>\n",
       "    </tr>\n",
       "  </tbody>\n",
       "</table>\n",
       "</div>"
      ],
      "text/plain": [
       "   Unnamed: 0                                             Image  \\\n",
       "0           6  https://images.proteinatlas.org/10007/1876_A7_32   \n",
       "1           7  https://images.proteinatlas.org/10007/1876_A7_37   \n",
       "2           8  https://images.proteinatlas.org/10007/1901_A10_2   \n",
       "3           9  https://images.proteinatlas.org/10007/1901_A10_3   \n",
       "4          10   https://images.proteinatlas.org/10007/1936_E4_2   \n",
       "\n",
       "                   Label   Cellline  in_trainset Label_idx          ID  \n",
       "0  Endoplasmic reticulum  ASC TERT1        False         6  1876_A7_32  \n",
       "1  Endoplasmic reticulum  ASC TERT1        False         6  1876_A7_37  \n",
       "2               Vesicles     U-2 OS        False        17  1901_A10_2  \n",
       "3               Vesicles     U-2 OS        False        17  1901_A10_3  \n",
       "4  Endoplasmic reticulum         BJ        False         6   1936_E4_2  "
      ]
     },
     "execution_count": 14,
     "metadata": {},
     "output_type": "execute_result"
    }
   ],
   "source": [
    "extra_cutdown_df.head()"
   ]
  },
  {
   "cell_type": "code",
   "execution_count": 18,
   "metadata": {},
   "outputs": [],
   "source": [
    "extra_cutdown_df = extra_cutdown_df.drop(['Unnamed: 0'], axis=1)\n",
    "extra_cutdown_df.to_csv('../data/train_ext/extra_cutdown_data.csv', index= False)"
   ]
  },
  {
   "cell_type": "markdown",
   "metadata": {},
   "source": [
    "## Missing data . we got it . now we will only extract mask and cell for them alone"
   ]
  },
  {
   "cell_type": "code",
   "execution_count": 3,
   "metadata": {},
   "outputs": [],
   "source": [
    "extra_actual_df = pd.read_csv('../data/train_ext/extra_data_full.csv')"
   ]
  },
  {
   "cell_type": "code",
   "execution_count": 4,
   "metadata": {},
   "outputs": [
    {
     "name": "stdout",
     "output_type": "stream",
     "text": [
      "['1564_A6_2', '622_G6_5']\n",
      "(11172, 7)\n"
     ]
    }
   ],
   "source": [
    "file_name = [i.split('.')[0] for i in os.listdir('../data/train_ext/mask/')]\n",
    "print(file_name[:2])\n",
    "\n",
    "extra_cutdown_df = extra_actual_df[~extra_actual_df['ID'].isin(file_name)]\n",
    "#extra_cutdown_df = extra_cutdown_df[~extra_cutdown_df['ID'].isin(['1891_N5_28'])]\n",
    "print(extra_cutdown_df.shape)"
   ]
  },
  {
   "cell_type": "code",
   "execution_count": 5,
   "metadata": {},
   "outputs": [],
   "source": [
    "extra_cutdown_df = extra_cutdown_df.drop(['Unnamed: 0'], axis=1)\n",
    "extra_cutdown_df.to_csv('../data/train_ext/extra_cutdown_data_part2.csv', index= False)"
   ]
  },
  {
   "cell_type": "markdown",
   "metadata": {},
   "source": [
    "## extra data_ correct down"
   ]
  },
  {
   "cell_type": "code",
   "execution_count": 2,
   "metadata": {},
   "outputs": [],
   "source": [
    "file_list = os.listdir('../data/train_ext/HPA-Challenge-2021-trainset-extra')"
   ]
  },
  {
   "cell_type": "code",
   "execution_count": 4,
   "metadata": {},
   "outputs": [
    {
     "name": "stdout",
     "output_type": "stream",
     "text": [
      "91529\n"
     ]
    },
    {
     "data": {
      "text/plain": [
       "['154_C1_2_yellow.png',\n",
       " '1216_E4_2_blue.png',\n",
       " '727_F8_1_yellow.png',\n",
       " '113_C8_2_green.png',\n",
       " '154_D10_1_red.png']"
      ]
     },
     "execution_count": 4,
     "metadata": {},
     "output_type": "execute_result"
    }
   ],
   "source": [
    "print(file_list.__len__())\n",
    "file_list[:5]"
   ]
  },
  {
   "cell_type": "code",
   "execution_count": 7,
   "metadata": {},
   "outputs": [],
   "source": [
    "file_df = pd.DataFrame.from_dict({'File_name':file_list}) \n",
    "file_df.head(2)\n",
    "file_df.to_csv('../data/train_ext/file_df.csv',index = False)"
   ]
  },
  {
   "cell_type": "markdown",
   "metadata": {},
   "source": [
    "## IMP CSV\n",
    "\n",
    "extra_data_full.csv\n",
    "\n",
    "extra_cutdown_data_part2.csv\n",
    "\n",
    "extra_cutdown_data.csv\n"
   ]
  },
  {
   "cell_type": "markdown",
   "metadata": {},
   "source": [
    "## lets get it labeled"
   ]
  },
  {
   "cell_type": "code",
   "execution_count": 22,
   "metadata": {},
   "outputs": [],
   "source": [
    "extra_actual_df = pd.read_csv('../data/train_ext/extra_data_full.csv')"
   ]
  },
  {
   "cell_type": "code",
   "execution_count": 23,
   "metadata": {},
   "outputs": [
    {
     "data": {
      "text/html": [
       "<div>\n",
       "<style scoped>\n",
       "    .dataframe tbody tr th:only-of-type {\n",
       "        vertical-align: middle;\n",
       "    }\n",
       "\n",
       "    .dataframe tbody tr th {\n",
       "        vertical-align: top;\n",
       "    }\n",
       "\n",
       "    .dataframe thead th {\n",
       "        text-align: right;\n",
       "    }\n",
       "</style>\n",
       "<table border=\"1\" class=\"dataframe\">\n",
       "  <thead>\n",
       "    <tr style=\"text-align: right;\">\n",
       "      <th></th>\n",
       "      <th>Unnamed: 0</th>\n",
       "      <th>Image</th>\n",
       "      <th>Label</th>\n",
       "      <th>Cellline</th>\n",
       "      <th>in_trainset</th>\n",
       "      <th>Label_idx</th>\n",
       "      <th>ID</th>\n",
       "    </tr>\n",
       "  </thead>\n",
       "  <tbody>\n",
       "    <tr>\n",
       "      <th>0</th>\n",
       "      <td>6</td>\n",
       "      <td>https://images.proteinatlas.org/10007/1876_A7_32</td>\n",
       "      <td>Endoplasmic reticulum</td>\n",
       "      <td>ASC TERT1</td>\n",
       "      <td>False</td>\n",
       "      <td>6</td>\n",
       "      <td>1876_A7_32</td>\n",
       "    </tr>\n",
       "    <tr>\n",
       "      <th>1</th>\n",
       "      <td>7</td>\n",
       "      <td>https://images.proteinatlas.org/10007/1876_A7_37</td>\n",
       "      <td>Endoplasmic reticulum</td>\n",
       "      <td>ASC TERT1</td>\n",
       "      <td>False</td>\n",
       "      <td>6</td>\n",
       "      <td>1876_A7_37</td>\n",
       "    </tr>\n",
       "  </tbody>\n",
       "</table>\n",
       "</div>"
      ],
      "text/plain": [
       "   Unnamed: 0                                             Image  \\\n",
       "0           6  https://images.proteinatlas.org/10007/1876_A7_32   \n",
       "1           7  https://images.proteinatlas.org/10007/1876_A7_37   \n",
       "\n",
       "                   Label   Cellline  in_trainset Label_idx          ID  \n",
       "0  Endoplasmic reticulum  ASC TERT1        False         6  1876_A7_32  \n",
       "1  Endoplasmic reticulum  ASC TERT1        False         6  1876_A7_37  "
      ]
     },
     "execution_count": 23,
     "metadata": {},
     "output_type": "execute_result"
    }
   ],
   "source": [
    "extra_actual_df.head(2)"
   ]
  },
  {
   "cell_type": "code",
   "execution_count": 24,
   "metadata": {
    "scrolled": true
   },
   "outputs": [
    {
     "data": {
      "text/plain": [
       "array(['6', '17', '6|7', '4|13|16', '17|9', '0|17', '11|16', '4',\n",
       "       '0|17|16', '0|3', '0|3|16', '17|16', '12|16', '0|1|17|16', '4|16',\n",
       "       '5', '13|12', '12', '17|14', '6|16', '3|16', '5|16', '0|12|16',\n",
       "       '4|7|13|13', '17|13', '7|17', '4|12', '17|12', '10', '17|10',\n",
       "       '3|17', '3|17|17', '9', '0|9|16', '0|9', '0|5|13', '0|4', '3|6',\n",
       "       '6|13', '0|1|2|16', '0|11', '6|17', '8', '9|16', '3', '0|5', '0|6',\n",
       "       '0|12|14', '5|10', '0|7|17', '13|9', '2|9', '1|16', '5|17|16',\n",
       "       '0|17|13', '4|17', '13|9|16', '5|6', '2|6', '1', '2|17', '4|16|17',\n",
       "       '0|12', '0|17|11', '4|13', '0|5|16', '0|5|14', '10|12|16', '10|16',\n",
       "       '17|15', '0|1', '4|5', '4|6', '12|14', '13|10', '9|12|16', '9|12',\n",
       "       '7|11|16', '1|7', '6|8', '6|8|15', '4|7', '18', '13|8|16',\n",
       "       '0|1|14', '8|9', '17|17', '0|17|17', '1|12|16', '0', '13|12|16',\n",
       "       '4|13|8', '7|17|16', '0|8', '3|10', '0|6|16', '0|2|17|16',\n",
       "       '5|7|16', '1|6', '0|2|17', '2|8', '13', '9|9|16', '4|14', '0|4|16',\n",
       "       '0|16', '2|7|17', '0|4|10', '0|4|10|12', '0|5|7', '0|1|16',\n",
       "       '6|7|13', '4|7|16', '4|7|13', '0|5|17', '5|14', '8|16', '7',\n",
       "       '17|13|16', '0|4|17', '4|17|13', '3|13|14', '5|8', '2|5', '0|3|14',\n",
       "       '0|3|5', '8|15', '7|17|13', '0|2|10', '0|2|9|10', '16|17', '2|12',\n",
       "       '15', '0|15', '17|13|13', '0|10', '1|5', '0|1|17', '0|1|13', '4|9',\n",
       "       '0|13|9', '5|13|16', '0|1|10', '9|9', '6|7|16', '3|13', '0|3|10',\n",
       "       '10|11', '17|8', '17|13|12', '4|17|16', '7|13|9', '13|8|10',\n",
       "       '13|8', '10|14', '1|8', '0|17|12', '0|8|16', '13|15', '1|4',\n",
       "       '0|1|14|16', '13|9|12', '0|5|13|16', '4|12|16', '2|17|13|12',\n",
       "       '2|13|12', '7|9', '1|13', '0|2|9|16', '2|9|16', '0|13|16', '3|7',\n",
       "       '11|12|16', '2|10|16', '2|10', '5|17', '0|10|16', '2|4|16', '9|10',\n",
       "       '0|10|12', '1|12', '3|14', '15|16', '0|3|17', '0|3|17|16', '1|14',\n",
       "       '13|11|12', '0|13|9|16', '1|17', '17|10|12', '6|14', '0|6|13',\n",
       "       '13|10|12', '16', '17|12|16', '0|17|12|16', '7|12|16', '2|10|11',\n",
       "       '7|17|13|16', '7|16', '2|13|10|16', '0|1|2', '0|13|12', '1|2',\n",
       "       '13|11', '10|2', '0|17|8', '0|5|12|16', '5|13|13|16', '0|6|17',\n",
       "       '5|13', '5|13|11', '2|13|9', '0|13|11', '0|5|13|9', '13|13|9|16',\n",
       "       '0|15|16', '4|7|13|16', '2|8|16', '2|4|17', '4|13|17', '2|4|13|17',\n",
       "       '3|17|13', '0|3|12|16', '0|2|5', '0|17|9', '6|17|16', '9|14',\n",
       "       '0|5|12', '1|3', '13|17', '10|12', '1|5|16', '0|2|8|16',\n",
       "       '17|14|16', '8|9|16', '0|17|13|16', '0|7|17|16', '12|16|17',\n",
       "       '4|13|13', '5|7', '0|3|7', '2|6|16', '17|13|9', '0|17|13|13',\n",
       "       '0|1|7|16', '0|17|9|16', '0|11|16', '5|12', '0|3|13', '11',\n",
       "       '0|11|12|16', '10|11|12|16', '0|13', '1|4|17', '13|13|12',\n",
       "       '0|17|14', '13|10|11', '0|7|9', '0|7|13|9', '14', '3|17|16',\n",
       "       '3|13|16', '3|13|12|16', '6|10|16', '0|13|10', '3|17|8',\n",
       "       '2|5|6|16', '5|6|16', '3|14|16', '3|4', '0|1|13|16', '0|13|15',\n",
       "       '0|2|9', '4|15', '2|4', '0|7|12|16', '1|13|16', '2|13|12|16',\n",
       "       '0|9|9', '4|8', '1|13|13', '0|2|12|16', '3|9|16', '0|5|17|9',\n",
       "       '1|2|7|16', '1|2|7', '6|13|16', '0|16|17', '2|5|9', '5|9',\n",
       "       '17|10|14', '13|10|16', '3|9', '2|9|14', '4|13|9', '0|2|17|13',\n",
       "       '13|12|14', '2|17|13|16', '0|5|7|12', '0|13|9|12', '17|13|9|16',\n",
       "       '14|15', '0|2|17|9|16', '0|17|13|9|16', '17|9|16', '0|4|13',\n",
       "       '1|4|16', '0|3|12', '1|9|16', '13|9|9|16', '0|2|12', '3|4|16',\n",
       "       '1|13|9', '0|13|9|14', '0|1|5', '13|9|14', '17|10|11', '3|17|14',\n",
       "       '2|17|14', '0|17|15', '0|1|6', '3|12|16', '8|17', '0|3|14|16',\n",
       "       '4|13|12', '9|14|16', '0|10|11', '11|12', '3|15', '4|13|12|16',\n",
       "       '0|13|12|16', '0|1|2|14', '17|11|16', '7|10', '0|11|12',\n",
       "       '0|2|13|12', '14|16', '5|13|8', '0|1|9', '5|17|13', '1|17|16',\n",
       "       '2|15', '1|4|13', '4|10', '4|10|16', '0|1|13|13|16', '3|6|16',\n",
       "       '0|5|10', '0|5|10|16', '0|1|12', '2|17|13', '2|17|16', '0|1|5|17',\n",
       "       '3|5', '0|4|14', '2|6|13|16', '0|5|17|16', '4|8|16', '0|3|8',\n",
       "       '4|17|13|16', '1|7|17', '1|7|17|16', '0|9|14', '0|4|13|11|16',\n",
       "       '0|2|10|16', '7|17|10', '9|17', '13|9|17', '13|13|12|16',\n",
       "       '6|12|16', '0|2|8', '3|12', '2|5|16', '6|13|9', '5|12|16',\n",
       "       '5|7|17', '13|13|9', '2|6|17', '0|6|13|16', '6|12', '0|13|17',\n",
       "       '13|16|17', '5|8|16', '7|9|12', '8|12', '17|17|11', '3|7|16',\n",
       "       '0|2|16', '8|14', '1|17|13', '7|12', '4|9|16', '1|3|4', '10|11|14',\n",
       "       '13|9|9', '1|17|15|16', '0|3|5|17', '0|10|14', '7|13', '1|4|7',\n",
       "       '0|5|15', '7|15', '0|7|13', '7|13|15|16', '5|13|9', '0|1|7',\n",
       "       '0|7|12', '0|6|13|12|16', '7|9|16', '0|3|6|16', '0|5|9',\n",
       "       '0|1|13|9', '0|17|13|14', '0|9|14|16', '0|13|9|9', '6|17|12',\n",
       "       '0|4|17|16', '5|17|13|16', '0|2|5|14', '12|15', '17|11',\n",
       "       '0|7|13|12|16', '7|11', '5|15', '3|7|17', '2|11', '5|11|14',\n",
       "       '0|2|11', '6|12|14', '17|17|16', '3|8', '1|5|13|14', '2|12|16',\n",
       "       '7|17|12'], dtype=object)"
      ]
     },
     "execution_count": 24,
     "metadata": {},
     "output_type": "execute_result"
    }
   ],
   "source": [
    "extra_actual_df['Label_idx'].unique()"
   ]
  },
  {
   "cell_type": "code",
   "execution_count": 25,
   "metadata": {},
   "outputs": [
    {
     "data": {
      "text/html": [
       "<div>\n",
       "<style scoped>\n",
       "    .dataframe tbody tr th:only-of-type {\n",
       "        vertical-align: middle;\n",
       "    }\n",
       "\n",
       "    .dataframe tbody tr th {\n",
       "        vertical-align: top;\n",
       "    }\n",
       "\n",
       "    .dataframe thead th {\n",
       "        text-align: right;\n",
       "    }\n",
       "</style>\n",
       "<table border=\"1\" class=\"dataframe\">\n",
       "  <thead>\n",
       "    <tr style=\"text-align: right;\">\n",
       "      <th></th>\n",
       "      <th>Unnamed: 0</th>\n",
       "      <th>Image</th>\n",
       "      <th>Label</th>\n",
       "      <th>Cellline</th>\n",
       "      <th>in_trainset</th>\n",
       "      <th>Label_idx</th>\n",
       "      <th>ID</th>\n",
       "      <th>0</th>\n",
       "      <th>1</th>\n",
       "      <th>2</th>\n",
       "      <th>...</th>\n",
       "      <th>9</th>\n",
       "      <th>10</th>\n",
       "      <th>11</th>\n",
       "      <th>12</th>\n",
       "      <th>13</th>\n",
       "      <th>14</th>\n",
       "      <th>15</th>\n",
       "      <th>16</th>\n",
       "      <th>17</th>\n",
       "      <th>18</th>\n",
       "    </tr>\n",
       "  </thead>\n",
       "  <tbody>\n",
       "    <tr>\n",
       "      <th>0</th>\n",
       "      <td>6</td>\n",
       "      <td>https://images.proteinatlas.org/10007/1876_A7_32</td>\n",
       "      <td>Endoplasmic reticulum</td>\n",
       "      <td>ASC TERT1</td>\n",
       "      <td>False</td>\n",
       "      <td>6</td>\n",
       "      <td>1876_A7_32</td>\n",
       "      <td>0</td>\n",
       "      <td>0</td>\n",
       "      <td>0</td>\n",
       "      <td>...</td>\n",
       "      <td>0</td>\n",
       "      <td>0</td>\n",
       "      <td>0</td>\n",
       "      <td>0</td>\n",
       "      <td>0</td>\n",
       "      <td>0</td>\n",
       "      <td>0</td>\n",
       "      <td>0</td>\n",
       "      <td>0</td>\n",
       "      <td>0</td>\n",
       "    </tr>\n",
       "    <tr>\n",
       "      <th>1</th>\n",
       "      <td>7</td>\n",
       "      <td>https://images.proteinatlas.org/10007/1876_A7_37</td>\n",
       "      <td>Endoplasmic reticulum</td>\n",
       "      <td>ASC TERT1</td>\n",
       "      <td>False</td>\n",
       "      <td>6</td>\n",
       "      <td>1876_A7_37</td>\n",
       "      <td>0</td>\n",
       "      <td>0</td>\n",
       "      <td>0</td>\n",
       "      <td>...</td>\n",
       "      <td>0</td>\n",
       "      <td>0</td>\n",
       "      <td>0</td>\n",
       "      <td>0</td>\n",
       "      <td>0</td>\n",
       "      <td>0</td>\n",
       "      <td>0</td>\n",
       "      <td>0</td>\n",
       "      <td>0</td>\n",
       "      <td>0</td>\n",
       "    </tr>\n",
       "    <tr>\n",
       "      <th>2</th>\n",
       "      <td>8</td>\n",
       "      <td>https://images.proteinatlas.org/10007/1901_A10_2</td>\n",
       "      <td>Vesicles</td>\n",
       "      <td>U-2 OS</td>\n",
       "      <td>False</td>\n",
       "      <td>17</td>\n",
       "      <td>1901_A10_2</td>\n",
       "      <td>0</td>\n",
       "      <td>0</td>\n",
       "      <td>0</td>\n",
       "      <td>...</td>\n",
       "      <td>0</td>\n",
       "      <td>0</td>\n",
       "      <td>0</td>\n",
       "      <td>0</td>\n",
       "      <td>0</td>\n",
       "      <td>0</td>\n",
       "      <td>0</td>\n",
       "      <td>0</td>\n",
       "      <td>1</td>\n",
       "      <td>0</td>\n",
       "    </tr>\n",
       "    <tr>\n",
       "      <th>3</th>\n",
       "      <td>9</td>\n",
       "      <td>https://images.proteinatlas.org/10007/1901_A10_3</td>\n",
       "      <td>Vesicles</td>\n",
       "      <td>U-2 OS</td>\n",
       "      <td>False</td>\n",
       "      <td>17</td>\n",
       "      <td>1901_A10_3</td>\n",
       "      <td>0</td>\n",
       "      <td>0</td>\n",
       "      <td>0</td>\n",
       "      <td>...</td>\n",
       "      <td>0</td>\n",
       "      <td>0</td>\n",
       "      <td>0</td>\n",
       "      <td>0</td>\n",
       "      <td>0</td>\n",
       "      <td>0</td>\n",
       "      <td>0</td>\n",
       "      <td>0</td>\n",
       "      <td>1</td>\n",
       "      <td>0</td>\n",
       "    </tr>\n",
       "    <tr>\n",
       "      <th>4</th>\n",
       "      <td>10</td>\n",
       "      <td>https://images.proteinatlas.org/10007/1936_E4_2</td>\n",
       "      <td>Endoplasmic reticulum</td>\n",
       "      <td>BJ</td>\n",
       "      <td>False</td>\n",
       "      <td>6</td>\n",
       "      <td>1936_E4_2</td>\n",
       "      <td>0</td>\n",
       "      <td>0</td>\n",
       "      <td>0</td>\n",
       "      <td>...</td>\n",
       "      <td>0</td>\n",
       "      <td>0</td>\n",
       "      <td>0</td>\n",
       "      <td>0</td>\n",
       "      <td>0</td>\n",
       "      <td>0</td>\n",
       "      <td>0</td>\n",
       "      <td>0</td>\n",
       "      <td>0</td>\n",
       "      <td>0</td>\n",
       "    </tr>\n",
       "  </tbody>\n",
       "</table>\n",
       "<p>5 rows × 26 columns</p>\n",
       "</div>"
      ],
      "text/plain": [
       "   Unnamed: 0                                             Image  \\\n",
       "0           6  https://images.proteinatlas.org/10007/1876_A7_32   \n",
       "1           7  https://images.proteinatlas.org/10007/1876_A7_37   \n",
       "2           8  https://images.proteinatlas.org/10007/1901_A10_2   \n",
       "3           9  https://images.proteinatlas.org/10007/1901_A10_3   \n",
       "4          10   https://images.proteinatlas.org/10007/1936_E4_2   \n",
       "\n",
       "                   Label   Cellline  in_trainset Label_idx          ID  0  1  \\\n",
       "0  Endoplasmic reticulum  ASC TERT1        False         6  1876_A7_32  0  0   \n",
       "1  Endoplasmic reticulum  ASC TERT1        False         6  1876_A7_37  0  0   \n",
       "2               Vesicles     U-2 OS        False        17  1901_A10_2  0  0   \n",
       "3               Vesicles     U-2 OS        False        17  1901_A10_3  0  0   \n",
       "4  Endoplasmic reticulum         BJ        False         6   1936_E4_2  0  0   \n",
       "\n",
       "   2  ...  9  10  11  12  13  14  15  16  17  18  \n",
       "0  0  ...  0   0   0   0   0   0   0   0   0   0  \n",
       "1  0  ...  0   0   0   0   0   0   0   0   0   0  \n",
       "2  0  ...  0   0   0   0   0   0   0   0   1   0  \n",
       "3  0  ...  0   0   0   0   0   0   0   0   1   0  \n",
       "4  0  ...  0   0   0   0   0   0   0   0   0   0  \n",
       "\n",
       "[5 rows x 26 columns]"
      ]
     },
     "execution_count": 25,
     "metadata": {},
     "output_type": "execute_result"
    }
   ],
   "source": [
    "labels = [str(i) for i in range(19)]\n",
    "for x in labels: extra_actual_df[x] = extra_actual_df['Label_idx'].apply(lambda r: int(x in r.split('|')))\n",
    "extra_actual_df.head()"
   ]
  },
  {
   "cell_type": "code",
   "execution_count": 27,
   "metadata": {},
   "outputs": [],
   "source": [
    "extra_actual_df = extra_actual_df.drop(['Unnamed: 0'],axis=1)\n",
    "extra_actual_df.to_csv('../data/train_ext/extra_data_full.csv', index = False)"
   ]
  }
 ],
 "metadata": {
  "kernelspec": {
   "display_name": "Python 3",
   "language": "python",
   "name": "python3"
  },
  "language_info": {
   "codemirror_mode": {
    "name": "ipython",
    "version": 3
   },
   "file_extension": ".py",
   "mimetype": "text/x-python",
   "name": "python",
   "nbconvert_exporter": "python",
   "pygments_lexer": "ipython3",
   "version": "3.6.9"
  }
 },
 "nbformat": 4,
 "nbformat_minor": 4
}
