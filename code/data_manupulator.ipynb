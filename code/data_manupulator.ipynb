{
 "cells": [
  {
   "cell_type": "code",
   "execution_count": 2,
   "metadata": {},
   "outputs": [],
   "source": [
    "import pandas as pd\n",
    "import numpy as np"
   ]
  },
  {
   "cell_type": "code",
   "execution_count": null,
   "metadata": {},
   "outputs": [],
   "source": [
    "train_df = pd.read_csv('../data/cell_mask_study_30000.csv')"
   ]
  },
  {
   "cell_type": "code",
   "execution_count": null,
   "metadata": {},
   "outputs": [],
   "source": [
    "filtered_df_13_less = train_df[(train_df['selected_cells'] >4) & (train_df['selected_cells'] < 13)] \n",
    "print(filtered_df_13_less.shape)\n",
    "filtered_df_13_less.head()"
   ]
  },
  {
   "cell_type": "code",
   "execution_count": null,
   "metadata": {},
   "outputs": [],
   "source": [
    "filtered_13_high = train_df[train_df['selected_cells'] >=13]\n",
    "print(filtered_13_high.shape)\n",
    "filtered_13_high.head()"
   ]
  },
  {
   "cell_type": "code",
   "execution_count": null,
   "metadata": {},
   "outputs": [],
   "source": [
    "filtered_13_high['is_single'] = filtered_13_high[[str(i) for i in range(0,18)]].apply(np.sum, axis=1)\n",
    "filtered_13_high.head()"
   ]
  },
  {
   "cell_type": "code",
   "execution_count": null,
   "metadata": {},
   "outputs": [],
   "source": [
    "filtered_13_high_single_class = filtered_13_high[filtered_13_high['is_single'] ==1]\n",
    "print(filtered_13_high_single_class.shape)\n",
    "filtered_13_high_single_class.head()"
   ]
  },
  {
   "cell_type": "code",
   "execution_count": null,
   "metadata": {},
   "outputs": [],
   "source": [
    "filtered_full = pd.concat([filtered_df_13_less, filtered_13_high_single_class])\n",
    "print(filtered_full.shape)\n",
    "filtered_full.head()"
   ]
  },
  {
   "cell_type": "code",
   "execution_count": null,
   "metadata": {},
   "outputs": [],
   "source": [
    "filtered_full = filtered_full.drop(['Unnamed: 0'], axis = 1)\n",
    "filtered_full.to_csv('../data/train_fold_v1.csv', index = False)"
   ]
  },
  {
   "cell_type": "markdown",
   "metadata": {},
   "source": [
    "### now we will increase this 13 to 20. lets see how this improved my model"
   ]
  },
  {
   "cell_type": "code",
   "execution_count": 6,
   "metadata": {},
   "outputs": [
    {
     "name": "stderr",
     "output_type": "stream",
     "text": [
      "/usr/local/lib/python3.6/dist-packages/ipykernel_launcher.py:9: SettingWithCopyWarning: \n",
      "A value is trying to be set on a copy of a slice from a DataFrame.\n",
      "Try using .loc[row_indexer,col_indexer] = value instead\n",
      "\n",
      "See the caveats in the documentation: https://pandas.pydata.org/pandas-docs/stable/user_guide/indexing.html#returning-a-view-versus-a-copy\n",
      "  if __name__ == '__main__':\n"
     ]
    }
   ],
   "source": [
    "train_df = pd.read_csv('../data/cell_mask_study_30000.csv')\n",
    "\n",
    "TOP = 21\n",
    "\n",
    "filtered_df_13_less = train_df[(train_df['selected_cells'] >4) & (train_df['selected_cells'] < TOP)] \n",
    "\n",
    "\n",
    "filtered_13_high = train_df[train_df['selected_cells'] >=TOP]\n",
    "filtered_13_high['is_single'] = filtered_13_high[[str(i) for i in range(0,18)]].apply(np.sum, axis=1)\n",
    "filtered_13_high_single_class = filtered_13_high[filtered_13_high['is_single'] ==1]\n",
    "\n",
    "filtered_full = pd.concat([filtered_df_13_less, filtered_13_high_single_class])\n",
    "\n"
   ]
  },
  {
   "cell_type": "code",
   "execution_count": 8,
   "metadata": {},
   "outputs": [
    {
     "name": "stderr",
     "output_type": "stream",
     "text": [
      "/usr/local/lib/python3.6/dist-packages/sklearn/utils/validation.py:72: FutureWarning: Pass shuffle=True, random_state=1 as keyword args. From version 1.0 (renaming of 0.25) passing these as positional arguments will result in an error\n",
      "  \"will result in an error\", FutureWarning)\n",
      "/usr/local/lib/python3.6/dist-packages/ipykernel_launcher.py:15: SettingWithCopyWarning: \n",
      "A value is trying to be set on a copy of a slice from a DataFrame\n",
      "\n",
      "See the caveats in the documentation: https://pandas.pydata.org/pandas-docs/stable/user_guide/indexing.html#returning-a-view-versus-a-copy\n",
      "  from ipykernel import kernelapp as app\n"
     ]
    }
   ],
   "source": [
    "from iterstrat.ml_stratifiers import MultilabelStratifiedKFold\n",
    "\n",
    "SEED = 1\n",
    "FOLDS = 3\n",
    "\n",
    "labels = [str(i) for i in range(19)]\n",
    "\n",
    "filtered_full = filtered_full.reset_index(drop = True)\n",
    "\n",
    "skf = MultilabelStratifiedKFold(n_splits=FOLDS, shuffle=True, \n",
    "          random_state=SEED)\n",
    "\n",
    "filtered_full['fold'] = -1\n",
    "for fold,(idxT,idxV) in enumerate( skf.split(filtered_full,filtered_full[labels].values)):\n",
    "    filtered_full['fold'][idxV] = fold"
   ]
  },
  {
   "cell_type": "code",
   "execution_count": 9,
   "metadata": {},
   "outputs": [
    {
     "name": "stdout",
     "output_type": "stream",
     "text": [
      "(17773, 26)\n"
     ]
    },
    {
     "data": {
      "text/html": [
       "<div>\n",
       "<style scoped>\n",
       "    .dataframe tbody tr th:only-of-type {\n",
       "        vertical-align: middle;\n",
       "    }\n",
       "\n",
       "    .dataframe tbody tr th {\n",
       "        vertical-align: top;\n",
       "    }\n",
       "\n",
       "    .dataframe thead th {\n",
       "        text-align: right;\n",
       "    }\n",
       "</style>\n",
       "<table border=\"1\" class=\"dataframe\">\n",
       "  <thead>\n",
       "    <tr style=\"text-align: right;\">\n",
       "      <th></th>\n",
       "      <th>Unnamed: 0</th>\n",
       "      <th>ID</th>\n",
       "      <th>Label</th>\n",
       "      <th>0</th>\n",
       "      <th>1</th>\n",
       "      <th>2</th>\n",
       "      <th>3</th>\n",
       "      <th>4</th>\n",
       "      <th>5</th>\n",
       "      <th>6</th>\n",
       "      <th>...</th>\n",
       "      <th>13</th>\n",
       "      <th>14</th>\n",
       "      <th>15</th>\n",
       "      <th>16</th>\n",
       "      <th>17</th>\n",
       "      <th>18</th>\n",
       "      <th>fold</th>\n",
       "      <th>total_cell_mask</th>\n",
       "      <th>selected_cells</th>\n",
       "      <th>is_single</th>\n",
       "    </tr>\n",
       "  </thead>\n",
       "  <tbody>\n",
       "    <tr>\n",
       "      <th>0</th>\n",
       "      <td>0</td>\n",
       "      <td>5c27f04c-bb99-11e8-b2b9-ac1f6b6435d0</td>\n",
       "      <td>8|5|0</td>\n",
       "      <td>1</td>\n",
       "      <td>0</td>\n",
       "      <td>0</td>\n",
       "      <td>0</td>\n",
       "      <td>0</td>\n",
       "      <td>1</td>\n",
       "      <td>0</td>\n",
       "      <td>...</td>\n",
       "      <td>0</td>\n",
       "      <td>0</td>\n",
       "      <td>0</td>\n",
       "      <td>0</td>\n",
       "      <td>0</td>\n",
       "      <td>0</td>\n",
       "      <td>2</td>\n",
       "      <td>8</td>\n",
       "      <td>7</td>\n",
       "      <td>NaN</td>\n",
       "    </tr>\n",
       "    <tr>\n",
       "      <th>1</th>\n",
       "      <td>1</td>\n",
       "      <td>5fb643ee-bb99-11e8-b2b9-ac1f6b6435d0</td>\n",
       "      <td>14|0</td>\n",
       "      <td>1</td>\n",
       "      <td>0</td>\n",
       "      <td>0</td>\n",
       "      <td>0</td>\n",
       "      <td>0</td>\n",
       "      <td>0</td>\n",
       "      <td>0</td>\n",
       "      <td>...</td>\n",
       "      <td>0</td>\n",
       "      <td>1</td>\n",
       "      <td>0</td>\n",
       "      <td>0</td>\n",
       "      <td>0</td>\n",
       "      <td>0</td>\n",
       "      <td>1</td>\n",
       "      <td>15</td>\n",
       "      <td>15</td>\n",
       "      <td>NaN</td>\n",
       "    </tr>\n",
       "    <tr>\n",
       "      <th>2</th>\n",
       "      <td>2</td>\n",
       "      <td>60b57878-bb99-11e8-b2b9-ac1f6b6435d0</td>\n",
       "      <td>6|1</td>\n",
       "      <td>0</td>\n",
       "      <td>1</td>\n",
       "      <td>0</td>\n",
       "      <td>0</td>\n",
       "      <td>0</td>\n",
       "      <td>0</td>\n",
       "      <td>1</td>\n",
       "      <td>...</td>\n",
       "      <td>0</td>\n",
       "      <td>0</td>\n",
       "      <td>0</td>\n",
       "      <td>0</td>\n",
       "      <td>0</td>\n",
       "      <td>0</td>\n",
       "      <td>2</td>\n",
       "      <td>17</td>\n",
       "      <td>16</td>\n",
       "      <td>NaN</td>\n",
       "    </tr>\n",
       "    <tr>\n",
       "      <th>3</th>\n",
       "      <td>3</td>\n",
       "      <td>5c1a898e-bb99-11e8-b2b9-ac1f6b6435d0</td>\n",
       "      <td>16|10</td>\n",
       "      <td>0</td>\n",
       "      <td>0</td>\n",
       "      <td>0</td>\n",
       "      <td>0</td>\n",
       "      <td>0</td>\n",
       "      <td>0</td>\n",
       "      <td>0</td>\n",
       "      <td>...</td>\n",
       "      <td>0</td>\n",
       "      <td>0</td>\n",
       "      <td>0</td>\n",
       "      <td>1</td>\n",
       "      <td>0</td>\n",
       "      <td>0</td>\n",
       "      <td>0</td>\n",
       "      <td>17</td>\n",
       "      <td>17</td>\n",
       "      <td>NaN</td>\n",
       "    </tr>\n",
       "    <tr>\n",
       "      <th>4</th>\n",
       "      <td>5</td>\n",
       "      <td>5e22a522-bb99-11e8-b2b9-ac1f6b6435d0</td>\n",
       "      <td>0</td>\n",
       "      <td>1</td>\n",
       "      <td>0</td>\n",
       "      <td>0</td>\n",
       "      <td>0</td>\n",
       "      <td>0</td>\n",
       "      <td>0</td>\n",
       "      <td>0</td>\n",
       "      <td>...</td>\n",
       "      <td>0</td>\n",
       "      <td>0</td>\n",
       "      <td>0</td>\n",
       "      <td>0</td>\n",
       "      <td>0</td>\n",
       "      <td>0</td>\n",
       "      <td>0</td>\n",
       "      <td>10</td>\n",
       "      <td>9</td>\n",
       "      <td>NaN</td>\n",
       "    </tr>\n",
       "  </tbody>\n",
       "</table>\n",
       "<p>5 rows × 26 columns</p>\n",
       "</div>"
      ],
      "text/plain": [
       "   Unnamed: 0                                    ID  Label  0  1  2  3  4  5  \\\n",
       "0           0  5c27f04c-bb99-11e8-b2b9-ac1f6b6435d0  8|5|0  1  0  0  0  0  1   \n",
       "1           1  5fb643ee-bb99-11e8-b2b9-ac1f6b6435d0   14|0  1  0  0  0  0  0   \n",
       "2           2  60b57878-bb99-11e8-b2b9-ac1f6b6435d0    6|1  0  1  0  0  0  0   \n",
       "3           3  5c1a898e-bb99-11e8-b2b9-ac1f6b6435d0  16|10  0  0  0  0  0  0   \n",
       "4           5  5e22a522-bb99-11e8-b2b9-ac1f6b6435d0      0  1  0  0  0  0  0   \n",
       "\n",
       "   6  ...  13  14  15  16  17  18  fold  total_cell_mask  selected_cells  \\\n",
       "0  0  ...   0   0   0   0   0   0     2                8               7   \n",
       "1  0  ...   0   1   0   0   0   0     1               15              15   \n",
       "2  1  ...   0   0   0   0   0   0     2               17              16   \n",
       "3  0  ...   0   0   0   1   0   0     0               17              17   \n",
       "4  0  ...   0   0   0   0   0   0     0               10               9   \n",
       "\n",
       "   is_single  \n",
       "0        NaN  \n",
       "1        NaN  \n",
       "2        NaN  \n",
       "3        NaN  \n",
       "4        NaN  \n",
       "\n",
       "[5 rows x 26 columns]"
      ]
     },
     "execution_count": 9,
     "metadata": {},
     "output_type": "execute_result"
    }
   ],
   "source": [
    "print(filtered_full.shape)\n",
    "filtered_full.head()"
   ]
  },
  {
   "cell_type": "code",
   "execution_count": 10,
   "metadata": {},
   "outputs": [],
   "source": [
    "filtered_full = filtered_full.drop(['Unnamed: 0'], axis = 1)\n",
    "filtered_full.to_csv('../data/train_fold_v4.csv', index = False)"
   ]
  },
  {
   "cell_type": "markdown",
   "metadata": {},
   "source": [
    "# further increasing the data to all"
   ]
  },
  {
   "cell_type": "code",
   "execution_count": 11,
   "metadata": {},
   "outputs": [],
   "source": [
    "train_df = pd.read_csv('../data/cell_mask_study_30000.csv')\n",
    "\n",
    "filtered_full = train_df[(train_df['selected_cells'] >4) ] \n",
    "\n"
   ]
  },
  {
   "cell_type": "code",
   "execution_count": 12,
   "metadata": {},
   "outputs": [
    {
     "name": "stderr",
     "output_type": "stream",
     "text": [
      "/usr/local/lib/python3.6/dist-packages/sklearn/utils/validation.py:72: FutureWarning: Pass shuffle=True, random_state=1 as keyword args. From version 1.0 (renaming of 0.25) passing these as positional arguments will result in an error\n",
      "  \"will result in an error\", FutureWarning)\n",
      "/usr/local/lib/python3.6/dist-packages/ipykernel_launcher.py:15: SettingWithCopyWarning: \n",
      "A value is trying to be set on a copy of a slice from a DataFrame\n",
      "\n",
      "See the caveats in the documentation: https://pandas.pydata.org/pandas-docs/stable/user_guide/indexing.html#returning-a-view-versus-a-copy\n",
      "  from ipykernel import kernelapp as app\n"
     ]
    }
   ],
   "source": [
    "from iterstrat.ml_stratifiers import MultilabelStratifiedKFold\n",
    "\n",
    "SEED = 1\n",
    "FOLDS = 3\n",
    "\n",
    "labels = [str(i) for i in range(19)]\n",
    "\n",
    "filtered_full = filtered_full.reset_index(drop = True)\n",
    "\n",
    "skf = MultilabelStratifiedKFold(n_splits=FOLDS, shuffle=True, \n",
    "          random_state=SEED)\n",
    "\n",
    "filtered_full['fold'] = -1\n",
    "for fold,(idxT,idxV) in enumerate( skf.split(filtered_full,filtered_full[labels].values)):\n",
    "    filtered_full['fold'][idxV] = fold"
   ]
  },
  {
   "cell_type": "code",
   "execution_count": 13,
   "metadata": {},
   "outputs": [
    {
     "name": "stdout",
     "output_type": "stream",
     "text": [
      "(21754, 25)\n"
     ]
    }
   ],
   "source": [
    "print(filtered_full.shape)\n",
    "filtered_full.head()\n",
    "filtered_full = filtered_full.drop(['Unnamed: 0'], axis = 1)\n",
    "filtered_full.to_csv('../data/train_fold_v5.csv', index = False)"
   ]
  },
  {
   "cell_type": "markdown",
   "metadata": {},
   "source": [
    "## removing duplicates from the csv "
   ]
  },
  {
   "cell_type": "code",
   "execution_count": 66,
   "metadata": {},
   "outputs": [
    {
     "data": {
      "text/html": [
       "<div>\n",
       "<style scoped>\n",
       "    .dataframe tbody tr th:only-of-type {\n",
       "        vertical-align: middle;\n",
       "    }\n",
       "\n",
       "    .dataframe tbody tr th {\n",
       "        vertical-align: top;\n",
       "    }\n",
       "\n",
       "    .dataframe thead th {\n",
       "        text-align: right;\n",
       "    }\n",
       "</style>\n",
       "<table border=\"1\" class=\"dataframe\">\n",
       "  <thead>\n",
       "    <tr style=\"text-align: right;\">\n",
       "      <th></th>\n",
       "      <th>image1</th>\n",
       "      <th>image2</th>\n",
       "      <th>score</th>\n",
       "    </tr>\n",
       "  </thead>\n",
       "  <tbody>\n",
       "    <tr>\n",
       "      <th>0</th>\n",
       "      <td>641a0682-bbb7-11e8-b2ba-ac1f6b6435d0</td>\n",
       "      <td>2be24582-bbb1-11e8-b2ba-ac1f6b6435d0</td>\n",
       "      <td>0</td>\n",
       "    </tr>\n",
       "    <tr>\n",
       "      <th>1</th>\n",
       "      <td>c9c5e154-bb9e-11e8-b2b9-ac1f6b6435d0</td>\n",
       "      <td>8d1222cc-bbb2-11e8-b2ba-ac1f6b6435d0</td>\n",
       "      <td>4</td>\n",
       "    </tr>\n",
       "    <tr>\n",
       "      <th>2</th>\n",
       "      <td>ef9a8a30-bbc9-11e8-b2bc-ac1f6b6435d0</td>\n",
       "      <td>1d02911a-bba8-11e8-b2ba-ac1f6b6435d0</td>\n",
       "      <td>8</td>\n",
       "    </tr>\n",
       "    <tr>\n",
       "      <th>3</th>\n",
       "      <td>d5bb3b2a-bb9f-11e8-b2b9-ac1f6b6435d0</td>\n",
       "      <td>938dd144-bbb4-11e8-b2ba-ac1f6b6435d0</td>\n",
       "      <td>0</td>\n",
       "    </tr>\n",
       "    <tr>\n",
       "      <th>4</th>\n",
       "      <td>9f31c1e4-bbc4-11e8-b2bc-ac1f6b6435d0</td>\n",
       "      <td>8ddc608a-bbb4-11e8-b2ba-ac1f6b6435d0</td>\n",
       "      <td>8</td>\n",
       "    </tr>\n",
       "  </tbody>\n",
       "</table>\n",
       "</div>"
      ],
      "text/plain": [
       "                                 image1                                image2  \\\n",
       "0  641a0682-bbb7-11e8-b2ba-ac1f6b6435d0  2be24582-bbb1-11e8-b2ba-ac1f6b6435d0   \n",
       "1  c9c5e154-bb9e-11e8-b2b9-ac1f6b6435d0  8d1222cc-bbb2-11e8-b2ba-ac1f6b6435d0   \n",
       "2  ef9a8a30-bbc9-11e8-b2bc-ac1f6b6435d0  1d02911a-bba8-11e8-b2ba-ac1f6b6435d0   \n",
       "3  d5bb3b2a-bb9f-11e8-b2b9-ac1f6b6435d0  938dd144-bbb4-11e8-b2ba-ac1f6b6435d0   \n",
       "4  9f31c1e4-bbc4-11e8-b2bc-ac1f6b6435d0  8ddc608a-bbb4-11e8-b2ba-ac1f6b6435d0   \n",
       "\n",
       "   score  \n",
       "0      0  \n",
       "1      4  \n",
       "2      8  \n",
       "3      0  \n",
       "4      8  "
      ]
     },
     "execution_count": 66,
     "metadata": {},
     "output_type": "execute_result"
    }
   ],
   "source": [
    "## lets load the csv \n",
    "hpa_duplicates = pd.read_csv('../data/hpa_duplicates.csv')\n",
    "train_df = pd.read_csv('../data/train.csv')\n",
    "hpa_duplicates.head()"
   ]
  },
  {
   "cell_type": "code",
   "execution_count": 68,
   "metadata": {},
   "outputs": [
    {
     "name": "stdout",
     "output_type": "stream",
     "text": [
      "(21806, 2)\n"
     ]
    },
    {
     "data": {
      "text/html": [
       "<div>\n",
       "<style scoped>\n",
       "    .dataframe tbody tr th:only-of-type {\n",
       "        vertical-align: middle;\n",
       "    }\n",
       "\n",
       "    .dataframe tbody tr th {\n",
       "        vertical-align: top;\n",
       "    }\n",
       "\n",
       "    .dataframe thead th {\n",
       "        text-align: right;\n",
       "    }\n",
       "</style>\n",
       "<table border=\"1\" class=\"dataframe\">\n",
       "  <thead>\n",
       "    <tr style=\"text-align: right;\">\n",
       "      <th></th>\n",
       "      <th>ID</th>\n",
       "      <th>Label</th>\n",
       "    </tr>\n",
       "  </thead>\n",
       "  <tbody>\n",
       "    <tr>\n",
       "      <th>0</th>\n",
       "      <td>5c27f04c-bb99-11e8-b2b9-ac1f6b6435d0</td>\n",
       "      <td>8|5|0</td>\n",
       "    </tr>\n",
       "    <tr>\n",
       "      <th>1</th>\n",
       "      <td>5fb643ee-bb99-11e8-b2b9-ac1f6b6435d0</td>\n",
       "      <td>14|0</td>\n",
       "    </tr>\n",
       "    <tr>\n",
       "      <th>2</th>\n",
       "      <td>60b57878-bb99-11e8-b2b9-ac1f6b6435d0</td>\n",
       "      <td>6|1</td>\n",
       "    </tr>\n",
       "    <tr>\n",
       "      <th>3</th>\n",
       "      <td>5c1a898e-bb99-11e8-b2b9-ac1f6b6435d0</td>\n",
       "      <td>16|10</td>\n",
       "    </tr>\n",
       "    <tr>\n",
       "      <th>4</th>\n",
       "      <td>5b931256-bb99-11e8-b2b9-ac1f6b6435d0</td>\n",
       "      <td>14|0</td>\n",
       "    </tr>\n",
       "  </tbody>\n",
       "</table>\n",
       "</div>"
      ],
      "text/plain": [
       "                                     ID  Label\n",
       "0  5c27f04c-bb99-11e8-b2b9-ac1f6b6435d0  8|5|0\n",
       "1  5fb643ee-bb99-11e8-b2b9-ac1f6b6435d0   14|0\n",
       "2  60b57878-bb99-11e8-b2b9-ac1f6b6435d0    6|1\n",
       "3  5c1a898e-bb99-11e8-b2b9-ac1f6b6435d0  16|10\n",
       "4  5b931256-bb99-11e8-b2b9-ac1f6b6435d0   14|0"
      ]
     },
     "execution_count": 68,
     "metadata": {},
     "output_type": "execute_result"
    }
   ],
   "source": [
    "print(train_df.shape)\n",
    "train_df.head()"
   ]
  },
  {
   "cell_type": "code",
   "execution_count": 58,
   "metadata": {},
   "outputs": [],
   "source": [
    "hpa_duplicate_score_0 = hpa_duplicates[hpa_duplicates['score']==0]"
   ]
  },
  {
   "cell_type": "code",
   "execution_count": 62,
   "metadata": {},
   "outputs": [
    {
     "data": {
      "text/plain": [
       "(94, 3)"
      ]
     },
     "execution_count": 62,
     "metadata": {},
     "output_type": "execute_result"
    }
   ],
   "source": [
    "hpa_duplicate_score_0.shape"
   ]
  },
  {
   "cell_type": "code",
   "execution_count": 89,
   "metadata": {
    "scrolled": true
   },
   "outputs": [],
   "source": [
    "img1_vals = train_df[train_df['ID'].isin(hpa_duplicate_score_0['image1'].values)][['ID','Label']]\n",
    "img2_vals = train_df[train_df['ID'].isin(hpa_duplicate_score_0['image2'].values)][['ID','Label']]"
   ]
  },
  {
   "cell_type": "code",
   "execution_count": 100,
   "metadata": {
    "scrolled": true
   },
   "outputs": [],
   "source": [
    "img1_vals = img1_vals.rename(columns = {'ID':'image1','Label':'img1_label'})\n",
    "img2_vals = img2_vals.rename(columns = {'ID':'image2','Label':'img2_label'})"
   ]
  },
  {
   "cell_type": "code",
   "execution_count": 101,
   "metadata": {},
   "outputs": [
    {
     "data": {
      "text/html": [
       "<div>\n",
       "<style scoped>\n",
       "    .dataframe tbody tr th:only-of-type {\n",
       "        vertical-align: middle;\n",
       "    }\n",
       "\n",
       "    .dataframe tbody tr th {\n",
       "        vertical-align: top;\n",
       "    }\n",
       "\n",
       "    .dataframe thead th {\n",
       "        text-align: right;\n",
       "    }\n",
       "</style>\n",
       "<table border=\"1\" class=\"dataframe\">\n",
       "  <thead>\n",
       "    <tr style=\"text-align: right;\">\n",
       "      <th></th>\n",
       "      <th>image2</th>\n",
       "      <th>img2_label</th>\n",
       "    </tr>\n",
       "  </thead>\n",
       "  <tbody>\n",
       "    <tr>\n",
       "      <th>104</th>\n",
       "      <td>938c28a0-bb99-11e8-b2b9-ac1f6b6435d0</td>\n",
       "      <td>9|2|13</td>\n",
       "    </tr>\n",
       "    <tr>\n",
       "      <th>466</th>\n",
       "      <td>61690e8c-bb9a-11e8-b2b9-ac1f6b6435d0</td>\n",
       "      <td>2</td>\n",
       "    </tr>\n",
       "    <tr>\n",
       "      <th>906</th>\n",
       "      <td>54737086-bb9b-11e8-b2b9-ac1f6b6435d0</td>\n",
       "      <td>2|0</td>\n",
       "    </tr>\n",
       "    <tr>\n",
       "      <th>1363</th>\n",
       "      <td>6f896e06-bb9c-11e8-b2b9-ac1f6b6435d0</td>\n",
       "      <td>5</td>\n",
       "    </tr>\n",
       "    <tr>\n",
       "      <th>1375</th>\n",
       "      <td>79161d98-bb9c-11e8-b2b9-ac1f6b6435d0</td>\n",
       "      <td>7|0</td>\n",
       "    </tr>\n",
       "  </tbody>\n",
       "</table>\n",
       "</div>"
      ],
      "text/plain": [
       "                                    image2 img2_label\n",
       "104   938c28a0-bb99-11e8-b2b9-ac1f6b6435d0     9|2|13\n",
       "466   61690e8c-bb9a-11e8-b2b9-ac1f6b6435d0          2\n",
       "906   54737086-bb9b-11e8-b2b9-ac1f6b6435d0        2|0\n",
       "1363  6f896e06-bb9c-11e8-b2b9-ac1f6b6435d0          5\n",
       "1375  79161d98-bb9c-11e8-b2b9-ac1f6b6435d0        7|0"
      ]
     },
     "execution_count": 101,
     "metadata": {},
     "output_type": "execute_result"
    }
   ],
   "source": [
    "img2_vals.head()"
   ]
  },
  {
   "cell_type": "code",
   "execution_count": 103,
   "metadata": {},
   "outputs": [],
   "source": [
    "hpa_duplicate_score_0 = hpa_duplicate_score_0.merge(img1_vals, on='image1')\n",
    "hpa_duplicate_score_0 = hpa_duplicate_score_0.merge(img2_vals, on='image2')"
   ]
  },
  {
   "cell_type": "code",
   "execution_count": 105,
   "metadata": {},
   "outputs": [],
   "source": [
    "hpa_duplicate_score_0.to_csv('../data/hpa_duplicates_0.csv')"
   ]
  },
  {
   "cell_type": "markdown",
   "metadata": {},
   "source": [
    "### now we will increase this 20 to 35. lets see how this improved my model\n",
    "we will remove the duplicate images before doing the the extraction steps"
   ]
  },
  {
   "cell_type": "code",
   "execution_count": 108,
   "metadata": {},
   "outputs": [
    {
     "name": "stdout",
     "output_type": "stream",
     "text": [
      "repeting samples  (94, 3)\n",
      "ful train df  (21806, 25)\n",
      "removed train df  (21715, 25)\n"
     ]
    },
    {
     "name": "stderr",
     "output_type": "stream",
     "text": [
      "/usr/local/lib/python3.6/dist-packages/ipykernel_launcher.py:16: SettingWithCopyWarning: \n",
      "A value is trying to be set on a copy of a slice from a DataFrame.\n",
      "Try using .loc[row_indexer,col_indexer] = value instead\n",
      "\n",
      "See the caveats in the documentation: https://pandas.pydata.org/pandas-docs/stable/user_guide/indexing.html#returning-a-view-versus-a-copy\n",
      "  app.launch_new_instance()\n"
     ]
    }
   ],
   "source": [
    "train_df = pd.read_csv('../data/cell_mask_study_30000.csv')\n",
    "hpa_duplicates = pd.read_csv('../data/hpa_duplicates.csv')\n",
    "hpa_duplicate_score_0 = hpa_duplicates[hpa_duplicates['score']==0]\n",
    "print('repeting samples ',hpa_duplicate_score_0.shape)\n",
    "print('ful train df ',train_df.shape)\n",
    "train_df = train_df[~train_df['ID'].isin(hpa_duplicate_score_0['image2'].values)]#[['ID','Label']]\n",
    "print('removed train df ',train_df.shape)\n",
    "\n",
    "\n",
    "TOP = 36\n",
    "\n",
    "filtered_df_13_less = train_df[(train_df['selected_cells'] >4) & (train_df['selected_cells'] < TOP)] \n",
    "\n",
    "\n",
    "filtered_13_high = train_df[train_df['selected_cells'] >=TOP]\n",
    "filtered_13_high['is_single'] = filtered_13_high[[str(i) for i in range(0,18)]].apply(np.sum, axis=1)\n",
    "filtered_13_high_single_class = filtered_13_high[filtered_13_high['is_single'] ==1]\n",
    "\n",
    "filtered_full = pd.concat([filtered_df_13_less, filtered_13_high_single_class])\n",
    "\n"
   ]
  },
  {
   "cell_type": "code",
   "execution_count": 109,
   "metadata": {},
   "outputs": [
    {
     "name": "stderr",
     "output_type": "stream",
     "text": [
      "/usr/local/lib/python3.6/dist-packages/sklearn/utils/validation.py:72: FutureWarning: Pass shuffle=True, random_state=1 as keyword args. From version 1.0 (renaming of 0.25) passing these as positional arguments will result in an error\n",
      "  \"will result in an error\", FutureWarning)\n",
      "/usr/local/lib/python3.6/dist-packages/ipykernel_launcher.py:15: SettingWithCopyWarning: \n",
      "A value is trying to be set on a copy of a slice from a DataFrame\n",
      "\n",
      "See the caveats in the documentation: https://pandas.pydata.org/pandas-docs/stable/user_guide/indexing.html#returning-a-view-versus-a-copy\n",
      "  from ipykernel import kernelapp as app\n"
     ]
    }
   ],
   "source": [
    "from iterstrat.ml_stratifiers import MultilabelStratifiedKFold\n",
    "\n",
    "SEED = 1\n",
    "FOLDS = 5\n",
    "\n",
    "labels = [str(i) for i in range(19)]\n",
    "\n",
    "filtered_full = filtered_full.reset_index(drop = True)\n",
    "\n",
    "skf = MultilabelStratifiedKFold(n_splits=FOLDS, shuffle=True, \n",
    "          random_state=SEED)\n",
    "\n",
    "filtered_full['fold'] = -1\n",
    "for fold,(idxT,idxV) in enumerate( skf.split(filtered_full,filtered_full[labels].values)):\n",
    "    filtered_full['fold'][idxV] = fold"
   ]
  },
  {
   "cell_type": "code",
   "execution_count": 110,
   "metadata": {},
   "outputs": [
    {
     "name": "stdout",
     "output_type": "stream",
     "text": [
      "(20523, 26)\n"
     ]
    }
   ],
   "source": [
    "print(filtered_full.shape)\n",
    "filtered_full.head()\n",
    "\n",
    "filtered_full = filtered_full.drop(['Unnamed: 0'], axis = 1)\n",
    "filtered_full.to_csv('../data/train_fold_v6.csv', index = False)"
   ]
  },
  {
   "cell_type": "markdown",
   "metadata": {},
   "source": [
    "### now we will increase this 35 to 50. lets see how this improved my model\n",
    "we will remove the duplicate images before doing the the extraction steps"
   ]
  },
  {
   "cell_type": "code",
   "execution_count": 114,
   "metadata": {},
   "outputs": [
    {
     "name": "stdout",
     "output_type": "stream",
     "text": [
      "repeting samples  (94, 3)\n",
      "ful train df  (21806, 25)\n",
      "removed train df  (21715, 25)\n"
     ]
    },
    {
     "name": "stderr",
     "output_type": "stream",
     "text": [
      "/usr/local/lib/python3.6/dist-packages/ipykernel_launcher.py:16: SettingWithCopyWarning: \n",
      "A value is trying to be set on a copy of a slice from a DataFrame.\n",
      "Try using .loc[row_indexer,col_indexer] = value instead\n",
      "\n",
      "See the caveats in the documentation: https://pandas.pydata.org/pandas-docs/stable/user_guide/indexing.html#returning-a-view-versus-a-copy\n",
      "  app.launch_new_instance()\n",
      "/usr/local/lib/python3.6/dist-packages/sklearn/utils/validation.py:72: FutureWarning: Pass shuffle=True, random_state=1 as keyword args. From version 1.0 (renaming of 0.25) passing these as positional arguments will result in an error\n",
      "  \"will result in an error\", FutureWarning)\n"
     ]
    },
    {
     "name": "stdout",
     "output_type": "stream",
     "text": [
      "(21414, 26)\n"
     ]
    },
    {
     "name": "stderr",
     "output_type": "stream",
     "text": [
      "/usr/local/lib/python3.6/dist-packages/ipykernel_launcher.py:35: SettingWithCopyWarning: \n",
      "A value is trying to be set on a copy of a slice from a DataFrame\n",
      "\n",
      "See the caveats in the documentation: https://pandas.pydata.org/pandas-docs/stable/user_guide/indexing.html#returning-a-view-versus-a-copy\n"
     ]
    }
   ],
   "source": [
    "train_df = pd.read_csv('../data/cell_mask_study_30000.csv')\n",
    "hpa_duplicates = pd.read_csv('../data/hpa_duplicates.csv')\n",
    "hpa_duplicate_score_0 = hpa_duplicates[hpa_duplicates['score']==0]\n",
    "print('repeting samples ',hpa_duplicate_score_0.shape)\n",
    "print('ful train df ',train_df.shape)\n",
    "train_df = train_df[~train_df['ID'].isin(hpa_duplicate_score_0['image2'].values)]#[['ID','Label']]\n",
    "print('removed train df ',train_df.shape)\n",
    "\n",
    "\n",
    "TOP = 51\n",
    "\n",
    "filtered_df_13_less = train_df[(train_df['selected_cells'] >4) & (train_df['selected_cells'] < TOP)] \n",
    "\n",
    "\n",
    "filtered_13_high = train_df[train_df['selected_cells'] >=TOP]\n",
    "filtered_13_high['is_single'] = filtered_13_high[[str(i) for i in range(0,18)]].apply(np.sum, axis=1)\n",
    "filtered_13_high_single_class = filtered_13_high[filtered_13_high['is_single'] ==1]\n",
    "\n",
    "filtered_full = pd.concat([filtered_df_13_less, filtered_13_high_single_class])\n",
    "\n",
    "from iterstrat.ml_stratifiers import MultilabelStratifiedKFold\n",
    "\n",
    "SEED = 1\n",
    "FOLDS = 5\n",
    "\n",
    "labels = [str(i) for i in range(19)]\n",
    "\n",
    "filtered_full = filtered_full.reset_index(drop = True)\n",
    "\n",
    "skf = MultilabelStratifiedKFold(n_splits=FOLDS, shuffle=True, \n",
    "          random_state=SEED)\n",
    "\n",
    "filtered_full['fold'] = -1\n",
    "for fold,(idxT,idxV) in enumerate( skf.split(filtered_full,filtered_full[labels].values)):\n",
    "    filtered_full['fold'][idxV] = fold\n",
    "    \n",
    "print(filtered_full.shape)\n",
    "filtered_full.head()\n",
    "\n",
    "filtered_full = filtered_full.drop(['Unnamed: 0'], axis = 1)\n",
    "filtered_full.to_csv('../data/train_fold_v7.csv', index = False)"
   ]
  }
 ],
 "metadata": {
  "kernelspec": {
   "display_name": "Python 3",
   "language": "python",
   "name": "python3"
  },
  "language_info": {
   "codemirror_mode": {
    "name": "ipython",
    "version": 3
   },
   "file_extension": ".py",
   "mimetype": "text/x-python",
   "name": "python",
   "nbconvert_exporter": "python",
   "pygments_lexer": "ipython3",
   "version": "3.6.9"
  }
 },
 "nbformat": 4,
 "nbformat_minor": 4
}
